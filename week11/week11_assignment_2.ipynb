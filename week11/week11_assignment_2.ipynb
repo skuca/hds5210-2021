{
 "cells": [
  {
   "cell_type": "markdown",
   "metadata": {
    "nbgrader": {
     "grade": false,
     "grade_id": "intro",
     "locked": true,
     "schema_version": 1,
     "solution": false
    }
   },
   "source": [
    "# Week 11 Assignment\n",
    "\n",
    "# PART 1 - Pivoting Data for Fun!\n",
    "\n",
    "In this exercise, we're going to work with data about condemned buildings in St. Louis.  This data set is in `/data/condemn.txt` in CSV format."
   ]
  },
  {
   "cell_type": "markdown",
   "metadata": {
    "nbgrader": {
     "grade": false,
     "grade_id": "q1-intro",
     "locked": true,
     "schema_version": 1,
     "solution": false
    }
   },
   "source": [
    "## STEP 1: Load and Filter data\n",
    "\n",
    "For this analysis, we want to look only at a relevent range of years and only years that are in teh past.  So, let's first take a look at the data between 1986 and 2014 (inclusive of those dates).\n",
    "\n",
    "At the end of this step, you should have a data frame loaded from the condemnations file and filtered down to only the data between 1986 and 2014.  Put that into a dataframe named `condemnations`\n",
    "\n",
    "**Some helpful notes:**\n",
    "* Use the columns `InspectDate` to filter this date range"
   ]
  },
  {
   "cell_type": "code",
   "execution_count": null,
   "metadata": {
    "nbgrader": {
     "grade": false,
     "grade_id": "q1-solution",
     "locked": false,
     "schema_version": 1,
     "solution": true
    }
   },
   "outputs": [],
   "source": [
    "%matplotlib inline\n",
    "import pandas as pd\n",
    "\n",
    "condemnations = pd.read_csv('/data/condemn.txt')\n",
    "condemnations.shape"
   ]
  },
  {
   "cell_type": "code",
   "execution_count": null,
   "metadata": {},
   "outputs": [],
   "source": [
    "condemnations.columns[[2,8,35,36]]"
   ]
  },
  {
   "cell_type": "code",
   "execution_count": null,
   "metadata": {},
   "outputs": [],
   "source": [
    "condemnations = pd.read_csv('/data/condemn.txt', converters={\n",
    "    'AddrAdjusted': str,\n",
    "    'AddrNum': str,\n",
    "    'Inspector': str,\n",
    "    'Images': str\n",
    "})\n",
    "condemnations.columns"
   ]
  },
  {
   "cell_type": "code",
   "execution_count": null,
   "metadata": {},
   "outputs": [],
   "source": [
    "condemnations['InspectDate'].head()"
   ]
  },
  {
   "cell_type": "code",
   "execution_count": null,
   "metadata": {},
   "outputs": [],
   "source": [
    "date_filter = (condemnations['InspectDate'].str[0:4] >= '1986') & (condemnations['InspectDate'].str[0:4] <= '2014')"
   ]
  },
  {
   "cell_type": "code",
   "execution_count": null,
   "metadata": {},
   "outputs": [],
   "source": [
    "date_filter.value_counts()"
   ]
  },
  {
   "cell_type": "code",
   "execution_count": null,
   "metadata": {},
   "outputs": [],
   "source": [
    "condemnations = condemnations[date_filter]"
   ]
  },
  {
   "cell_type": "code",
   "execution_count": null,
   "metadata": {
    "nbgrader": {
     "grade": true,
     "grade_id": "q1-tests",
     "locked": true,
     "points": 6,
     "schema_version": 1,
     "solution": false
    }
   },
   "outputs": [],
   "source": [
    "assert(condemnations.shape == (30232, 40))\n",
    "assert(len(condemnations[condemnations['InspectDate'] < '1986'])==0)\n",
    "assert(len(condemnations[condemnations['InspectDate'] >= '2015'])==0)"
   ]
  },
  {
   "cell_type": "markdown",
   "metadata": {
    "nbgrader": {
     "grade": false,
     "grade_id": "q2-intro",
     "locked": true,
     "schema_version": 1,
     "solution": false
    }
   },
   "source": [
    "## STEP 2: Pivot and Summarize\n",
    "\n",
    "In this step we want to pivot our data so that we have one row per year, a column for each value that appears in the `Status` column, and a count of how many condemnations occurred of each type in each year.  Put your summary pivot table into a variable called `by_year`.\n",
    "\n",
    "**Some helpful notes:**\n",
    "* For some reason, Pandas is just kind of stubborn about count being the aggregate function.  You may need to tell it to `np.ma.count` specifically.  I've imported Numpy as np for you."
   ]
  },
  {
   "cell_type": "code",
   "execution_count": null,
   "metadata": {
    "nbgrader": {
     "grade": false,
     "grade_id": "q2-solution",
     "locked": false,
     "schema_version": 1,
     "solution": true
    }
   },
   "outputs": [],
   "source": [
    "import numpy as np\n",
    "\n",
    "condemnations['Year'] = condemnations['InspectDate'].str[0:4]\n",
    "by_year = pd.pivot_table(condemnations,\n",
    "    values='AcctNum',\n",
    "    columns='Status',\n",
    "    index='Year',\n",
    "    aggfunc='count')"
   ]
  },
  {
   "cell_type": "code",
   "execution_count": null,
   "metadata": {},
   "outputs": [],
   "source": [
    "by_year"
   ]
  },
  {
   "cell_type": "code",
   "execution_count": null,
   "metadata": {
    "nbgrader": {
     "grade": true,
     "grade_id": "q2-tests",
     "locked": true,
     "points": 6,
     "schema_version": 1,
     "solution": false
    }
   },
   "outputs": [],
   "source": [
    "assert(by_year.shape == (29, 4))\n",
    "assert(list(by_year.columns) == ['B', 'L', 'R', 'W'])\n",
    "assert(list(by_year.sum()) == [10572, 4966, 98, 9670])"
   ]
  },
  {
   "cell_type": "code",
   "execution_count": null,
   "metadata": {},
   "outputs": [],
   "source": [
    "by_year"
   ]
  },
  {
   "cell_type": "markdown",
   "metadata": {
    "nbgrader": {
     "grade": false,
     "grade_id": "q3-intro",
     "locked": true,
     "schema_version": 1,
     "solution": false
    }
   },
   "source": [
    "## STEP 3: Plot and see what you see\n",
    "\n",
    "Use Pandas built-in plotting capabilities to visualize this information in way that you think makes sense.  It might be that plotting a simple multi-series line chart would give you some insights.  Show your plot in the cell below, then use the text cell below that to write a few sentences about what you see.\n"
   ]
  },
  {
   "cell_type": "code",
   "execution_count": null,
   "metadata": {
    "nbgrader": {
     "grade": true,
     "grade_id": "q3-manual",
     "locked": false,
     "points": 5,
     "schema_version": 1,
     "solution": true
    }
   },
   "outputs": [],
   "source": [
    "%matplotlib inline\n",
    "by_year.plot()"
   ]
  },
  {
   "cell_type": "markdown",
   "metadata": {},
   "source": [
    "---"
   ]
  },
  {
   "cell_type": "markdown",
   "metadata": {},
   "source": [
    "# PART 2 - Video Conference Usage\n",
    "\n",
    "In this next part of the assignment, we'll be looking at how video conference usage has change for my company over the past couple of months.  This real data.  Please don't judge anyone based on the information here.  ;)\n",
    "\n",
    "For the assignment, I want you to compare (by person) the number of meetings hosted by each user for the last two weeks of February and the last two weeks of March.  This might be a little complicated to think through HOW to do that, so the steps below are one approach.\n",
    "\n",
    "1. Create a new column called startDate that contains just the day part of the startTime column in the data.  You can do that using datetime functions if you want, but you'll notice that the date in this file is a string formatted YYYY-MM-DD-HH:mm:ss, so it's probably easier just to pull out the first 10 characters of the string instead.  `meetings['startTime'].str[0:10]`\n",
    "2. Create another new column.  This one should contain a label like \"BEFORE\" for the week 2/17 - 2/28 and \"DURING\" for the week of 3/16 - 3/27.  A hand tip on this is that you can set values for some rows in a data frame using `meetings.loc[row_filter,'Column Name'] = 'Value'` if you've created a `row_filter` as we discussed in prior weeks.\n",
    "3. From here, using `pivot_table()` is one good way to summarize the information.\n",
    "\n",
    "**FINAL RESULT**\n",
    "\n",
    "For a final result, I'd like you to produce a data frame named **summary** that contains:\n",
    "* One ROW for each userName.  The userName can either be the row index or a column in the data frame.\n",
    "* One COLUMN for the \"BEFORE\" week and one COLUMN for the \"DURING\" week.  Name those columns 'Before' and 'During'.\n",
    "* One more calculated column that shows the percent increase from BEFORE to DURING.  Name that column 'pctChange'.\n"
   ]
  },
  {
   "cell_type": "code",
   "execution_count": 1,
   "metadata": {},
   "outputs": [
    {
     "data": {
      "text/plain": [
       "Index(['meeting_uuid', 'meetingTitle', 'meetingId', 'userName', 'user_id',\n",
       "       'user_tags', 'endTime', 'startTime', 'email', 'participantSeconds',\n",
       "       'joinDate', 'joinWeek', 'joinMonth', 'participants',\n",
       "       'participantMinutes', 'meetingDurationMinutes', 'popId', 'userType',\n",
       "       'billable', 'moderatorLess', 'start_time', 'total_highlights_created',\n",
       "       'smart_meeting', 'transcription_used',\n",
       "       'total_transcription_duration_minutes'],\n",
       "      dtype='object')"
      ]
     },
     "execution_count": 1,
     "metadata": {},
     "output_type": "execute_result"
    }
   ],
   "source": [
    "import pandas as pd\n",
    "import numpy as np\n",
    "meetings = pd.read_csv('/data/meetings.csv')\n",
    "meetings\n",
    "meetings.dtypes\n",
    "meetings.columns\n",
    "\n",
    "\n",
    "\n"
   ]
  },
  {
   "cell_type": "code",
   "execution_count": 2,
   "metadata": {},
   "outputs": [
    {
     "data": {
      "text/html": [
       "<div>\n",
       "<style scoped>\n",
       "    .dataframe tbody tr th:only-of-type {\n",
       "        vertical-align: middle;\n",
       "    }\n",
       "\n",
       "    .dataframe tbody tr th {\n",
       "        vertical-align: top;\n",
       "    }\n",
       "\n",
       "    .dataframe thead th {\n",
       "        text-align: right;\n",
       "    }\n",
       "</style>\n",
       "<table border=\"1\" class=\"dataframe\">\n",
       "  <thead>\n",
       "    <tr style=\"text-align: right;\">\n",
       "      <th></th>\n",
       "      <th>userName</th>\n",
       "      <th>startTime</th>\n",
       "    </tr>\n",
       "  </thead>\n",
       "  <tbody>\n",
       "    <tr>\n",
       "      <th>0</th>\n",
       "      <td>chris.rogers.amitechsolutions</td>\n",
       "      <td>2020-03-31 21:00:22</td>\n",
       "    </tr>\n",
       "    <tr>\n",
       "      <th>1</th>\n",
       "      <td>Drew.Marco</td>\n",
       "      <td>2020-03-31 20:58:41</td>\n",
       "    </tr>\n",
       "    <tr>\n",
       "      <th>2</th>\n",
       "      <td>eric.keeney</td>\n",
       "      <td>2020-03-31 20:57:51</td>\n",
       "    </tr>\n",
       "    <tr>\n",
       "      <th>3</th>\n",
       "      <td>amit.bhagat</td>\n",
       "      <td>2020-03-31 20:34:43</td>\n",
       "    </tr>\n",
       "    <tr>\n",
       "      <th>4</th>\n",
       "      <td>andrea.bryant.amitechsolutions</td>\n",
       "      <td>2020-03-31 20:30:02</td>\n",
       "    </tr>\n",
       "    <tr>\n",
       "      <th>...</th>\n",
       "      <td>...</td>\n",
       "      <td>...</td>\n",
       "    </tr>\n",
       "    <tr>\n",
       "      <th>1183</th>\n",
       "      <td>eric.keeney</td>\n",
       "      <td>2020-01-02 15:28:08</td>\n",
       "    </tr>\n",
       "    <tr>\n",
       "      <th>1184</th>\n",
       "      <td>jeff.hatfield.amitechsolutions</td>\n",
       "      <td>2020-01-02 15:01:32</td>\n",
       "    </tr>\n",
       "    <tr>\n",
       "      <th>1185</th>\n",
       "      <td>jennifer.patton.amitechs</td>\n",
       "      <td>2020-01-02 14:56:32</td>\n",
       "    </tr>\n",
       "    <tr>\n",
       "      <th>1186</th>\n",
       "      <td>jeff.hatfield.amitechsolutions</td>\n",
       "      <td>2020-01-02 14:22:28</td>\n",
       "    </tr>\n",
       "    <tr>\n",
       "      <th>1187</th>\n",
       "      <td>paul.smith.amitechsolutions</td>\n",
       "      <td>2020-01-02 14:14:12</td>\n",
       "    </tr>\n",
       "  </tbody>\n",
       "</table>\n",
       "<p>1188 rows × 2 columns</p>\n",
       "</div>"
      ],
      "text/plain": [
       "                            userName            startTime\n",
       "0      chris.rogers.amitechsolutions  2020-03-31 21:00:22\n",
       "1                         Drew.Marco  2020-03-31 20:58:41\n",
       "2                        eric.keeney  2020-03-31 20:57:51\n",
       "3                        amit.bhagat  2020-03-31 20:34:43\n",
       "4     andrea.bryant.amitechsolutions  2020-03-31 20:30:02\n",
       "...                              ...                  ...\n",
       "1183                     eric.keeney  2020-01-02 15:28:08\n",
       "1184  jeff.hatfield.amitechsolutions  2020-01-02 15:01:32\n",
       "1185        jennifer.patton.amitechs  2020-01-02 14:56:32\n",
       "1186  jeff.hatfield.amitechsolutions  2020-01-02 14:22:28\n",
       "1187     paul.smith.amitechsolutions  2020-01-02 14:14:12\n",
       "\n",
       "[1188 rows x 2 columns]"
      ]
     },
     "execution_count": 2,
     "metadata": {},
     "output_type": "execute_result"
    }
   ],
   "source": [
    "meetings=meetings[['userName', 'startTime']]\n",
    "meetings"
   ]
  },
  {
   "cell_type": "code",
   "execution_count": 3,
   "metadata": {},
   "outputs": [],
   "source": [
    "from datetime import datetime, timedelta"
   ]
  },
  {
   "cell_type": "code",
   "execution_count": 4,
   "metadata": {},
   "outputs": [],
   "source": [
    "meetings['startDate']= meetings['startTime'].str[0:10]\n",
    " \n",
    "\n",
    "\n",
    "#meetings['endTime', \"startTime\", \"joinDate\", \"joinWeek\", \"start_time\" ]= pd.to_datetime(meetings[\"endTime\", \"startTime\", \"joinDate\", \"joinWeek\", \"start_time\"], format=\"%Y/%m/%d, %H:%M:%S\")\n",
    "#meetings['endTime' ]= pd.to_datetime(meetings[\"endTime\"], format=\"%Y/%m/%d, %H:%M:%S\")"
   ]
  },
  {
   "cell_type": "code",
   "execution_count": 5,
   "metadata": {},
   "outputs": [
    {
     "data": {
      "text/html": [
       "<div>\n",
       "<style scoped>\n",
       "    .dataframe tbody tr th:only-of-type {\n",
       "        vertical-align: middle;\n",
       "    }\n",
       "\n",
       "    .dataframe tbody tr th {\n",
       "        vertical-align: top;\n",
       "    }\n",
       "\n",
       "    .dataframe thead th {\n",
       "        text-align: right;\n",
       "    }\n",
       "</style>\n",
       "<table border=\"1\" class=\"dataframe\">\n",
       "  <thead>\n",
       "    <tr style=\"text-align: right;\">\n",
       "      <th></th>\n",
       "      <th>userName</th>\n",
       "      <th>startTime</th>\n",
       "      <th>startDate</th>\n",
       "    </tr>\n",
       "  </thead>\n",
       "  <tbody>\n",
       "    <tr>\n",
       "      <th>0</th>\n",
       "      <td>chris.rogers.amitechsolutions</td>\n",
       "      <td>2020-03-31 21:00:22</td>\n",
       "      <td>2020-03-31</td>\n",
       "    </tr>\n",
       "    <tr>\n",
       "      <th>1</th>\n",
       "      <td>Drew.Marco</td>\n",
       "      <td>2020-03-31 20:58:41</td>\n",
       "      <td>2020-03-31</td>\n",
       "    </tr>\n",
       "    <tr>\n",
       "      <th>2</th>\n",
       "      <td>eric.keeney</td>\n",
       "      <td>2020-03-31 20:57:51</td>\n",
       "      <td>2020-03-31</td>\n",
       "    </tr>\n",
       "    <tr>\n",
       "      <th>3</th>\n",
       "      <td>amit.bhagat</td>\n",
       "      <td>2020-03-31 20:34:43</td>\n",
       "      <td>2020-03-31</td>\n",
       "    </tr>\n",
       "    <tr>\n",
       "      <th>4</th>\n",
       "      <td>andrea.bryant.amitechsolutions</td>\n",
       "      <td>2020-03-31 20:30:02</td>\n",
       "      <td>2020-03-31</td>\n",
       "    </tr>\n",
       "    <tr>\n",
       "      <th>...</th>\n",
       "      <td>...</td>\n",
       "      <td>...</td>\n",
       "      <td>...</td>\n",
       "    </tr>\n",
       "    <tr>\n",
       "      <th>1183</th>\n",
       "      <td>eric.keeney</td>\n",
       "      <td>2020-01-02 15:28:08</td>\n",
       "      <td>2020-01-02</td>\n",
       "    </tr>\n",
       "    <tr>\n",
       "      <th>1184</th>\n",
       "      <td>jeff.hatfield.amitechsolutions</td>\n",
       "      <td>2020-01-02 15:01:32</td>\n",
       "      <td>2020-01-02</td>\n",
       "    </tr>\n",
       "    <tr>\n",
       "      <th>1185</th>\n",
       "      <td>jennifer.patton.amitechs</td>\n",
       "      <td>2020-01-02 14:56:32</td>\n",
       "      <td>2020-01-02</td>\n",
       "    </tr>\n",
       "    <tr>\n",
       "      <th>1186</th>\n",
       "      <td>jeff.hatfield.amitechsolutions</td>\n",
       "      <td>2020-01-02 14:22:28</td>\n",
       "      <td>2020-01-02</td>\n",
       "    </tr>\n",
       "    <tr>\n",
       "      <th>1187</th>\n",
       "      <td>paul.smith.amitechsolutions</td>\n",
       "      <td>2020-01-02 14:14:12</td>\n",
       "      <td>2020-01-02</td>\n",
       "    </tr>\n",
       "  </tbody>\n",
       "</table>\n",
       "<p>1188 rows × 3 columns</p>\n",
       "</div>"
      ],
      "text/plain": [
       "                            userName            startTime  startDate\n",
       "0      chris.rogers.amitechsolutions  2020-03-31 21:00:22 2020-03-31\n",
       "1                         Drew.Marco  2020-03-31 20:58:41 2020-03-31\n",
       "2                        eric.keeney  2020-03-31 20:57:51 2020-03-31\n",
       "3                        amit.bhagat  2020-03-31 20:34:43 2020-03-31\n",
       "4     andrea.bryant.amitechsolutions  2020-03-31 20:30:02 2020-03-31\n",
       "...                              ...                  ...        ...\n",
       "1183                     eric.keeney  2020-01-02 15:28:08 2020-01-02\n",
       "1184  jeff.hatfield.amitechsolutions  2020-01-02 15:01:32 2020-01-02\n",
       "1185        jennifer.patton.amitechs  2020-01-02 14:56:32 2020-01-02\n",
       "1186  jeff.hatfield.amitechsolutions  2020-01-02 14:22:28 2020-01-02\n",
       "1187     paul.smith.amitechsolutions  2020-01-02 14:14:12 2020-01-02\n",
       "\n",
       "[1188 rows x 3 columns]"
      ]
     },
     "execution_count": 5,
     "metadata": {},
     "output_type": "execute_result"
    }
   ],
   "source": [
    "meetings['startDate']=pd.to_datetime(meetings['startDate'])\n",
    "meetings"
   ]
  },
  {
   "cell_type": "code",
   "execution_count": 6,
   "metadata": {},
   "outputs": [
    {
     "data": {
      "text/html": [
       "<div>\n",
       "<style scoped>\n",
       "    .dataframe tbody tr th:only-of-type {\n",
       "        vertical-align: middle;\n",
       "    }\n",
       "\n",
       "    .dataframe tbody tr th {\n",
       "        vertical-align: top;\n",
       "    }\n",
       "\n",
       "    .dataframe thead th {\n",
       "        text-align: right;\n",
       "    }\n",
       "</style>\n",
       "<table border=\"1\" class=\"dataframe\">\n",
       "  <thead>\n",
       "    <tr style=\"text-align: right;\">\n",
       "      <th></th>\n",
       "      <th>userName</th>\n",
       "      <th>startTime</th>\n",
       "      <th>startDate</th>\n",
       "    </tr>\n",
       "  </thead>\n",
       "  <tbody>\n",
       "    <tr>\n",
       "      <th>59</th>\n",
       "      <td>angie.warren</td>\n",
       "      <td>2020-03-27 22:00:23</td>\n",
       "      <td>2020-03-27</td>\n",
       "    </tr>\n",
       "    <tr>\n",
       "      <th>60</th>\n",
       "      <td>Drew.Marco</td>\n",
       "      <td>2020-03-27 20:58:29</td>\n",
       "      <td>2020-03-27</td>\n",
       "    </tr>\n",
       "    <tr>\n",
       "      <th>61</th>\n",
       "      <td>paul.boal</td>\n",
       "      <td>2020-03-27 20:29:51</td>\n",
       "      <td>2020-03-27</td>\n",
       "    </tr>\n",
       "    <tr>\n",
       "      <th>62</th>\n",
       "      <td>shawn.reilly.amitechsolutions</td>\n",
       "      <td>2020-03-27 19:56:12</td>\n",
       "      <td>2020-03-27</td>\n",
       "    </tr>\n",
       "    <tr>\n",
       "      <th>63</th>\n",
       "      <td>amit.bhagat</td>\n",
       "      <td>2020-03-27 19:53:30</td>\n",
       "      <td>2020-03-27</td>\n",
       "    </tr>\n",
       "    <tr>\n",
       "      <th>...</th>\n",
       "      <td>...</td>\n",
       "      <td>...</td>\n",
       "      <td>...</td>\n",
       "    </tr>\n",
       "    <tr>\n",
       "      <th>332</th>\n",
       "      <td>tejus.maduskar</td>\n",
       "      <td>2020-03-16 14:13:29</td>\n",
       "      <td>2020-03-16</td>\n",
       "    </tr>\n",
       "    <tr>\n",
       "      <th>333</th>\n",
       "      <td>michael.demos</td>\n",
       "      <td>2020-03-16 14:06:32</td>\n",
       "      <td>2020-03-16</td>\n",
       "    </tr>\n",
       "    <tr>\n",
       "      <th>334</th>\n",
       "      <td>tejus.maduskar</td>\n",
       "      <td>2020-03-16 13:45:15</td>\n",
       "      <td>2020-03-16</td>\n",
       "    </tr>\n",
       "    <tr>\n",
       "      <th>335</th>\n",
       "      <td>raghavender.tuniki</td>\n",
       "      <td>2020-03-16 13:31:15</td>\n",
       "      <td>2020-03-16</td>\n",
       "    </tr>\n",
       "    <tr>\n",
       "      <th>336</th>\n",
       "      <td>eric.keeney</td>\n",
       "      <td>2020-03-16 13:13:55</td>\n",
       "      <td>2020-03-16</td>\n",
       "    </tr>\n",
       "  </tbody>\n",
       "</table>\n",
       "<p>278 rows × 3 columns</p>\n",
       "</div>"
      ],
      "text/plain": [
       "                          userName            startTime  startDate\n",
       "59                    angie.warren  2020-03-27 22:00:23 2020-03-27\n",
       "60                      Drew.Marco  2020-03-27 20:58:29 2020-03-27\n",
       "61                       paul.boal  2020-03-27 20:29:51 2020-03-27\n",
       "62   shawn.reilly.amitechsolutions  2020-03-27 19:56:12 2020-03-27\n",
       "63                     amit.bhagat  2020-03-27 19:53:30 2020-03-27\n",
       "..                             ...                  ...        ...\n",
       "332                 tejus.maduskar  2020-03-16 14:13:29 2020-03-16\n",
       "333                  michael.demos  2020-03-16 14:06:32 2020-03-16\n",
       "334                 tejus.maduskar  2020-03-16 13:45:15 2020-03-16\n",
       "335             raghavender.tuniki  2020-03-16 13:31:15 2020-03-16\n",
       "336                    eric.keeney  2020-03-16 13:13:55 2020-03-16\n",
       "\n",
       "[278 rows x 3 columns]"
      ]
     },
     "execution_count": 6,
     "metadata": {},
     "output_type": "execute_result"
    }
   ],
   "source": [
    "before= meetings[meetings['startDate'].isin(pd.date_range('2020-02-17', '2020-02-28'))]\n",
    "during= meetings[meetings['startDate'].isin(pd.date_range('2020-03-16', '2020-03-27'))]\n",
    "during"
   ]
  },
  {
   "cell_type": "code",
   "execution_count": 7,
   "metadata": {},
   "outputs": [
    {
     "data": {
      "text/plain": [
       "userName\n",
       "Drew.Marco                        12\n",
       "amit.bhagat                       17\n",
       "andrea.bryant.amitechsolutions     5\n",
       "angie.warren                       5\n",
       "chris.rogers.amitechsolutions      4\n",
       "eric.keeney                       15\n",
       "eric.rodman                        4\n",
       "jeff.hatfield.amitechsolutions    13\n",
       "jennifer.patton.amitechs           5\n",
       "jessica.sikora                     3\n",
       "matt.allsup                        5\n",
       "matt.brown.amitechsolutions        1\n",
       "melissa.menne                     10\n",
       "michael.demos                      5\n",
       "paul.boal                         15\n",
       "paul.smith.amitechsolutions       23\n",
       "pete.cornwell                      1\n",
       "raghavender.tuniki                 6\n",
       "sandip.shaw                        9\n",
       "santhosh.kanala                    2\n",
       "shawn.reilly.amitechsolutions      7\n",
       "tejus.maduskar                    12\n",
       "dtype: int64"
      ]
     },
     "execution_count": 7,
     "metadata": {},
     "output_type": "execute_result"
    }
   ],
   "source": [
    "totalB= before.groupby(['userName']).size()\n",
    "#totalB=pd.DataFrame(totalB)\n",
    "totalB\n",
    "#totalB=totalB.rename(columns={0:'NumBefore'})\n",
    "\n",
    "#totalD=during.groupby(['userName']).size()\n",
    "#totalD.totalD.to_frame().reset_index()\n",
    "\n"
   ]
  },
  {
   "cell_type": "code",
   "execution_count": 8,
   "metadata": {},
   "outputs": [
    {
     "data": {
      "text/plain": [
       "userName\n",
       "Drew.Marco                        19\n",
       "amit.bhagat                       30\n",
       "andrea.bryant.amitechsolutions     3\n",
       "angie.warren                       9\n",
       "chris.rogers.amitechsolutions      3\n",
       "eric.keeney                       27\n",
       "eric.rodman                       12\n",
       "jeff.hatfield.amitechsolutions    26\n",
       "jennifer.patton.amitechs           7\n",
       "jessica.sikora                     7\n",
       "matt.brown.amitechsolutions        2\n",
       "melissa.menne                      9\n",
       "michael.demos                     11\n",
       "paul.boal                         35\n",
       "paul.smith.amitechsolutions       10\n",
       "pete.cornwell                      9\n",
       "raghavender.tuniki                 2\n",
       "sandip.shaw                        2\n",
       "santhosh.kanala                    6\n",
       "shawn.reilly.amitechsolutions     10\n",
       "tejus.maduskar                    39\n",
       "dtype: int64"
      ]
     },
     "execution_count": 8,
     "metadata": {},
     "output_type": "execute_result"
    }
   ],
   "source": [
    "totalD=during.groupby(['userName']).size()\n",
    "#totalD.totalD.to_frame().reset_index()\n",
    "#totalD=pd.DataFrame(totalD)\n",
    "#totalD.rename(columns ={'0':'NumDuring'})\n",
    "totalD"
   ]
  },
  {
   "cell_type": "code",
   "execution_count": 23,
   "metadata": {},
   "outputs": [
    {
     "data": {
      "text/html": [
       "<div>\n",
       "<style scoped>\n",
       "    .dataframe tbody tr th:only-of-type {\n",
       "        vertical-align: middle;\n",
       "    }\n",
       "\n",
       "    .dataframe tbody tr th {\n",
       "        vertical-align: top;\n",
       "    }\n",
       "\n",
       "    .dataframe thead th {\n",
       "        text-align: right;\n",
       "    }\n",
       "</style>\n",
       "<table border=\"1\" class=\"dataframe\">\n",
       "  <thead>\n",
       "    <tr style=\"text-align: right;\">\n",
       "      <th></th>\n",
       "      <th>0</th>\n",
       "    </tr>\n",
       "    <tr>\n",
       "      <th>userName</th>\n",
       "      <th></th>\n",
       "    </tr>\n",
       "  </thead>\n",
       "  <tbody>\n",
       "    <tr>\n",
       "      <th>Drew.Marco</th>\n",
       "      <td>0.58</td>\n",
       "    </tr>\n",
       "    <tr>\n",
       "      <th>amit.bhagat</th>\n",
       "      <td>0.76</td>\n",
       "    </tr>\n",
       "    <tr>\n",
       "      <th>andrea.bryant.amitechsolutions</th>\n",
       "      <td>-0.40</td>\n",
       "    </tr>\n",
       "    <tr>\n",
       "      <th>angie.warren</th>\n",
       "      <td>0.80</td>\n",
       "    </tr>\n",
       "    <tr>\n",
       "      <th>chris.rogers.amitechsolutions</th>\n",
       "      <td>-0.25</td>\n",
       "    </tr>\n",
       "    <tr>\n",
       "      <th>eric.keeney</th>\n",
       "      <td>0.80</td>\n",
       "    </tr>\n",
       "    <tr>\n",
       "      <th>eric.rodman</th>\n",
       "      <td>2.00</td>\n",
       "    </tr>\n",
       "    <tr>\n",
       "      <th>jeff.hatfield.amitechsolutions</th>\n",
       "      <td>1.00</td>\n",
       "    </tr>\n",
       "    <tr>\n",
       "      <th>jennifer.patton.amitechs</th>\n",
       "      <td>0.40</td>\n",
       "    </tr>\n",
       "    <tr>\n",
       "      <th>jessica.sikora</th>\n",
       "      <td>1.33</td>\n",
       "    </tr>\n",
       "    <tr>\n",
       "      <th>matt.allsup</th>\n",
       "      <td>NaN</td>\n",
       "    </tr>\n",
       "    <tr>\n",
       "      <th>matt.brown.amitechsolutions</th>\n",
       "      <td>1.00</td>\n",
       "    </tr>\n",
       "    <tr>\n",
       "      <th>melissa.menne</th>\n",
       "      <td>-0.10</td>\n",
       "    </tr>\n",
       "    <tr>\n",
       "      <th>michael.demos</th>\n",
       "      <td>1.20</td>\n",
       "    </tr>\n",
       "    <tr>\n",
       "      <th>paul.boal</th>\n",
       "      <td>1.33</td>\n",
       "    </tr>\n",
       "    <tr>\n",
       "      <th>paul.smith.amitechsolutions</th>\n",
       "      <td>-0.57</td>\n",
       "    </tr>\n",
       "    <tr>\n",
       "      <th>pete.cornwell</th>\n",
       "      <td>8.00</td>\n",
       "    </tr>\n",
       "    <tr>\n",
       "      <th>raghavender.tuniki</th>\n",
       "      <td>-0.67</td>\n",
       "    </tr>\n",
       "    <tr>\n",
       "      <th>sandip.shaw</th>\n",
       "      <td>-0.78</td>\n",
       "    </tr>\n",
       "    <tr>\n",
       "      <th>santhosh.kanala</th>\n",
       "      <td>2.00</td>\n",
       "    </tr>\n",
       "    <tr>\n",
       "      <th>shawn.reilly.amitechsolutions</th>\n",
       "      <td>0.43</td>\n",
       "    </tr>\n",
       "    <tr>\n",
       "      <th>tejus.maduskar</th>\n",
       "      <td>2.25</td>\n",
       "    </tr>\n",
       "  </tbody>\n",
       "</table>\n",
       "</div>"
      ],
      "text/plain": [
       "                                   0\n",
       "userName                            \n",
       "Drew.Marco                      0.58\n",
       "amit.bhagat                     0.76\n",
       "andrea.bryant.amitechsolutions -0.40\n",
       "angie.warren                    0.80\n",
       "chris.rogers.amitechsolutions  -0.25\n",
       "eric.keeney                     0.80\n",
       "eric.rodman                     2.00\n",
       "jeff.hatfield.amitechsolutions  1.00\n",
       "jennifer.patton.amitechs        0.40\n",
       "jessica.sikora                  1.33\n",
       "matt.allsup                      NaN\n",
       "matt.brown.amitechsolutions     1.00\n",
       "melissa.menne                  -0.10\n",
       "michael.demos                   1.20\n",
       "paul.boal                       1.33\n",
       "paul.smith.amitechsolutions    -0.57\n",
       "pete.cornwell                   8.00\n",
       "raghavender.tuniki             -0.67\n",
       "sandip.shaw                    -0.78\n",
       "santhosh.kanala                 2.00\n",
       "shawn.reilly.amitechsolutions   0.43\n",
       "tejus.maduskar                  2.25"
      ]
     },
     "execution_count": 23,
     "metadata": {},
     "output_type": "execute_result"
    }
   ],
   "source": [
    "\n",
    "pctChange=(totalD-totalB)/totalB\n",
    "pctChange\n",
    "pctChange.round(2)\n",
    "pctChange=pctChange.round(2)\n",
    "pctChange"
   ]
  },
  {
   "cell_type": "code",
   "execution_count": 24,
   "metadata": {},
   "outputs": [],
   "source": [
    "totalD=pd.DataFrame(totalD)\n",
    "totalB=pd.DataFrame(totalB)\n",
    "pctChange=pd.DataFrame(pctChange)"
   ]
  },
  {
   "cell_type": "code",
   "execution_count": 25,
   "metadata": {},
   "outputs": [
    {
     "data": {
      "text/plain": [
       "Index(['Before', 'During', 'pctChange'], dtype='object')"
      ]
     },
     "execution_count": 25,
     "metadata": {},
     "output_type": "execute_result"
    }
   ],
   "source": [
    "summary=pd.merge(totalB, totalD, how='outer', on='userName')\n",
    "summary=summary.merge(pctChange, how='outer', on='userName')\n",
    "#summary.columns['Before', 'During','pctChange']\n",
    "summary.rename(columns={'0_x':'Before', '0_y':'During', '0':'pctChange'}, inplace=True)\n",
    "summary.rename(index={2:'pctChange'})\n",
    "summary.columns=['Before', 'During', 'pctChange']\n",
    "summary=summary.fillna(0)\n",
    "summary.columns"
   ]
  },
  {
   "cell_type": "code",
   "execution_count": 26,
   "metadata": {},
   "outputs": [
    {
     "data": {
      "text/plain": [
       "0.96"
      ]
     },
     "execution_count": 26,
     "metadata": {},
     "output_type": "execute_result"
    }
   ],
   "source": [
    "summary['pctChange'].mean().round(2)"
   ]
  },
  {
   "cell_type": "markdown",
   "metadata": {},
   "source": [
    "---"
   ]
  },
  {
   "cell_type": "code",
   "execution_count": null,
   "metadata": {},
   "outputs": [],
   "source": [
    "assert(len(summary) == 22)"
   ]
  },
  {
   "cell_type": "code",
   "execution_count": null,
   "metadata": {},
   "outputs": [],
   "source": [
    "assert(summary['pctChange'].mean().round(2) == 0.92)"
   ]
  },
  {
   "cell_type": "markdown",
   "metadata": {},
   "source": [
    "---\n",
    "\n",
    "## Submitting Your Work\n",
    "\n",
    "In order to submit your work, you'll need to use the `git` command line program to **add** your homework file (this file) to your local repository, **commit** your changes to your local repository, and then **push** those changes up to github.com.  From there, I'll be able to **pull** the changes down and do my grading.  I'll provide some feedback, **commit** and **push** my comments back to you.  Next week, I'll show you how to **pull** down my comments.\n",
    "\n",
    "To run through everything one last time and submit your work:\n",
    "1. Use the `Kernel` -> `Restart Kernel and Run All Cells` menu option to run everything from top to bottom and stop here.\n",
    "2. Save this note with Ctrl-S (or Cmd-S)\n",
    "2. Skip down to the last command cell (the one starting with `%%bash`) and run that cell.\n",
    "\n",
    "If anything fails along the way with this submission part of the process, let me know.  I'll help you troubleshoort."
   ]
  },
  {
   "cell_type": "code",
   "execution_count": null,
   "metadata": {},
   "outputs": [],
   "source": [
    "assert False, \"DO NOT REMOVE THIS LINE\""
   ]
  },
  {
   "cell_type": "markdown",
   "metadata": {},
   "source": [
    "---"
   ]
  },
  {
   "cell_type": "code",
   "execution_count": 27,
   "metadata": {},
   "outputs": [
    {
     "name": "stdout",
     "output_type": "stream",
     "text": [
      "Already up to date.\n",
      "[main fd96e19] Submitting the week 10 programming assignment\n",
      " 2 files changed, 1160 insertions(+), 6 deletions(-)\n",
      " create mode 100644 week11/week11_assignment_2.ipynb\n"
     ]
    },
    {
     "name": "stderr",
     "output_type": "stream",
     "text": [
      "To github.com:skuca/hds5210-2021.git\n",
      "   ba50eb4..fd96e19  main -> main\n"
     ]
    }
   ],
   "source": [
    "%%bash\n",
    "git pull\n",
    "git add week11_assignment_2.ipynb\n",
    "git commit -a -m \"Submitting the week 10 programming assignment\"\n",
    "git push"
   ]
  },
  {
   "cell_type": "markdown",
   "metadata": {},
   "source": [
    "\n",
    "---\n",
    "\n",
    "If the message above says something like _Submitting the week 8 programming assignment_ or _Everything is up to date_, then your work was submitted correctly."
   ]
  }
 ],
 "metadata": {
  "celltoolbar": "Create Assignment",
  "kernelspec": {
   "display_name": "Python 3",
   "language": "python",
   "name": "python3"
  },
  "language_info": {
   "codemirror_mode": {
    "name": "ipython",
    "version": 3
   },
   "file_extension": ".py",
   "mimetype": "text/x-python",
   "name": "python",
   "nbconvert_exporter": "python",
   "pygments_lexer": "ipython3",
   "version": "3.6.7"
  }
 },
 "nbformat": 4,
 "nbformat_minor": 2
}
