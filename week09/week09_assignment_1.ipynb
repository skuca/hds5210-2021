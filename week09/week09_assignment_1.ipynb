{
 "cells": [
  {
   "cell_type": "markdown",
   "metadata": {},
   "source": [
    "# Week 9 Assignment"
   ]
  },
  {
   "cell_type": "markdown",
   "metadata": {},
   "source": [
    "We had two major areas of discussion this week.  The first was all about how to work with string data - parsing and splitting strings using basic string fuctions as well as more complex string matching using regular expressions.  The second was a basic introduction to Pandas with a few different examples of how to load data into Pandas and then visualize it using graphs (histogram, distribution, scatter, bar, timeseries).\n",
    "\n",
    "Test your knowledge of the content from the lectures through the multiple choice questions below.\n",
    "\n",
    "---\n",
    "---"
   ]
  },
  {
   "cell_type": "markdown",
   "metadata": {},
   "source": [
    "### 36.1 What is the output of the following code?\n",
    "\n",
    "```python\n",
    "print('hi' * 3)\n",
    "```\n",
    "\n",
    "> A) `hihihi`\n",
    ">\n",
    "> B) `hhhiii`\n",
    ">\n",
    "> C) `hi,hi,hi`\n",
    ">\n",
    "> D) `['hi','hi','hi']`"
   ]
  },
  {
   "cell_type": "code",
   "execution_count": 1,
   "metadata": {},
   "outputs": [],
   "source": [
    "answers = {}\n",
    "answers['36.1'] = \"A\""
   ]
  },
  {
   "cell_type": "markdown",
   "metadata": {},
   "source": [
    "### 36.2 What is the result of the code below?\n",
    "```python\n",
    "age=10\n",
    "print('Teddy just turned ' + age)\n",
    "```\n",
    "\n",
    "> A) `Teddy just turned 10`\n",
    ">\n",
    "> B) `Teddy just turned X`\n",
    ">\n",
    "> C) `Teddy just turned Teedy just turned Teedy just turned Teedy just turned Teedy just turned Teedy just turned Teedy just turned Teedy just turned Teedy just turned Teedy just turned`\n",
    ">\n",
    "> D) An error message"
   ]
  },
  {
   "cell_type": "code",
   "execution_count": 2,
   "metadata": {},
   "outputs": [],
   "source": [
    "answers['36.2'] = \"D\""
   ]
  },
  {
   "cell_type": "markdown",
   "metadata": {},
   "source": [
    "### 36.3 How long is the `parts` list that results from the code below?\n",
    "\n",
    "```python\n",
    "parts = \"Now that I'm a data scientist with 1 year of experience, \n",
    "I will have 3,000 new friends!\".split(\", \")\n",
    "```\n",
    "\n",
    "> A) None.  The code will fail.\n",
    ">\n",
    "> B) 2\n",
    ">\n",
    "> C) 3\n",
    "> \n",
    "> D) 4"
   ]
  },
  {
   "cell_type": "code",
   "execution_count": 3,
   "metadata": {},
   "outputs": [],
   "source": [
    "answers['36.3'] = \"B\""
   ]
  },
  {
   "cell_type": "markdown",
   "metadata": {},
   "source": [
    "### 36.4 How long is the `parts` list that results from the subtly different code below?\n",
    "\n",
    "```python\n",
    "parts = \"Now that I'm a data scientist with 1 year of experience, \n",
    "I will have 3,000 new friends!\".split(\",\")\n",
    "```\n",
    "\n",
    "> A) None.  The code will fail.\n",
    ">\n",
    "> B) 2\n",
    ">\n",
    "> C) 3\n",
    "> \n",
    "> D) 4"
   ]
  },
  {
   "cell_type": "code",
   "execution_count": 4,
   "metadata": {},
   "outputs": [],
   "source": [
    "answers['36.4'] = \"C\""
   ]
  },
  {
   "cell_type": "markdown",
   "metadata": {},
   "source": [
    "### 38.1 How do you access a list of all the column names in a data frame?\n",
    "\n",
    "```python\n",
    "data = read_excel('my_file.xlsx')\n",
    "```\n",
    "\n",
    "> A) `len(data)`\n",
    "> \n",
    "> B) `data.shape[0]`\n",
    ">\n",
    "> C) `data.columns`\n",
    ">\n",
    "> D) `data.names`"
   ]
  },
  {
   "cell_type": "code",
   "execution_count": 5,
   "metadata": {},
   "outputs": [],
   "source": [
    "answers['38.1'] = \"C\""
   ]
  },
  {
   "cell_type": "markdown",
   "metadata": {},
   "source": [
    "### 38.2 Can the following data be converted directly to a dataframe?\n",
    "\n",
    "```python\n",
    "names = [\n",
    "    ['Paul','Boal','E'],\n",
    "    ['Eric','Westhus','D'],\n",
    "    ['Bill','Jones','A']\n",
    "]\n",
    "\n",
    "data = pd.DataFrame(names)\n",
    "```\n",
    "\n",
    "> A) True\n",
    ">\n",
    "> B) False"
   ]
  },
  {
   "cell_type": "code",
   "execution_count": 6,
   "metadata": {},
   "outputs": [],
   "source": [
    "answers['38.2'] = \"A\""
   ]
  },
  {
   "cell_type": "markdown",
   "metadata": {},
   "source": [
    "### 38.3 How many rows and columns does the code below produce?\n",
    "```python\n",
    "people = [\n",
    "    { 'first': 'Paul', 'last': 'Boal', 'middle': 'E' },\n",
    "    { 'first': 'Eric', 'last': 'Westhus', 'middle': 'D'},\n",
    "    { 'first': 'Bill', 'last': 'Jones', 'middle': 'A'},\n",
    "    { 'first': 'Walter', 'last': 'Cronkite'},\n",
    "    { 'first': 'Eddie', 'last': 'Murphy'},\n",
    "    { 'first': 'Cher'}\n",
    "]\n",
    "pd.DataFrame(people)\n",
    "```\n",
    "\n",
    "> A) 6 columns, 3 rows\n",
    ">\n",
    "> B) 14 rows, 1 column\n",
    ">\n",
    "> C) 6 rows, 3 columns\n",
    ">\n",
    "> D) Nothing.  It's invalid code."
   ]
  },
  {
   "cell_type": "code",
   "execution_count": 7,
   "metadata": {},
   "outputs": [],
   "source": [
    "answers['38.3'] = \"C\""
   ]
  },
  {
   "cell_type": "markdown",
   "metadata": {},
   "source": [
    "---\n",
    "\n",
    "Checking Your Work\n",
    "---\n",
    "\n",
    "After completing your work above and running each cell, you can check your answers by running the code below. \n",
    "\n",
    "The easiest way to do this is to use the `Kernel` -> `Restart Kernel and Run All Cells` menu option. This option restarts Python and runs every cell from top to bottom until it encounters an exception of some kind.  It will stop after running the cell below and outputing a summary of how many answers you have correct or incorrect.\n"
   ]
  },
  {
   "cell_type": "code",
   "execution_count": 8,
   "metadata": {},
   "outputs": [
    {
     "name": "stdout",
     "output_type": "stream",
     "text": [
      "   Q#               Yours  Correct?\n",
      " 36.1                   A        OK\n",
      " 36.2                   D        OK\n",
      " 36.3                   B        OK\n",
      " 36.4                   C        OK\n",
      " 38.1                   C        OK\n",
      " 38.2                   A        OK\n",
      " 38.3                   C        OK\n"
     ]
    }
   ],
   "source": [
    "import getpass\n",
    "import boto3\n",
    "import json\n",
    "\n",
    "test = {\n",
    "    \"user\": getpass.getuser(),\n",
    "    \"week\": \"week09\",\n",
    "    \"answers\": answers\n",
    "}\n",
    "\n",
    "client = boto3.client('lambda')\n",
    "\n",
    "response = client.invoke(\n",
    "    FunctionName=\"hds5210-2021\",\n",
    "    InvocationType=\"RequestResponse\",\n",
    "    Payload=json.dumps(test))\n",
    "\n",
    "result = json.loads(response['Payload'].read().decode('utf-8'))\n",
    "\n",
    "print('{0:>5}{1:>20}{2:>10}'.format('Q#','Yours','Correct?'))\n",
    "for row in result.get('results'):\n",
    "    print('{0:>5}{1:>20}{2:>10}'.format(str(row[0]),str(row[1]),str(row[2])))\n"
   ]
  },
  {
   "cell_type": "code",
   "execution_count": null,
   "metadata": {},
   "outputs": [],
   "source": []
  },
  {
   "cell_type": "markdown",
   "metadata": {},
   "source": [
    "---\n",
    "\n",
    "## Submitting Your Work\n",
    "\n",
    "In order to submit your work, you'll need to use the `git` command line program to **add** your homework file (this file) to your local repository, **commit** your changes to your local repository, and then **push** those changes up to github.com.  From there, I'll be able to **pull** the changes down and do my grading.  I'll provide some feedback, **commit** and **push** my comments back to you.  The first line of code below will **pull** down my comments into your local folders.\n",
    "\n",
    "To run through everything one last time and submit your work:\n",
    "1. Use the `Kernel` -> `Restart Kernel and Run All Cells` menu option to run everything from top to bottom and stop here.\n",
    "2. Save this note with Ctrl-S (or Cmd-S)\n",
    "2. Skip down to the last command cell (the one starting with `%%bash`) and run that cell.\n",
    "\n",
    "If anything fails along the way with this submission part of the process, let me know.  I'll help you troubleshoort."
   ]
  },
  {
   "cell_type": "code",
   "execution_count": 9,
   "metadata": {},
   "outputs": [
    {
     "ename": "AssertionError",
     "evalue": "DO NOT REMOVE THIS LINE",
     "output_type": "error",
     "traceback": [
      "\u001b[0;31m---------------------------------------------------------------------------\u001b[0m",
      "\u001b[0;31mAssertionError\u001b[0m                            Traceback (most recent call last)",
      "\u001b[0;32m<ipython-input-9-cef8011cb395>\u001b[0m in \u001b[0;36m<module>\u001b[0;34m\u001b[0m\n\u001b[0;32m----> 1\u001b[0;31m \u001b[0;32massert\u001b[0m \u001b[0;32mFalse\u001b[0m\u001b[0;34m,\u001b[0m \u001b[0;34m\"DO NOT REMOVE THIS LINE\"\u001b[0m\u001b[0;34m\u001b[0m\u001b[0;34m\u001b[0m\u001b[0m\n\u001b[0m",
      "\u001b[0;31mAssertionError\u001b[0m: DO NOT REMOVE THIS LINE"
     ]
    }
   ],
   "source": [
    "assert False, \"DO NOT REMOVE THIS LINE\""
   ]
  },
  {
   "cell_type": "markdown",
   "metadata": {},
   "source": [
    "---"
   ]
  },
  {
   "cell_type": "code",
   "execution_count": 10,
   "metadata": {},
   "outputs": [
    {
     "name": "stdout",
     "output_type": "stream",
     "text": [
      "Updating a44cc17..602d87a\n",
      "Fast-forward\n",
      " Week 02/week02_feedback.md        |  7 +++++++\n",
      " Week03/week03_feedback.md         | 12 +++++++++++\n",
      " week 05/feedback.md               |  8 ++++++++\n",
      " week 05/week05_assignment_2.ipynb | 43 +++++++++++++++++++--------------------\n",
      " week06/feedback.md                |  3 +++\n",
      " week07_midterm/feedback.md        |  4 ++++\n",
      " week07_midterm/midterm-2021.ipynb | 40 +++++++++++++++++++++++-------------\n",
      " 7 files changed, 81 insertions(+), 36 deletions(-)\n",
      " create mode 100644 Week 02/week02_feedback.md\n",
      " create mode 100644 Week03/week03_feedback.md\n",
      " create mode 100644 week 05/feedback.md\n",
      " create mode 100644 week06/feedback.md\n",
      " create mode 100644 week07_midterm/feedback.md\n",
      "[main c013c9a] Submitting the week 9 review exercises\n",
      " 2 files changed, 441 insertions(+), 29 deletions(-)\n",
      " create mode 100644 week09/week09_assignment_1.ipynb\n"
     ]
    },
    {
     "name": "stderr",
     "output_type": "stream",
     "text": [
      "From github.com:skuca/hds5210-2021\n",
      "   a44cc17..602d87a  main       -> origin/main\n",
      "To github.com:skuca/hds5210-2021.git\n",
      "   602d87a..c013c9a  main -> main\n"
     ]
    }
   ],
   "source": [
    "%%bash\n",
    "git pull\n",
    "git add week09_assignment_1.ipynb\n",
    "git commit -a -m \"Submitting the week 9 review exercises\"\n",
    "git push"
   ]
  },
  {
   "cell_type": "markdown",
   "metadata": {},
   "source": [
    "\n",
    "---\n",
    "\n",
    "If the message above says something like _Submitting the week 9 review exercises_ or _Everything is up to date_, then your work was submitted correctly."
   ]
  },
  {
   "cell_type": "code",
   "execution_count": null,
   "metadata": {},
   "outputs": [],
   "source": [
    "result"
   ]
  },
  {
   "cell_type": "code",
   "execution_count": null,
   "metadata": {},
   "outputs": [],
   "source": []
  }
 ],
 "metadata": {
  "kernelspec": {
   "display_name": "Python 3",
   "language": "python",
   "name": "python3"
  },
  "language_info": {
   "codemirror_mode": {
    "name": "ipython",
    "version": 3
   },
   "file_extension": ".py",
   "mimetype": "text/x-python",
   "name": "python",
   "nbconvert_exporter": "python",
   "pygments_lexer": "ipython3",
   "version": "3.6.7"
  }
 },
 "nbformat": 4,
 "nbformat_minor": 4
}
