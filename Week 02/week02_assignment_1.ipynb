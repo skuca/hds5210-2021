{
 "cells": [
  {
   "cell_type": "markdown",
   "metadata": {
    "nbgrader": {
     "grade": false,
     "grade_id": "intro",
     "locked": true,
     "schema_version": 1,
     "solution": false
    }
   },
   "source": [
    "# Week 2 Review Exercises\n",
    "\n",
    "_McKinney 2.3_\n",
    "\n",
    "_Modules 4-7_\n",
    "\n",
    "This assignment is to be completed after watching the video lectures for modules 4 - 7.  Please review the content in those modules through Blackboard and then complete the review below as instructed.  When complete, there are instructions at the bottom of the exercise that will allow you to check your work and then submit it via github.com\n",
    "\n",
    "For each of the multiple choice quesitons below, do not change the variable name.  Only change the answer part to match whichever letter or letters are the correct answer.  \n",
    "\n",
    "For example, in the problem below, the correct answer is `D`, so you would provide the answer as show.\n",
    "\n",
    "---\n",
    "```\n",
    "0.1 Instructor's Name\n",
    "The correct spelling of this instructor's last name is:\n",
    " A) Bowl\n",
    " B) Bole\n",
    " C) Boll\n",
    " D) Boal\n",
    "```\n",
    "---\n",
    "```\n",
    "answers[\"0.1\"]=\"D\"\n",
    "```\n",
    "---\n",
    "\n",
    "Do not change anything else or add any other code to this notebook. If you need to do scratch work to determine an answer, create a new notebook and do your work there."
   ]
  },
  {
   "cell_type": "markdown",
   "metadata": {},
   "source": [
    "---\n",
    "\n",
    "---"
   ]
  },
  {
   "cell_type": "markdown",
   "metadata": {},
   "source": [
    "## Part 1: Multiple Choice\n",
    "\n",
    "For the multiple choice questions below, type in the letter of the best answer where indicated.  Contrary to the note above, this section won't tell you if you have the correct answers or not immediately."
   ]
  },
  {
   "cell_type": "markdown",
   "metadata": {},
   "source": [
    "### 1.1 Code Blocks\n",
    "\n",
    "Why is some code in Python indented from other lines of code?\n",
    "> A) To specify that line of code should only be executed if the previous line is True\n",
    ">\n",
    "> B) The programmer can choose when to indent code to make it easier to read\n",
    ">\n",
    "> C) To block code apart to designate it should only be executed at certain times\n",
    ">\n",
    "> D) Indented lines are treated like comments and not executed"
   ]
  },
  {
   "cell_type": "code",
   "execution_count": 1,
   "metadata": {},
   "outputs": [],
   "source": [
    "answers = {}\n",
    "answers[\"1.1\"] = \"C\""
   ]
  },
  {
   "cell_type": "markdown",
   "metadata": {},
   "source": [
    "### 1.2 Python Versions\n",
    "\n",
    "Which statements about Python 2 and Python 3 are true?\n",
    "> A) Python version 2 and version 3 have completely compatible syntax\n",
    ">\n",
    "> B) Any code that runs in Python version 3 will run in version 2\n",
    "> \n",
    "> C) Python version 3 and version 2 packages are compatible\n",
    "> \n",
    "> D) Python version 2 and version 3 have some differences, but are mostly the same"
   ]
  },
  {
   "cell_type": "code",
   "execution_count": 2,
   "metadata": {},
   "outputs": [],
   "source": [
    "answers[\"1.2\"] = \"D\""
   ]
  },
  {
   "cell_type": "markdown",
   "metadata": {},
   "source": [
    "## 1.3 Python Syntax\n",
    "\n",
    "Which other common programming languages does Python look like?\n",
    "> A) C++\n",
    ">\n",
    "> B) Java\n",
    "> \n",
    "> C) JavaScript\n",
    ">\n",
    "> D) None of these"
   ]
  },
  {
   "cell_type": "code",
   "execution_count": 3,
   "metadata": {},
   "outputs": [],
   "source": [
    "answers[\"1.3\"] = \"D\""
   ]
  },
  {
   "cell_type": "markdown",
   "metadata": {},
   "source": [
    "### 2.1 Variables\n",
    "In the scenario below, which statments about the variables `a` and `b` are true.\n",
    "```\n",
    "a = [1, 2, 3]\n",
    "b = a\n",
    "```\n",
    "\n",
    "> A) `a` is a list and `b` is a reference to another variables\n",
    "> \n",
    "> B) `a` and `b` both refer to a list that has three elements\n",
    "> \n",
    "> C) `b` is a copy of `a`\n",
    ">\n",
    "> D) `b` refers to `a` which refers to a list with three elements\n"
   ]
  },
  {
   "cell_type": "code",
   "execution_count": 4,
   "metadata": {},
   "outputs": [],
   "source": [
    "answers[\"2.1\"] = \"B\""
   ]
  },
  {
   "cell_type": "markdown",
   "metadata": {},
   "source": [
    "### 2.2 Variable Names\n",
    "\n",
    "Which of the following is **NOT** true about how you should name variables?\n",
    "\n",
    "> A) Variable names should be as short as possible\n",
    "> \n",
    "> B) Variable names can use abbreviations\n",
    ">\n",
    "> C) Variable names should be readable by humans\n",
    ">\n",
    "> D) Variable names represent a kind of documentation"
   ]
  },
  {
   "cell_type": "code",
   "execution_count": 5,
   "metadata": {},
   "outputs": [],
   "source": [
    "answers[\"2.2\"] = \"A\""
   ]
  },
  {
   "cell_type": "markdown",
   "metadata": {},
   "source": [
    "### 2.3 Why Use Variables\n",
    "\n",
    "Based on the purpose and best practices for using variables in Python, which of the following lines of code represents the best use of variables?  The code in the example below is used to convert degrees Farenheit to degress Celsius.\n",
    "\n",
    "> A) `v2 = (v1 - 32) * 5/9`\n",
    ">\n",
    "> D) `temp_c = (temp_f - 32) * 5/9`\n",
    ">\n",
    "> B) `tempcelsius = (tempfarenheit - 32) * 5/9`\n",
    ">\n",
    "> C) `temp-celsius = (temp-farenheight - 32) * 5/9`"
   ]
  },
  {
   "cell_type": "code",
   "execution_count": 6,
   "metadata": {},
   "outputs": [],
   "source": [
    "answers[\"2.3\"] = \"D\""
   ]
  },
  {
   "cell_type": "markdown",
   "metadata": {},
   "source": [
    "### 3.1 Built-in Types\n",
    "\n",
    "Which of the following are NOT standard built-in data types in Python.  Put your answer inside parentheses as shown here: `answer = (\"X\", \"Y\", \"Z\")` \n",
    "\n",
    "> A) bool\n",
    ">\n",
    "> B) datetime\n",
    ">\n",
    "> C) decimal\n",
    ">\n",
    "> D) float\n",
    ">\n",
    "> E) int\n",
    ">\n",
    "> F) timestamp\n",
    ">\n",
    "> G) None\n"
   ]
  },
  {
   "cell_type": "code",
   "execution_count": 7,
   "metadata": {},
   "outputs": [],
   "source": [
    "answers[\"3.1\"] = (\"F\",\"C\", \"B\")"
   ]
  },
  {
   "cell_type": "markdown",
   "metadata": {},
   "source": [
    "### 3.2 Strings\n",
    "\n",
    "Which is the proper way to create a multi-line string in a Python program?\n",
    "\n",
    "> A) Place `#` characters at the beginning of each line of the string\n",
    ">\n",
    "> B) Start the string with a `'` or `\"` and then indent all of the subsquent lines until you place a `'` or `\"` at the end of the multi-line string\n",
    ">\n",
    "> C) Place triple-quotes (`'''` or `\"\"\"`) on the first line and last line of the multi-line string\n",
    ">\n",
    "> D) You can't create multi-line strings in Python"
   ]
  },
  {
   "cell_type": "code",
   "execution_count": 8,
   "metadata": {},
   "outputs": [],
   "source": [
    "answers[\"3.2\"] = \"C\""
   ]
  },
  {
   "cell_type": "markdown",
   "metadata": {},
   "source": [
    "### 3.3 Combining Data\n",
    "\n",
    "Which of the following is not a valid operation?\n",
    "\n",
    "> A) `'This is a ' + \"complete sentence.\"`\n",
    ">\n",
    "> B) `'She is ' + 93 + ' years old.'`\n",
    ">\n",
    "> C) `\"Repeat this! \" * 4`\n",
    ">\n",
    "> D) `3.14 * 7`"
   ]
  },
  {
   "cell_type": "code",
   "execution_count": 9,
   "metadata": {},
   "outputs": [],
   "source": [
    "answers[\"3.3\"] = \"B\""
   ]
  },
  {
   "cell_type": "markdown",
   "metadata": {},
   "source": [
    "### 4.1 Math\n",
    "\n",
    "What will be the output of the following lines of code?  (Yes, I know that you can easily copy and paste this into another notebook and run it.  Please try to reason through it!)\n",
    "\n",
    "```python\n",
    "temp_c = 100\n",
    "temp_f = temp_c * 9//5 + 32\n",
    "temp_f\n",
    "```\n",
    "\n",
    "> A) 212\n",
    ">\n",
    "> B) 132\n",
    ">\n",
    "> C) 32\n",
    "> \n",
    "> D) 98.6"
   ]
  },
  {
   "cell_type": "code",
   "execution_count": 10,
   "metadata": {},
   "outputs": [],
   "source": [
    "answers[\"4.1\"] = \"A\""
   ]
  },
  {
   "cell_type": "markdown",
   "metadata": {},
   "source": [
    "### 4.2 Yummy pi\n",
    "\n",
    "Which code represents the proper way to represent the mathematical expression $pi^2$ ?\n",
    "\n",
    "> A) `pi^2`\n",
    ">\n",
    "> B) `pi x pi`\n",
    ">\n",
    "> C) `pi ** 2`\n",
    ">\n",
    "> D| `pi | 2`"
   ]
  },
  {
   "cell_type": "code",
   "execution_count": 11,
   "metadata": {},
   "outputs": [],
   "source": [
    "answers[\"4.2\"] = \"C\""
   ]
  },
  {
   "cell_type": "markdown",
   "metadata": {},
   "source": [
    "---\n",
    "\n",
    "Checking Your Work\n",
    "---\n",
    "\n",
    "After completing your work above and running each cell, you can check your answers by running the code below. \n",
    "\n",
    "The easiest way to do this is to use the `Kernel` -> `Restart Kernel and Run All Cells` menu option. This option restarts Python and runs every cell from top to bottom until it encounters an exception of some kind.  It will stop after running the cell below and outputing a summary of how many answers you have correct or incorrect.\n"
   ]
  },
  {
   "cell_type": "code",
   "execution_count": 12,
   "metadata": {},
   "outputs": [
    {
     "name": "stdout",
     "output_type": "stream",
     "text": [
      "   Q#               Yours  Correct?\n",
      "  1.1                   C        OK\n",
      "  1.2                   D        OK\n",
      "  1.3                   D        OK\n",
      "  2.1                   B        OK\n",
      "  2.2                   A        OK\n",
      "  2.3                   D        OK\n",
      "  3.1     ['F', 'C', 'B']        OK\n",
      "  3.2                   C        OK\n",
      "  3.3                   B        OK\n",
      "  4.1                   A        OK\n",
      "  4.2                   C        OK\n"
     ]
    }
   ],
   "source": [
    "import getpass\n",
    "import boto3\n",
    "import json\n",
    "\n",
    "test = {\n",
    "    \"user\": getpass.getuser(),\n",
    "    \"week\": \"week01\",\n",
    "    \"answers\": answers\n",
    "}\n",
    "\n",
    "client = boto3.client('lambda')\n",
    "\n",
    "response = client.invoke(\n",
    "    FunctionName=\"hds5210-2021\",\n",
    "    InvocationType=\"RequestResponse\",\n",
    "    Payload=json.dumps(test))\n",
    "\n",
    "result = json.loads(response['Payload'].read().decode('utf-8'))\n",
    "\n",
    "print('{0:>5}{1:>20}{2:>10}'.format('Q#','Yours','Correct?'))\n",
    "for row in result.get('results'):\n",
    "    print('{0:>5}{1:>20}{2:>10}'.format(str(row[0]),str(row[1]),str(row[2])))\n"
   ]
  },
  {
   "cell_type": "markdown",
   "metadata": {},
   "source": [
    "---\n",
    "\n",
    "## Submitting Your Work\n",
    "\n",
    "In order to submit your work, you'll need to use the `git` command line program to **add** your homework file (this file) to your local repository, **commit** your changes to your local repository, and then **push** those changes up to github.com.  From there, I'll be able to **pull** the changes down and do my grading.  I'll provide some feedback, **commit** and **push** my comments back to you.  Next week, I'll show you how to **pull** down my comments.\n",
    "\n",
    "To run through everything one last time and submit your work:\n",
    "1. Use the `Kernel` -> `Restart Kernel and Run All Cells` menu option to run everything from top to bottom and stop here.\n",
    "2. Save this note with Ctrl-S (or Cmd-S)\n",
    "2. Skip down to the last command cell (the one starting with `%%bash`) and run that cell.\n",
    "\n",
    "If anything fails along the way with this submission part of the process, let me know.  I'll help you troubleshoort."
   ]
  },
  {
   "cell_type": "code",
   "execution_count": 13,
   "metadata": {},
   "outputs": [
    {
     "ename": "AssertionError",
     "evalue": "DO NOT REMOVE THIS LINE",
     "output_type": "error",
     "traceback": [
      "\u001b[0;31m---------------------------------------------------------------------------\u001b[0m",
      "\u001b[0;31mAssertionError\u001b[0m                            Traceback (most recent call last)",
      "\u001b[0;32m<ipython-input-13-cef8011cb395>\u001b[0m in \u001b[0;36m<module>\u001b[0;34m\u001b[0m\n\u001b[0;32m----> 1\u001b[0;31m \u001b[0;32massert\u001b[0m \u001b[0;32mFalse\u001b[0m\u001b[0;34m,\u001b[0m \u001b[0;34m\"DO NOT REMOVE THIS LINE\"\u001b[0m\u001b[0;34m\u001b[0m\u001b[0;34m\u001b[0m\u001b[0m\n\u001b[0m",
      "\u001b[0;31mAssertionError\u001b[0m: DO NOT REMOVE THIS LINE"
     ]
    }
   ],
   "source": [
    "assert False, \"DO NOT REMOVE THIS LINE\""
   ]
  },
  {
   "cell_type": "markdown",
   "metadata": {},
   "source": [
    "---"
   ]
  },
  {
   "cell_type": "code",
   "execution_count": null,
   "metadata": {},
   "outputs": [],
   "source": [
    "%%bash\n",
    "git add week02_assignment_1.ipynb\n",
    "git commit -a -m \"Submitting the week 2 review exercises\"\n",
    "git push"
   ]
  },
  {
   "cell_type": "markdown",
   "metadata": {},
   "source": [
    "\n",
    "---\n",
    "\n",
    "If the message above says something like _Submitting the week 2 review exercises_ or _Everything is up to date_, then your work was submitted correctly."
   ]
  },
  {
   "cell_type": "code",
   "execution_count": null,
   "metadata": {},
   "outputs": [],
   "source": []
  }
 ],
 "metadata": {
  "celltoolbar": "Create Assignment",
  "kernelspec": {
   "display_name": "Python 3",
   "language": "python",
   "name": "python3"
  },
  "language_info": {
   "codemirror_mode": {
    "name": "ipython",
    "version": 3
   },
   "file_extension": ".py",
   "mimetype": "text/x-python",
   "name": "python",
   "nbconvert_exporter": "python",
   "pygments_lexer": "ipython3",
   "version": "3.6.7"
  }
 },
 "nbformat": 4,
 "nbformat_minor": 2
}
