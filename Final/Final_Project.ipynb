{
 "cells": [
  {
   "cell_type": "markdown",
   "metadata": {},
   "source": [
    "Project: Cardiovascular disease and mortaility in the US and Colrado"
   ]
  },
  {
   "cell_type": "markdown",
   "metadata": {},
   "source": [
    "I intially wanted to look at outcomes in two hospital systems over time. However, De identified data was not available on a patient level. Additionally, I could not find data from individual hospitals over time. "
   ]
  },
  {
   "cell_type": "markdown",
   "metadata": {},
   "source": [
    "The first part of my project focused on cardiovascular mortality. I obtained data from National Vital statistics."
   ]
  },
  {
   "cell_type": "code",
   "execution_count": 72,
   "metadata": {},
   "outputs": [],
   "source": [
    "import pandas as pd\n",
    "import numpy as np\n",
    "import matplotlib.pyplot as plt\n",
    "import itertools\n",
    "import seaborn as sns"
   ]
  },
  {
   "cell_type": "code",
   "execution_count": 73,
   "metadata": {},
   "outputs": [],
   "source": [
    "from unicodedata import normalize\n",
    "import requests\n",
    "import csv\n",
    "import sys\n",
    "import json\n",
    "from pathlib import Path\n",
    "import ast\n",
    "import urllib.request as request\n"
   ]
  },
  {
   "cell_type": "code",
   "execution_count": 74,
   "metadata": {},
   "outputs": [],
   "source": [
    "with request.urlopen('https://chronicdata.cdc.gov/resource/kztq-p2jf.json')as response:\n",
    "    source=response.read()\n",
    "    data1=json.loads(source)\n",
    "    json_data=json.dumps(data1)\n"
   ]
  },
  {
   "cell_type": "code",
   "execution_count": 75,
   "metadata": {},
   "outputs": [],
   "source": [
    "with open('data1','w')as f:\n",
    "    json.dump(data1, f, indent=4, sort_keys=True)\n",
    "nvss=pd.read_json('data1')\n",
    "nvss= nvss[['year', 'locationabbr','topic','break_out', 'break_out_category','category','data_value', 'highconfidencelimit', \n",
    "            'lowconfidencelimit']]\n",
    "# Aftwr loading the data I reformatted the column names for easier reading.\n",
    "nvss=nvss.rename(columns={'locationabbr':'location', 'highconfidencelimit': 'Upper_CI', 'lowconfidencelimit':'Lower_CI',\n",
    "             'data_value':'deaths_per_100,000'})\n"
   ]
  },
  {
   "cell_type": "markdown",
   "metadata": {},
   "source": [
    "I subdivided my data into two dataframes , US and Colorado"
   ]
  },
  {
   "cell_type": "code",
   "execution_count": 5,
   "metadata": {},
   "outputs": [],
   "source": [
    "us_nvss=nvss[nvss['location']=='US']\n",
    "us_nvss\n",
    "CO_nvss=nvss[nvss['location']=='CO']\n"
   ]
  },
  {
   "cell_type": "markdown",
   "metadata": {},
   "source": [
    "After isolating the National data and the data from Colorado, I joined the datarames into one for further analysis.\n",
    "Because of the manner in whci the data is gathered, I could only make comparisons for males, I could not make any further comparisons."
   ]
  },
  {
   "cell_type": "code",
   "execution_count": 101,
   "metadata": {},
   "outputs": [
    {
     "data": {
      "text/html": [
       "<div>\n",
       "<style scoped>\n",
       "    .dataframe tbody tr th:only-of-type {\n",
       "        vertical-align: middle;\n",
       "    }\n",
       "\n",
       "    .dataframe tbody tr th {\n",
       "        vertical-align: top;\n",
       "    }\n",
       "\n",
       "    .dataframe thead th {\n",
       "        text-align: right;\n",
       "    }\n",
       "</style>\n",
       "<table border=\"1\" class=\"dataframe\">\n",
       "  <thead>\n",
       "    <tr style=\"text-align: right;\">\n",
       "      <th></th>\n",
       "      <th>year</th>\n",
       "      <th>location</th>\n",
       "      <th>topic</th>\n",
       "      <th>break_out</th>\n",
       "      <th>break_out_category</th>\n",
       "      <th>category</th>\n",
       "      <th>deaths_per_100,000</th>\n",
       "      <th>Upper_CI</th>\n",
       "      <th>Lower_CI</th>\n",
       "    </tr>\n",
       "  </thead>\n",
       "  <tbody>\n",
       "    <tr>\n",
       "      <th>0</th>\n",
       "      <td>2010</td>\n",
       "      <td>US</td>\n",
       "      <td>Major Cardiovascular Disease</td>\n",
       "      <td>Other</td>\n",
       "      <td>Race</td>\n",
       "      <td>Cardiovascular Diseases</td>\n",
       "      <td>137.8</td>\n",
       "      <td>137.8</td>\n",
       "      <td>137.8</td>\n",
       "    </tr>\n",
       "    <tr>\n",
       "      <th>1</th>\n",
       "      <td>2017</td>\n",
       "      <td>US</td>\n",
       "      <td>Major Cardiovascular Disease</td>\n",
       "      <td>Other</td>\n",
       "      <td>Race</td>\n",
       "      <td>Cardiovascular Diseases</td>\n",
       "      <td>155.1</td>\n",
       "      <td>155.1</td>\n",
       "      <td>155.1</td>\n",
       "    </tr>\n",
       "    <tr>\n",
       "      <th>2</th>\n",
       "      <td>2001</td>\n",
       "      <td>US</td>\n",
       "      <td>Coronary Heart Disease</td>\n",
       "      <td>18-24</td>\n",
       "      <td>Age</td>\n",
       "      <td>Cardiovascular Diseases</td>\n",
       "      <td>0.6</td>\n",
       "      <td>0.8</td>\n",
       "      <td>0.4</td>\n",
       "    </tr>\n",
       "    <tr>\n",
       "      <th>4</th>\n",
       "      <td>2005</td>\n",
       "      <td>US</td>\n",
       "      <td>Heart Failure</td>\n",
       "      <td>25-44</td>\n",
       "      <td>Age</td>\n",
       "      <td>Cardiovascular Diseases</td>\n",
       "      <td>0.5</td>\n",
       "      <td>0.6</td>\n",
       "      <td>0.4</td>\n",
       "    </tr>\n",
       "    <tr>\n",
       "      <th>5</th>\n",
       "      <td>2012</td>\n",
       "      <td>US</td>\n",
       "      <td>Stroke</td>\n",
       "      <td>Other</td>\n",
       "      <td>Race</td>\n",
       "      <td>Cardiovascular Diseases</td>\n",
       "      <td>14.1</td>\n",
       "      <td>14.1</td>\n",
       "      <td>14.1</td>\n",
       "    </tr>\n",
       "    <tr>\n",
       "      <th>6</th>\n",
       "      <td>2018</td>\n",
       "      <td>US</td>\n",
       "      <td>Stroke</td>\n",
       "      <td>75+</td>\n",
       "      <td>Age</td>\n",
       "      <td>Cardiovascular Diseases</td>\n",
       "      <td>239.4</td>\n",
       "      <td>239.4</td>\n",
       "      <td>239.4</td>\n",
       "    </tr>\n",
       "    <tr>\n",
       "      <th>7</th>\n",
       "      <td>2008</td>\n",
       "      <td>US</td>\n",
       "      <td>Stroke</td>\n",
       "      <td>65+</td>\n",
       "      <td>Age</td>\n",
       "      <td>Cardiovascular Diseases</td>\n",
       "      <td>59.0</td>\n",
       "      <td>59.0</td>\n",
       "      <td>59.0</td>\n",
       "    </tr>\n",
       "    <tr>\n",
       "      <th>34</th>\n",
       "      <td>2000</td>\n",
       "      <td>US</td>\n",
       "      <td>Major Cardiovascular Disease</td>\n",
       "      <td>Hispanic</td>\n",
       "      <td>Race</td>\n",
       "      <td>Cardiovascular Diseases</td>\n",
       "      <td>159.1</td>\n",
       "      <td>159.1</td>\n",
       "      <td>159.1</td>\n",
       "    </tr>\n",
       "    <tr>\n",
       "      <th>100</th>\n",
       "      <td>2000</td>\n",
       "      <td>US</td>\n",
       "      <td>Major Cardiovascular Disease</td>\n",
       "      <td>Female</td>\n",
       "      <td>Gender</td>\n",
       "      <td>Cardiovascular Diseases</td>\n",
       "      <td>461.4</td>\n",
       "      <td>461.4</td>\n",
       "      <td>461.4</td>\n",
       "    </tr>\n",
       "    <tr>\n",
       "      <th>105</th>\n",
       "      <td>2006</td>\n",
       "      <td>US</td>\n",
       "      <td>Major Cardiovascular Disease</td>\n",
       "      <td>Non-Hispanic White</td>\n",
       "      <td>Race</td>\n",
       "      <td>Cardiovascular Diseases</td>\n",
       "      <td>425.0</td>\n",
       "      <td>425.0</td>\n",
       "      <td>425.0</td>\n",
       "    </tr>\n",
       "    <tr>\n",
       "      <th>177</th>\n",
       "      <td>2005</td>\n",
       "      <td>US</td>\n",
       "      <td>Major Cardiovascular Disease</td>\n",
       "      <td>75+</td>\n",
       "      <td>Age</td>\n",
       "      <td>Cardiovascular Diseases</td>\n",
       "      <td>3234.3</td>\n",
       "      <td>3234.3</td>\n",
       "      <td>3234.3</td>\n",
       "    </tr>\n",
       "    <tr>\n",
       "      <th>185</th>\n",
       "      <td>2001</td>\n",
       "      <td>US</td>\n",
       "      <td>Major Cardiovascular Disease</td>\n",
       "      <td>Non-Hispanic White</td>\n",
       "      <td>Race</td>\n",
       "      <td>Cardiovascular Diseases</td>\n",
       "      <td>497.9</td>\n",
       "      <td>497.9</td>\n",
       "      <td>497.9</td>\n",
       "    </tr>\n",
       "    <tr>\n",
       "      <th>230</th>\n",
       "      <td>2009</td>\n",
       "      <td>US</td>\n",
       "      <td>Major Cardiovascular Disease</td>\n",
       "      <td>Other</td>\n",
       "      <td>Race</td>\n",
       "      <td>Cardiovascular Diseases</td>\n",
       "      <td>145.8</td>\n",
       "      <td>145.8</td>\n",
       "      <td>145.8</td>\n",
       "    </tr>\n",
       "    <tr>\n",
       "      <th>242</th>\n",
       "      <td>2012</td>\n",
       "      <td>US</td>\n",
       "      <td>Major Cardiovascular Disease</td>\n",
       "      <td>Overall</td>\n",
       "      <td>Overall</td>\n",
       "      <td>Cardiovascular Diseases</td>\n",
       "      <td>290.8</td>\n",
       "      <td>290.8</td>\n",
       "      <td>290.8</td>\n",
       "    </tr>\n",
       "    <tr>\n",
       "      <th>281</th>\n",
       "      <td>2000</td>\n",
       "      <td>US</td>\n",
       "      <td>Major Cardiovascular Disease</td>\n",
       "      <td>75+</td>\n",
       "      <td>Age</td>\n",
       "      <td>Cardiovascular Diseases</td>\n",
       "      <td>3813.4</td>\n",
       "      <td>3813.4</td>\n",
       "      <td>3813.4</td>\n",
       "    </tr>\n",
       "    <tr>\n",
       "      <th>415</th>\n",
       "      <td>2011</td>\n",
       "      <td>US</td>\n",
       "      <td>Major Cardiovascular Disease</td>\n",
       "      <td>45-64</td>\n",
       "      <td>Age</td>\n",
       "      <td>Cardiovascular Diseases</td>\n",
       "      <td>157.6</td>\n",
       "      <td>157.6</td>\n",
       "      <td>157.6</td>\n",
       "    </tr>\n",
       "    <tr>\n",
       "      <th>452</th>\n",
       "      <td>2011</td>\n",
       "      <td>US</td>\n",
       "      <td>Major Cardiovascular Disease</td>\n",
       "      <td>Male</td>\n",
       "      <td>Gender</td>\n",
       "      <td>Cardiovascular Diseases</td>\n",
       "      <td>323.5</td>\n",
       "      <td>323.5</td>\n",
       "      <td>323.5</td>\n",
       "    </tr>\n",
       "    <tr>\n",
       "      <th>485</th>\n",
       "      <td>2001</td>\n",
       "      <td>US</td>\n",
       "      <td>Major Cardiovascular Disease</td>\n",
       "      <td>Hispanic</td>\n",
       "      <td>Race</td>\n",
       "      <td>Cardiovascular Diseases</td>\n",
       "      <td>299.8</td>\n",
       "      <td>299.8</td>\n",
       "      <td>299.8</td>\n",
       "    </tr>\n",
       "    <tr>\n",
       "      <th>494</th>\n",
       "      <td>2008</td>\n",
       "      <td>US</td>\n",
       "      <td>Major Cardiovascular Disease</td>\n",
       "      <td>Male</td>\n",
       "      <td>Gender</td>\n",
       "      <td>Cardiovascular Diseases</td>\n",
       "      <td>357.2</td>\n",
       "      <td>357.2</td>\n",
       "      <td>357.2</td>\n",
       "    </tr>\n",
       "    <tr>\n",
       "      <th>498</th>\n",
       "      <td>2009</td>\n",
       "      <td>US</td>\n",
       "      <td>Major Cardiovascular Disease</td>\n",
       "      <td>25-44</td>\n",
       "      <td>Age</td>\n",
       "      <td>Cardiovascular Diseases</td>\n",
       "      <td>21.5</td>\n",
       "      <td>21.5</td>\n",
       "      <td>21.5</td>\n",
       "    </tr>\n",
       "    <tr>\n",
       "      <th>633</th>\n",
       "      <td>2008</td>\n",
       "      <td>US</td>\n",
       "      <td>Major Cardiovascular Disease</td>\n",
       "      <td>75+</td>\n",
       "      <td>Age</td>\n",
       "      <td>Cardiovascular Diseases</td>\n",
       "      <td>2885.1</td>\n",
       "      <td>2885.1</td>\n",
       "      <td>2885.1</td>\n",
       "    </tr>\n",
       "    <tr>\n",
       "      <th>691</th>\n",
       "      <td>2001</td>\n",
       "      <td>US</td>\n",
       "      <td>Major Cardiovascular Disease</td>\n",
       "      <td>Male</td>\n",
       "      <td>Gender</td>\n",
       "      <td>Cardiovascular Diseases</td>\n",
       "      <td>466.6</td>\n",
       "      <td>466.6</td>\n",
       "      <td>466.6</td>\n",
       "    </tr>\n",
       "    <tr>\n",
       "      <th>811</th>\n",
       "      <td>2007</td>\n",
       "      <td>US</td>\n",
       "      <td>Major Cardiovascular Disease</td>\n",
       "      <td>Non-Hispanic Black</td>\n",
       "      <td>Race</td>\n",
       "      <td>Cardiovascular Diseases</td>\n",
       "      <td>353.5</td>\n",
       "      <td>353.5</td>\n",
       "      <td>353.5</td>\n",
       "    </tr>\n",
       "    <tr>\n",
       "      <th>829</th>\n",
       "      <td>2002</td>\n",
       "      <td>US</td>\n",
       "      <td>Major Cardiovascular Disease</td>\n",
       "      <td>45-64</td>\n",
       "      <td>Age</td>\n",
       "      <td>Cardiovascular Diseases</td>\n",
       "      <td>186.9</td>\n",
       "      <td>186.9</td>\n",
       "      <td>186.9</td>\n",
       "    </tr>\n",
       "    <tr>\n",
       "      <th>24</th>\n",
       "      <td>2002</td>\n",
       "      <td>CO</td>\n",
       "      <td>Major Cardiovascular Disease</td>\n",
       "      <td>Other</td>\n",
       "      <td>Race</td>\n",
       "      <td>Cardiovascular Diseases</td>\n",
       "      <td>111.8</td>\n",
       "      <td>112.0</td>\n",
       "      <td>111.6</td>\n",
       "    </tr>\n",
       "    <tr>\n",
       "      <th>115</th>\n",
       "      <td>2012</td>\n",
       "      <td>CO</td>\n",
       "      <td>Major Cardiovascular Disease</td>\n",
       "      <td>Hispanic</td>\n",
       "      <td>Race</td>\n",
       "      <td>Cardiovascular Diseases</td>\n",
       "      <td>179.7</td>\n",
       "      <td>179.8</td>\n",
       "      <td>179.6</td>\n",
       "    </tr>\n",
       "    <tr>\n",
       "      <th>121</th>\n",
       "      <td>2006</td>\n",
       "      <td>CO</td>\n",
       "      <td>Major Cardiovascular Disease</td>\n",
       "      <td>Non-Hispanic Black</td>\n",
       "      <td>Race</td>\n",
       "      <td>Cardiovascular Diseases</td>\n",
       "      <td>192.7</td>\n",
       "      <td>192.8</td>\n",
       "      <td>192.6</td>\n",
       "    </tr>\n",
       "    <tr>\n",
       "      <th>153</th>\n",
       "      <td>2000</td>\n",
       "      <td>CO</td>\n",
       "      <td>Major Cardiovascular Disease</td>\n",
       "      <td>Overall</td>\n",
       "      <td>Overall</td>\n",
       "      <td>Cardiovascular Diseases</td>\n",
       "      <td>346.2</td>\n",
       "      <td>346.2</td>\n",
       "      <td>346.2</td>\n",
       "    </tr>\n",
       "    <tr>\n",
       "      <th>188</th>\n",
       "      <td>2004</td>\n",
       "      <td>CO</td>\n",
       "      <td>Major Cardiovascular Disease</td>\n",
       "      <td>Male</td>\n",
       "      <td>Gender</td>\n",
       "      <td>Cardiovascular Diseases</td>\n",
       "      <td>315.0</td>\n",
       "      <td>315.0</td>\n",
       "      <td>315.0</td>\n",
       "    </tr>\n",
       "    <tr>\n",
       "      <th>425</th>\n",
       "      <td>2007</td>\n",
       "      <td>CO</td>\n",
       "      <td>Major Cardiovascular Disease</td>\n",
       "      <td>Hispanic</td>\n",
       "      <td>Race</td>\n",
       "      <td>Cardiovascular Diseases</td>\n",
       "      <td>122.2</td>\n",
       "      <td>122.3</td>\n",
       "      <td>122.1</td>\n",
       "    </tr>\n",
       "    <tr>\n",
       "      <th>474</th>\n",
       "      <td>2010</td>\n",
       "      <td>CO</td>\n",
       "      <td>Major Cardiovascular Disease</td>\n",
       "      <td>25-44</td>\n",
       "      <td>Age</td>\n",
       "      <td>Cardiovascular Diseases</td>\n",
       "      <td>13.3</td>\n",
       "      <td>13.4</td>\n",
       "      <td>13.2</td>\n",
       "    </tr>\n",
       "    <tr>\n",
       "      <th>537</th>\n",
       "      <td>2001</td>\n",
       "      <td>CO</td>\n",
       "      <td>Major Cardiovascular Disease</td>\n",
       "      <td>Other</td>\n",
       "      <td>Race</td>\n",
       "      <td>Cardiovascular Diseases</td>\n",
       "      <td>190.3</td>\n",
       "      <td>190.5</td>\n",
       "      <td>190.1</td>\n",
       "    </tr>\n",
       "    <tr>\n",
       "      <th>576</th>\n",
       "      <td>2000</td>\n",
       "      <td>CO</td>\n",
       "      <td>Major Cardiovascular Disease</td>\n",
       "      <td>Non-Hispanic Black</td>\n",
       "      <td>Race</td>\n",
       "      <td>Cardiovascular Diseases</td>\n",
       "      <td>263.0</td>\n",
       "      <td>263.1</td>\n",
       "      <td>262.9</td>\n",
       "    </tr>\n",
       "    <tr>\n",
       "      <th>602</th>\n",
       "      <td>2008</td>\n",
       "      <td>CO</td>\n",
       "      <td>Major Cardiovascular Disease</td>\n",
       "      <td>Non-Hispanic Black</td>\n",
       "      <td>Race</td>\n",
       "      <td>Cardiovascular Diseases</td>\n",
       "      <td>299.3</td>\n",
       "      <td>299.4</td>\n",
       "      <td>299.2</td>\n",
       "    </tr>\n",
       "    <tr>\n",
       "      <th>667</th>\n",
       "      <td>2003</td>\n",
       "      <td>CO</td>\n",
       "      <td>Major Cardiovascular Disease</td>\n",
       "      <td>35+</td>\n",
       "      <td>Age</td>\n",
       "      <td>Cardiovascular Diseases</td>\n",
       "      <td>408.3</td>\n",
       "      <td>408.3</td>\n",
       "      <td>408.3</td>\n",
       "    </tr>\n",
       "    <tr>\n",
       "      <th>783</th>\n",
       "      <td>2014</td>\n",
       "      <td>CO</td>\n",
       "      <td>Major Cardiovascular Disease</td>\n",
       "      <td>Male</td>\n",
       "      <td>Gender</td>\n",
       "      <td>Cardiovascular Diseases</td>\n",
       "      <td>231.3</td>\n",
       "      <td>231.3</td>\n",
       "      <td>231.3</td>\n",
       "    </tr>\n",
       "    <tr>\n",
       "      <th>836</th>\n",
       "      <td>2009</td>\n",
       "      <td>CO</td>\n",
       "      <td>Major Cardiovascular Disease</td>\n",
       "      <td>65+</td>\n",
       "      <td>Age</td>\n",
       "      <td>Cardiovascular Diseases</td>\n",
       "      <td>1225.2</td>\n",
       "      <td>1225.2</td>\n",
       "      <td>1225.2</td>\n",
       "    </tr>\n",
       "    <tr>\n",
       "      <th>865</th>\n",
       "      <td>2001</td>\n",
       "      <td>CO</td>\n",
       "      <td>Major Cardiovascular Disease</td>\n",
       "      <td>Male</td>\n",
       "      <td>Gender</td>\n",
       "      <td>Cardiovascular Diseases</td>\n",
       "      <td>343.4</td>\n",
       "      <td>343.4</td>\n",
       "      <td>343.4</td>\n",
       "    </tr>\n",
       "    <tr>\n",
       "      <th>888</th>\n",
       "      <td>2011</td>\n",
       "      <td>CO</td>\n",
       "      <td>Major Cardiovascular Disease</td>\n",
       "      <td>Hispanic</td>\n",
       "      <td>Race</td>\n",
       "      <td>Cardiovascular Diseases</td>\n",
       "      <td>107.9</td>\n",
       "      <td>108.0</td>\n",
       "      <td>107.8</td>\n",
       "    </tr>\n",
       "    <tr>\n",
       "      <th>995</th>\n",
       "      <td>2002</td>\n",
       "      <td>CO</td>\n",
       "      <td>Major Cardiovascular Disease</td>\n",
       "      <td>Non-Hispanic Black</td>\n",
       "      <td>Race</td>\n",
       "      <td>Cardiovascular Diseases</td>\n",
       "      <td>235.8</td>\n",
       "      <td>235.9</td>\n",
       "      <td>235.7</td>\n",
       "    </tr>\n",
       "  </tbody>\n",
       "</table>\n",
       "</div>"
      ],
      "text/plain": [
       "     year location                         topic           break_out  \\\n",
       "0    2010       US  Major Cardiovascular Disease               Other   \n",
       "1    2017       US  Major Cardiovascular Disease               Other   \n",
       "2    2001       US        Coronary Heart Disease               18-24   \n",
       "4    2005       US                 Heart Failure               25-44   \n",
       "5    2012       US                        Stroke               Other   \n",
       "6    2018       US                        Stroke                 75+   \n",
       "7    2008       US                        Stroke                 65+   \n",
       "34   2000       US  Major Cardiovascular Disease            Hispanic   \n",
       "100  2000       US  Major Cardiovascular Disease              Female   \n",
       "105  2006       US  Major Cardiovascular Disease  Non-Hispanic White   \n",
       "177  2005       US  Major Cardiovascular Disease                 75+   \n",
       "185  2001       US  Major Cardiovascular Disease  Non-Hispanic White   \n",
       "230  2009       US  Major Cardiovascular Disease               Other   \n",
       "242  2012       US  Major Cardiovascular Disease             Overall   \n",
       "281  2000       US  Major Cardiovascular Disease                 75+   \n",
       "415  2011       US  Major Cardiovascular Disease               45-64   \n",
       "452  2011       US  Major Cardiovascular Disease                Male   \n",
       "485  2001       US  Major Cardiovascular Disease            Hispanic   \n",
       "494  2008       US  Major Cardiovascular Disease                Male   \n",
       "498  2009       US  Major Cardiovascular Disease               25-44   \n",
       "633  2008       US  Major Cardiovascular Disease                 75+   \n",
       "691  2001       US  Major Cardiovascular Disease                Male   \n",
       "811  2007       US  Major Cardiovascular Disease  Non-Hispanic Black   \n",
       "829  2002       US  Major Cardiovascular Disease               45-64   \n",
       "24   2002       CO  Major Cardiovascular Disease               Other   \n",
       "115  2012       CO  Major Cardiovascular Disease            Hispanic   \n",
       "121  2006       CO  Major Cardiovascular Disease  Non-Hispanic Black   \n",
       "153  2000       CO  Major Cardiovascular Disease             Overall   \n",
       "188  2004       CO  Major Cardiovascular Disease                Male   \n",
       "425  2007       CO  Major Cardiovascular Disease            Hispanic   \n",
       "474  2010       CO  Major Cardiovascular Disease               25-44   \n",
       "537  2001       CO  Major Cardiovascular Disease               Other   \n",
       "576  2000       CO  Major Cardiovascular Disease  Non-Hispanic Black   \n",
       "602  2008       CO  Major Cardiovascular Disease  Non-Hispanic Black   \n",
       "667  2003       CO  Major Cardiovascular Disease                 35+   \n",
       "783  2014       CO  Major Cardiovascular Disease                Male   \n",
       "836  2009       CO  Major Cardiovascular Disease                 65+   \n",
       "865  2001       CO  Major Cardiovascular Disease                Male   \n",
       "888  2011       CO  Major Cardiovascular Disease            Hispanic   \n",
       "995  2002       CO  Major Cardiovascular Disease  Non-Hispanic Black   \n",
       "\n",
       "    break_out_category                 category  deaths_per_100,000  Upper_CI  \\\n",
       "0                 Race  Cardiovascular Diseases               137.8     137.8   \n",
       "1                 Race  Cardiovascular Diseases               155.1     155.1   \n",
       "2                  Age  Cardiovascular Diseases                 0.6       0.8   \n",
       "4                  Age  Cardiovascular Diseases                 0.5       0.6   \n",
       "5                 Race  Cardiovascular Diseases                14.1      14.1   \n",
       "6                  Age  Cardiovascular Diseases               239.4     239.4   \n",
       "7                  Age  Cardiovascular Diseases                59.0      59.0   \n",
       "34                Race  Cardiovascular Diseases               159.1     159.1   \n",
       "100             Gender  Cardiovascular Diseases               461.4     461.4   \n",
       "105               Race  Cardiovascular Diseases               425.0     425.0   \n",
       "177                Age  Cardiovascular Diseases              3234.3    3234.3   \n",
       "185               Race  Cardiovascular Diseases               497.9     497.9   \n",
       "230               Race  Cardiovascular Diseases               145.8     145.8   \n",
       "242            Overall  Cardiovascular Diseases               290.8     290.8   \n",
       "281                Age  Cardiovascular Diseases              3813.4    3813.4   \n",
       "415                Age  Cardiovascular Diseases               157.6     157.6   \n",
       "452             Gender  Cardiovascular Diseases               323.5     323.5   \n",
       "485               Race  Cardiovascular Diseases               299.8     299.8   \n",
       "494             Gender  Cardiovascular Diseases               357.2     357.2   \n",
       "498                Age  Cardiovascular Diseases                21.5      21.5   \n",
       "633                Age  Cardiovascular Diseases              2885.1    2885.1   \n",
       "691             Gender  Cardiovascular Diseases               466.6     466.6   \n",
       "811               Race  Cardiovascular Diseases               353.5     353.5   \n",
       "829                Age  Cardiovascular Diseases               186.9     186.9   \n",
       "24                Race  Cardiovascular Diseases               111.8     112.0   \n",
       "115               Race  Cardiovascular Diseases               179.7     179.8   \n",
       "121               Race  Cardiovascular Diseases               192.7     192.8   \n",
       "153            Overall  Cardiovascular Diseases               346.2     346.2   \n",
       "188             Gender  Cardiovascular Diseases               315.0     315.0   \n",
       "425               Race  Cardiovascular Diseases               122.2     122.3   \n",
       "474                Age  Cardiovascular Diseases                13.3      13.4   \n",
       "537               Race  Cardiovascular Diseases               190.3     190.5   \n",
       "576               Race  Cardiovascular Diseases               263.0     263.1   \n",
       "602               Race  Cardiovascular Diseases               299.3     299.4   \n",
       "667                Age  Cardiovascular Diseases               408.3     408.3   \n",
       "783             Gender  Cardiovascular Diseases               231.3     231.3   \n",
       "836                Age  Cardiovascular Diseases              1225.2    1225.2   \n",
       "865             Gender  Cardiovascular Diseases               343.4     343.4   \n",
       "888               Race  Cardiovascular Diseases               107.9     108.0   \n",
       "995               Race  Cardiovascular Diseases               235.8     235.9   \n",
       "\n",
       "     Lower_CI  \n",
       "0       137.8  \n",
       "1       155.1  \n",
       "2         0.4  \n",
       "4         0.4  \n",
       "5        14.1  \n",
       "6       239.4  \n",
       "7        59.0  \n",
       "34      159.1  \n",
       "100     461.4  \n",
       "105     425.0  \n",
       "177    3234.3  \n",
       "185     497.9  \n",
       "230     145.8  \n",
       "242     290.8  \n",
       "281    3813.4  \n",
       "415     157.6  \n",
       "452     323.5  \n",
       "485     299.8  \n",
       "494     357.2  \n",
       "498      21.5  \n",
       "633    2885.1  \n",
       "691     466.6  \n",
       "811     353.5  \n",
       "829     186.9  \n",
       "24      111.6  \n",
       "115     179.6  \n",
       "121     192.6  \n",
       "153     346.2  \n",
       "188     315.0  \n",
       "425     122.1  \n",
       "474      13.2  \n",
       "537     190.1  \n",
       "576     262.9  \n",
       "602     299.2  \n",
       "667     408.3  \n",
       "783     231.3  \n",
       "836    1225.2  \n",
       "865     343.4  \n",
       "888     107.8  \n",
       "995     235.7  "
      ]
     },
     "execution_count": 101,
     "metadata": {},
     "output_type": "execute_result"
    }
   ],
   "source": [
    "nvss2=pd.concat([us_nvss, CO_nvss], axis=0, ignore_index=False)\n",
    "nvss2\n",
    "Overall_nvss=nvss2[nvss2['break_out']=='Overall']\n",
    "male_nvss=nvss2[nvss2['break_out']=='Male']\n",
    "#male_nvss\n",
    "nvss2"
   ]
  },
  {
   "cell_type": "markdown",
   "metadata": {},
   "source": [
    "The following graph demonstrates the reduction of cardiovascuarl mortality in males in both the US and Colorado. US appears to have a steaper decline."
   ]
  },
  {
   "cell_type": "code",
   "execution_count": 78,
   "metadata": {},
   "outputs": [
    {
     "data": {
      "text/plain": [
       "[Text(0, 0.5, 'Deaths per 100,000'),\n",
       " Text(0.5, 1.0, 'Cardiovascular Mortality in Colorado and the US')]"
      ]
     },
     "execution_count": 78,
     "metadata": {},
     "output_type": "execute_result"
    },
    {
     "data": {
      "image/png": "[encoded data removed]",
      "text/plain": [
       "<Figure size 432x288 with 1 Axes>"
      ]
     },
     "metadata": {
      "needs_background": "light"
     },
     "output_type": "display_data"
    }
   ],
   "source": [
    " sns.lineplot(data= male_nvss, x='year', y='deaths_per_100,000', hue='location').set(title=\"Cardiovascular Mortality in Colorado and the US\", ylabel='Deaths per 100,000')\n"
   ]
  },
  {
   "cell_type": "markdown",
   "metadata": {},
   "source": [
    "I was able to obtain data from Medicare regarding the prevalence of specific cardiovascular conditions for specific years.\n",
    "The data had to be downloaded from the website, then uploaded into Jupyter.\n"
   ]
  },
  {
   "cell_type": "code",
   "execution_count": 7,
   "metadata": {},
   "outputs": [],
   "source": [
    "# First I uploaded the data into the folder, then read it into jupitor as a dataframe.\n",
    "Prev2018 = pd.read_excel('Chronic Conditions Prevalence 2018.xlsx',sheet_name='Sheet1')\n",
    "Prev2016 = pd.read_excel('Chronic Conditions prevalence2016.xlsx',sheet_name='Sheet1')\n",
    "Prev2014 = pd.read_excel('Chronic Conditions prevalence2014.xlsx',sheet_name='Sheet1')\n",
    "Prev2012 = pd.read_excel('chronic conditions prevalence2012.xlsx',sheet_name='Sheet1')\n"
   ]
  },
  {
   "cell_type": "markdown",
   "metadata": {},
   "source": [
    "After reading the data into the notebook, I combined the individual dataframes into one to make comparisons"
   ]
  },
  {
   "cell_type": "code",
   "execution_count": 80,
   "metadata": {},
   "outputs": [],
   "source": [
    "Prev = pd.concat([Prev2018, Prev2016, Prev2014, Prev2012], axis=0, ignore_index=False)\n",
    "PrevCVD=Prev[['Location', 'Year','Atrial Fibrillation', 'Heart Failure', 'Ischemic Heart Disease', 'Stroke']]\n"
   ]
  },
  {
   "cell_type": "markdown",
   "metadata": {},
   "source": [
    "The first graph demonstrates the prevalence of Atrial Fibrillation, Heart Failure, Ischemic Heart Disease and Stroke over an 8 year time period.\n",
    "The scond graph demonstrates the same conditions for the US.\n",
    "For Colorado, the rate prevalence for all conditions was fairly constant. In reviewing the graph for the US, there appears to be a decline in all conditions between 2016 and 2018. Please note, I did not run a statistical analysis for significance. The observations are solely based on review of the graphs."
   ]
  },
  {
   "cell_type": "code",
   "execution_count": 102,
   "metadata": {},
   "outputs": [
    {
     "data": {
      "text/plain": [
       "Location\n",
       "Colorado     AxesSubplot(0.125,0.125;0.775x0.755)\n",
       "National     AxesSubplot(0.125,0.125;0.775x0.755)\n",
       "dtype: object"
      ]
     },
     "execution_count": 102,
     "metadata": {},
     "output_type": "execute_result"
    },
    {
     "data": {
      "image/png": "[encoded data removed]",
      "text/plain": [
       "<Figure size 432x288 with 1 Axes>"
      ]
     },
     "metadata": {
      "needs_background": "light"
     },
     "output_type": "display_data"
    },
    {
     "data": {
      "image/png": "[encoded data removed]",
      "text/plain": [
       "<Figure size 432x288 with 1 Axes>"
      ]
     },
     "metadata": {
      "needs_background": "light"
     },
     "output_type": "display_data"
    }
   ],
   "source": [
    "PrevCVD.groupby('Location').plot(kind='bar', x= 'Year' ,y =['Atrial Fibrillation', 'Heart Failure', 'Ischemic Heart Disease', 'Stroke'], title= 'Prevalence of Chronic Cardiovascular conditions in Colorado and the US')\n"
   ]
  },
  {
   "cell_type": "markdown",
   "metadata": {},
   "source": [
    "The litature suggests that incidence of atrial fibrillation is increasing over time. I subsetted Atrial fibrillation to compare rates ithe the US and Colorado."
   ]
  },
  {
   "cell_type": "code",
   "execution_count": 103,
   "metadata": {},
   "outputs": [],
   "source": [
    "AF=PrevCVD[['Location', 'Year','Atrial Fibrillation']]\n",
    "\n"
   ]
  },
  {
   "cell_type": "code",
   "execution_count": 11,
   "metadata": {},
   "outputs": [
    {
     "data": {
      "text/plain": [
       "[Text(0, 0.5, 'Percentage'),\n",
       " Text(0.5, 1.0, 'Prevalence of Atrial Fibrillation in Colorado and the US')]"
      ]
     },
     "execution_count": 11,
     "metadata": {},
     "output_type": "execute_result"
    },
    {
     "data": {
      "image/png": "[encoded data removed]",
      "text/plain": [
       "<Figure size 432x288 with 1 Axes>"
      ]
     },
     "metadata": {
      "needs_background": "light"
     },
     "output_type": "display_data"
    }
   ],
   "source": [
    "sns.barplot(data= AF, x='Year', y='Atrial Fibrillation', hue='Location').set(title=\"Prevalence of Atrial Fibrillation in Colorado and the US\", ylabel='Percentage')\n"
   ]
  },
  {
   "cell_type": "markdown",
   "metadata": {},
   "source": [
    "The bar graph above does not support the literature. It shows Prevalnce of atrial fibrillation to be fairly constant in Colorado, and shows a substantial drop Nationally. However, this may be due to  the methods used the gather data, and would not draw conclusions"
   ]
  },
  {
   "cell_type": "markdown",
   "metadata": {},
   "source": [
    "From the Medicare Website I extracted data for spending, ER utilization and Readmission rates for chronic conditions for each year.\n",
    "I imported the files into the jupiter notebook and converted each of the files to a dataframe.\n",
    "I added the year to each file for analysis."
   ]
  },
  {
   "cell_type": "code",
   "execution_count": 84,
   "metadata": {},
   "outputs": [],
   "source": [
    "total2018=pd.read_excel('State_Table_Chronic_Conditions_Utiliz_Spend_2018.xlsx', sheet_name='Actual Spending')\n",
    "total2018.loc[:,'Year']= '2018'\n",
    "ER2018=pd.read_excel('State_Table_Chronic_Conditions_Utiliz_Spend_2018.xlsx', sheet_name='ED Visits')\n",
    "ER2018.loc[:,'Year']='2018'\n",
    "ReAdm2018=total2018=pd.read_excel('State_Table_Chronic_Conditions_Utiliz_Spend_2018.xlsx', sheet_name='Readmissions')\n",
    "ReAdm2018.loc[:,'Year']='2018'\n",
    "total2016=pd.read_excel('State_Table_Chronic_Conditions_Utiliz_Spend_2016.xlsx', sheet_name='Actual Spending')\n",
    "total2016.loc[:,'Year']='2016'\n",
    "ER2016=pd.read_excel('State_Table_Chronic_Conditions_Utiliz_Spend_2016.xlsx', sheet_name='ED Visits')\n",
    "ER2016.loc[:,'Year']='2016'\n",
    "ReAdm2016=pd.read_excel('State_Table_Chronic_Conditions_Utiliz_Spend_2016.xlsx', sheet_name='Readmissions')\n",
    "total2014=pd.read_excel('State_Table_Chronic_Conditions_Utiliz_Spend_2014.xlsx', sheet_name='Actual Spending')\n",
    "ER2014=pd.read_excel('State_Table_Chronic_Conditions_Utiliz_Spend_2014.xlsx', sheet_name='ED Visits')\n",
    "ReAdm2014=pd.read_excel('State_Table_Chronic_Conditions_Utiliz_Spend_2014.xlsx', sheet_name='Readmissions')\n",
    "total2012=pd.read_excel('State_Table_Chronic_Conditions_Utiliz_Spend_2012.xlsx', sheet_name='Actual Spending')\n",
    "ER2012=pd.read_excel('State_Table_Chronic_Conditions_Utiliz_Spend_2012.xlsx', sheet_name='ED Visits')\n",
    "ReAdm2012=pd.read_excel('State_Table_Chronic_Conditions_Utiliz_Spend_2012.xlsx', sheet_name='Readmissions')\n",
    "ReAdm2016.loc[:,'Year']='2016'\n",
    "ReAdm2014.loc[:,'Year']='2014'\n",
    "ReAdm2012.loc[:,'Year']='2012'\n",
    "total2014.loc[:,'Year']='2014'\n",
    "total2012.loc[:,'Year']='2012'\n",
    "ER2014.loc[:,'Year']='2014'\n",
    "ER2012.loc[:,'Year']='2012'\n",
    "# I am sure there is a loop that would read all of the files into Jupyter in a more consise manner, I was not able to write a working function to accomplish this."
   ]
  },
  {
   "cell_type": "markdown",
   "metadata": {},
   "source": [
    "Next I filtered the data to obtain National and Colorado  data."
   ]
  },
  {
   "cell_type": "code",
   "execution_count": 85,
   "metadata": {},
   "outputs": [],
   "source": [
    "#total2018.set_index(\"State\")\n",
    "#COtotal2018\n",
    "subtotal2018=total2018[0:7]\n",
    "Nattotal2018=subtotal2018.drop([1,2,3,4,5,6])\n",
    "Nattotal2018\n",
    "COtotal2018=subtotal2018.drop([0,1,2,3,4,5])\n",
    "Compartotal2018=subtotal2018.drop([1,2,3,4,5,])\n",
    "Compartotal2018\n",
    "#subtotal2016= total2016[total2016['State']=='National']\n",
    "subtotal2016=total2016[0:7]\n",
    "Nattotal2016=subtotal2016.drop([1,2,3,4,5,6])\n",
    "Nattotal2016\n",
    "COtotal2016=subtotal2016.drop([0,1,2,3,4,5])\n",
    "Compartotal2016=subtotal2016.drop([1,2,3,4,5,])\n",
    "Compartotal2016\n",
    "subtotal2014=total2014[0:7]\n",
    "Nattotal2014=subtotal2014.drop([1,2,3,4,5,6])\n",
    "Nattotal2014\n",
    "COtotal2014=subtotal2014.drop([0,1,2,3,4,5])\n",
    "Compartotal2014=subtotal2014.drop([1,2,3,4,5,])\n",
    "subtotal2012=total2012[0:7]\n",
    "Nattotal2012=subtotal2012.drop([1,2,3,4,5,6])\n",
    "Nattotal2012\n",
    "COtotal2012=subtotal2012.drop([0,1,2,3,4,5])\n",
    "Compartotal2012=subtotal2012.drop([1,2,3,4,5,])\n",
    "# I was not able to filter data using- #COtotal2018=total2018[total2018['State']=='Colorado']- \n",
    "#the data field were empty. I'm not sure if I configured the code incorrectly or this is something that happens when you import data from excel.\n",
    "#Inorder to obain the select data, I needed to drop rows."
   ]
  },
  {
   "cell_type": "markdown",
   "metadata": {},
   "source": [
    "I combined the subsetted dataframe for each year into one datafram for analysis.\n",
    "I then pulled out the cardiovascular conditions for ease of visualization."
   ]
  },
  {
   "cell_type": "code",
   "execution_count": 14,
   "metadata": {},
   "outputs": [
    {
     "name": "stderr",
     "output_type": "stream",
     "text": [
      "/opt/tljh/user/lib/python3.6/site-packages/pandas/core/frame.py:3069: SettingWithCopyWarning: \n",
      "A value is trying to be set on a copy of a slice from a DataFrame.\n",
      "Try using .loc[row_indexer,col_indexer] = value instead\n",
      "\n",
      "See the caveats in the documentation: https://pandas.pydata.org/pandas-docs/stable/user_guide/indexing.html#returning-a-view-versus-a-copy\n",
      "  self[k1] = value[k2]\n"
     ]
    }
   ],
   "source": [
    "ComarpCVDtotal2018=Compartotal2018[['State', 'Atrial Fibrillation ', 'Heart Failure ', 'Ischemic Heart Disease ', 'Stroke ', 'Year']]\n",
    "CVDtotal2018=total2018[['State', 'Atrial Fibrillation ', 'Heart Failure ','Stroke ','Ischemic Heart Disease ', 'Year']]\n",
    "ComptotalAll=pd.concat([Compartotal2012,Compartotal2014, Compartotal2016, Compartotal2018], axis=0, ignore_index=False)\n",
    "ComptotalCVD=ComptotalAll[['State', 'Atrial Fibrillation ', 'Heart Failure ','Stroke ','Ischemic Heart Disease ' ,'Year']]\n",
    "ComptotalCVD[['Atrial Fibrillation ', 'Heart Failure ','Stroke ','Ischemic Heart Disease ']]= ComptotalCVD[['Atrial Fibrillation ', 'Heart Failure ','Stroke ','Ischemic Heart Disease ']].apply(pd.to_numeric)\n",
    "                                                                                 \n",
    "CVDtotal2016=total2016[['State', 'Atrial Fibrillation ', 'Heart Failure ','Stroke ','Ischemic Heart Disease ', 'Year']]\n",
    "CVDtotal2014=total2014[['State', 'Atrial Fibrillation ', 'Heart Failure ','Stroke ', 'Ischemic Heart Disease ','Year']]\n",
    "CVDtotal2012=total2012[['State', 'Atrial Fibrillation ', 'Heart Failure ','Stroke ', 'Ischemic Heart Disease ', 'Year']]\n",
    "CVDtotalAll=pd.concat([CVDtotal2018, CVDtotal2016,CVDtotal2014,CVDtotal2014], axis=0, ignore_index=False )\n",
    "#CVDtotComp=CVDtotalAll[CVDtotalAll['State']=='National']|CVDtotalAll[CVDtotalAll['State']=='Colorado']\n",
    "CVDtotalCom=CVDtotalAll[0:7]\n",
    "CVDtotalNat=CVDtotalCom.drop([1,2,3,4,5,6])\n",
    "CVDtotalCO=CVDtotalCom.drop([0,1,2,3,4,5])\n",
    "CVDtotalCom=CVDtotalCom.drop([1,2,3,4,5,])\n",
    "#ComptotalCVD\n",
    "#year=['2012','2012', '2014','2014','2016','2016', '2018', '2018']\n",
    "#ComptotalCVD.loc[:,'Year']= ['2012','2012', '2014','2014','2016','2016', '2018', '2018']\n",
    "#mean_spending=ComptotalCVD.groupby('State')['State', 'Atrial Fibrillation ', 'Heart Failure ','Stroke ', 'Year'].mean()\n",
    "#ComptotalCVD.dtypes"
   ]
  },
  {
   "cell_type": "code",
   "execution_count": 92,
   "metadata": {},
   "outputs": [
    {
     "name": "stderr",
     "output_type": "stream",
     "text": [
      "/opt/tljh/user/lib/python3.6/site-packages/ipykernel_launcher.py:3: FutureWarning: Indexing with multiple keys (implicitly converted to a tuple of keys) will be deprecated, use a list instead.\n",
      "  This is separate from the ipykernel package so we can avoid doing imports until\n"
     ]
    },
    {
     "data": {
      "text/plain": [
       "<matplotlib.axes._subplots.AxesSubplot at 0x7f43f65be978>"
      ]
     },
     "execution_count": 92,
     "metadata": {},
     "output_type": "execute_result"
    },
    {
     "data": {
      "image/png": "[encoded data removed]",
      "text/plain": [
       "<Figure size 432x288 with 1 Axes>"
      ]
     },
     "metadata": {
      "needs_background": "light"
     },
     "output_type": "display_data"
    }
   ],
   "source": [
    "avg_spendAF=ComptotalCVD.groupby('State')['Atrial Fibrillation '].mean()\n",
    "avg_spendAF\n",
    "avg_spendCVD=ComptotalCVD.groupby('State')['Atrial Fibrillation ','Heart Failure ','Stroke ', 'Ischemic Heart Disease '].mean()\n",
    "avg_spendCVD.plot(kind='bar')\n"
   ]
  },
  {
   "cell_type": "markdown",
   "metadata": {},
   "source": [
    "The above graph provides the average per capita spending both natioanlly and in Colorado for each conditon for 2012-2018\n",
    "\n",
    "Programs for Primary and Secondary Prevention of Ischemic Heart Disease are common and well funded.\n",
    "There are many programs that focus on reducing the morbidity and mortality of Heart Failure.\n",
    "There are not robust programs in the US targeting reduction of cost for Atrial Fibrillation. Average cost data demonstrates that per capita more is spent for atrial fibrillation then Ischemic Heart Disease."
   ]
  },
  {
   "cell_type": "code",
   "execution_count": 96,
   "metadata": {},
   "outputs": [
    {
     "data": {
      "text/plain": [
       "<matplotlib.axes._subplots.AxesSubplot at 0x7f43f62fc048>"
      ]
     },
     "execution_count": 96,
     "metadata": {},
     "output_type": "execute_result"
    },
    {
     "data": {
      "image/png": "[encoded data removed]",
      "text/plain": [
       "<Figure size 432x288 with 1 Axes>"
      ]
     },
     "metadata": {
      "needs_background": "light"
     },
     "output_type": "display_data"
    }
   ],
   "source": [
    "UStotal=pd.concat([Nattotal2018,  Nattotal2016, Nattotal2014, Nattotal2012],axis=0, ignore_index=False)\n",
    "UStotalCVD=UStotal[['Year','Atrial Fibrillation ','Heart Failure ','Stroke ','Ischemic Heart Disease ']].apply(pd.to_numeric)\n",
    "UStotalCVD.plot(kind='bar', x='Year', title ='National Spending', )\n"
   ]
  },
  {
   "cell_type": "code",
   "execution_count": 17,
   "metadata": {},
   "outputs": [],
   "source": [
    "UStotalCVD1=UStotalCVD[['Atrial Fibrillation ','Heart Failure ','Stroke ','Ischemic Heart Disease ']]\n",
    "UStotalCVD1=UStotalCVD1.transpose()\n",
    "UStotalCVD1.columns=['2018', '2016','2014', '2012']\n",
    "#UStotalCVD.dtypes"
   ]
  },
  {
   "cell_type": "code",
   "execution_count": 106,
   "metadata": {},
   "outputs": [
    {
     "data": {
      "text/plain": [
       "<matplotlib.axes._subplots.AxesSubplot at 0x7f43f9d792b0>"
      ]
     },
     "execution_count": 106,
     "metadata": {},
     "output_type": "execute_result"
    },
    {
     "data": {
      "image/png": "[encoded data removed]",
      "text/plain": [
       "<Figure size 432x288 with 1 Axes>"
      ]
     },
     "metadata": {
      "needs_background": "light"
     },
     "output_type": "display_data"
    }
   ],
   "source": [
    "def d(a, b):\n",
    "    return a-b\n",
    "\"\"\" This function is to determine the difference in data\"\"\"\n",
    "Spending_diff= UStotalCVD1.apply(lambda f: d(f['2018'], f['2012']), axis=1)\n",
    "\n",
    "US_Spend_summ=UStotalCVD.describe()\n",
    "\n",
    "Spending_diff.plot(kind='bar', title='Change in Spending')"
   ]
  },
  {
   "cell_type": "markdown",
   "metadata": {},
   "source": [
    "The Above barplot demonstrates the change in spending from 2012 to 2018."
   ]
  },
  {
   "cell_type": "code",
   "execution_count": 99,
   "metadata": {},
   "outputs": [
    {
     "data": {
      "image/png": "[encoded data removed]",
      "text/plain": [
       "<Figure size 720x504 with 1 Axes>"
      ]
     },
     "metadata": {
      "needs_background": "light"
     },
     "output_type": "display_data"
    }
   ],
   "source": [
    "\n",
    "boxplot=UStotalCVD.plot(kind='box', grid= False, figsize=[10,7], title='Distrubtion of US Spending per Capita')"
   ]
  },
  {
   "cell_type": "markdown",
   "metadata": {},
   "source": [
    "Next I subsetted readmission data for the US and Colorado\n",
    "\n",
    "Hospital readmissions are expressed as a percentage of all admissions. A 30-day readmission is defined as an admission to an acute care hospital for any cause within 30 days of discharge from an acute care hospital. Except when the patient died during the stay, each inpatient stay is classified as an index admission, a readmission, or both. "
   ]
  },
  {
   "cell_type": "code",
   "execution_count": 21,
   "metadata": {},
   "outputs": [
    {
     "data": {
      "text/plain": [
       "Index(['State', 'State FIPS Code', 'Alcohol Abuse',\n",
       "       'Alzheimer's Disease/Dementia ', 'Arthritis ', 'Asthma ',\n",
       "       'Atrial Fibrillation ', 'Autism Spectrum Disorders ', 'Cancer ',\n",
       "       'Chronic Kidney Disease ', 'COPD ', 'Depression ', 'Diabetes ',\n",
       "       'Drug Abuse/Substance Abuse', 'HIV/AIDS', 'Heart Failure ',\n",
       "       'Hepatitis                                      (Chronic Viral B & C)',\n",
       "       'Hyperlipidemia ', 'Hypertension ', 'Ischemic Heart Disease ',\n",
       "       'Osteoporosis ', 'Schizophrenia/Other Psychotic Disorders ', 'Stroke ',\n",
       "       'Year'],\n",
       "      dtype='object')"
      ]
     },
     "execution_count": 21,
     "metadata": {},
     "output_type": "execute_result"
    }
   ],
   "source": [
    "subReAdm2018=ReAdm2018[0:7]\n",
    "NatReAdm2018=subReAdm2018.drop([1,2,3,4,5,6])\n",
    "COReAdm2018=subReAdm2018.drop([0,1,2,3,4,5])\n",
    "ComparReAdm2018=subReAdm2018.drop([1,2,3,4,5,])\n",
    "\n",
    "subReAdm2016=ReAdm2016[0:7]\n",
    "NatReAdm2016=subReAdm2016.drop([1,2,3,4,5,6])\n",
    "COReAdm2016=subReAdm2016.drop([0,1,2,3,4,5])\n",
    "ComparReAdm2016=subReAdm2016.drop([1,2,3,4,5,])\n",
    "\n",
    "subReAdm2014=ReAdm2014[0:7]\n",
    "NatReAdm2014=subReAdm2014.drop([1,2,3,4,5,6])\n",
    "COReAdm2014=subReAdm2014.drop([0,1,2,3,4,5])\n",
    "ComparReAdm2014=subReAdm2014.drop([1,2,3,4,5,])\n",
    "\n",
    "subReAdm2012=ReAdm2012[0:7]\n",
    "NatReAdm2012=subReAdm2012.drop([1,2,3,4,5,6])\n",
    "COReAdm2012=subReAdm2012.drop([0,1,2,3,4,5])\n",
    "ComparReAdm2012=subReAdm2012.drop([1,2,3,4,5,])\n",
    "ComparReAdm2014.columns\n",
    "#ComparReAdm2016"
   ]
  },
  {
   "cell_type": "markdown",
   "metadata": {},
   "source": [
    "After filtering out Colorado and National data for each year, I combined the dataframes."
   ]
  },
  {
   "cell_type": "code",
   "execution_count": 110,
   "metadata": {},
   "outputs": [
    {
     "name": "stderr",
     "output_type": "stream",
     "text": [
      "/opt/tljh/user/lib/python3.6/site-packages/ipykernel_launcher.py:9: FutureWarning: Indexing with multiple keys (implicitly converted to a tuple of keys) will be deprecated, use a list instead.\n",
      "  if __name__ == '__main__':\n"
     ]
    },
    {
     "data": {
      "text/html": [
       "<div>\n",
       "<style scoped>\n",
       "    .dataframe tbody tr th:only-of-type {\n",
       "        vertical-align: middle;\n",
       "    }\n",
       "\n",
       "    .dataframe tbody tr th {\n",
       "        vertical-align: top;\n",
       "    }\n",
       "\n",
       "    .dataframe thead th {\n",
       "        text-align: right;\n",
       "    }\n",
       "</style>\n",
       "<table border=\"1\" class=\"dataframe\">\n",
       "  <thead>\n",
       "    <tr style=\"text-align: right;\">\n",
       "      <th></th>\n",
       "      <th>6</th>\n",
       "      <th>6</th>\n",
       "      <th>6</th>\n",
       "      <th>6</th>\n",
       "    </tr>\n",
       "  </thead>\n",
       "  <tbody>\n",
       "    <tr>\n",
       "      <th>State</th>\n",
       "      <td>Colorado</td>\n",
       "      <td>Colorado</td>\n",
       "      <td>Colorado</td>\n",
       "      <td>Colorado</td>\n",
       "    </tr>\n",
       "    <tr>\n",
       "      <th>Year</th>\n",
       "      <td>2018</td>\n",
       "      <td>2016</td>\n",
       "      <td>2014</td>\n",
       "      <td>2012</td>\n",
       "    </tr>\n",
       "    <tr>\n",
       "      <th>Atrial Fibrillation</th>\n",
       "      <td>19.24</td>\n",
       "      <td>19.26</td>\n",
       "      <td>19.17</td>\n",
       "      <td>20.32</td>\n",
       "    </tr>\n",
       "    <tr>\n",
       "      <th>Heart Failure</th>\n",
       "      <td>20.79</td>\n",
       "      <td>21.04</td>\n",
       "      <td>20.81</td>\n",
       "      <td>21.88</td>\n",
       "    </tr>\n",
       "    <tr>\n",
       "      <th>Ischemic Heart Disease</th>\n",
       "      <td>18.32</td>\n",
       "      <td>18.14</td>\n",
       "      <td>18.25</td>\n",
       "      <td>18.65</td>\n",
       "    </tr>\n",
       "    <tr>\n",
       "      <th>Stroke</th>\n",
       "      <td>19.15</td>\n",
       "      <td>18.53</td>\n",
       "      <td>18.43</td>\n",
       "      <td>17.9</td>\n",
       "    </tr>\n",
       "  </tbody>\n",
       "</table>\n",
       "</div>"
      ],
      "text/plain": [
       "                                 6          6          6          6\n",
       "State                    Colorado   Colorado   Colorado   Colorado \n",
       "Year                          2018       2016       2014       2012\n",
       "Atrial Fibrillation          19.24      19.26      19.17      20.32\n",
       "Heart Failure                20.79      21.04      20.81      21.88\n",
       "Ischemic Heart Disease       18.32      18.14      18.25      18.65\n",
       "Stroke                       19.15      18.53      18.43       17.9"
      ]
     },
     "execution_count": 110,
     "metadata": {},
     "output_type": "execute_result"
    }
   ],
   "source": [
    "totalReadm=pd.concat([ComparReAdm2018,ComparReAdm2016, ComparReAdm2014,ComparReAdm2012], axis=0, ignore_index=False )\n",
    "CO_Readm= pd.concat([COReAdm2018, COReAdm2016, COReAdm2014, COReAdm2012], axis=0, ignore_index=False)\n",
    "US_Readm= pd.concat([NatReAdm2018, NatReAdm2016, NatReAdm2014, NatReAdm2012], axis=0, ignore_index=False).infer_objects()\n",
    "CVD_Readm= totalReadm[['State','Year', 'Atrial Fibrillation ','Heart Failure ', 'Ischemic Heart Disease ', 'Stroke ']]\n",
    "CVD_Readm=CVD_Readm.reset_index()\n",
    "CVD_Readm=CVD_Readm.infer_objects()\n",
    "CO_CVD_RA=CO_Readm[['State','Year', 'Atrial Fibrillation ','Heart Failure ', 'Ischemic Heart Disease ', 'Stroke ']]\n",
    "CO_CVD_RA\n",
    "Readm_Summ=CVD_Readm.groupby('State')[ 'Atrial Fibrillation ','Heart Failure ', 'Ischemic Heart Disease ', 'Stroke '].describe()\n",
    "Readm_Summ\n",
    "CVD_Readm\n",
    "US_Readm\n",
    "US_CVD_RA= US_Readm[['State','Year', 'Atrial Fibrillation ','Heart Failure ', 'Ischemic Heart Disease ', 'Stroke ']]\n",
    "US_CVD_RA\n"
   ]
  },
  {
   "cell_type": "markdown",
   "metadata": {},
   "source": [
    "I transposed the Colorado dataframe to calculate the difference in readmission over time. I then had to convert the data types from objects to numeric."
   ]
  },
  {
   "cell_type": "code",
   "execution_count": 132,
   "metadata": {},
   "outputs": [
    {
     "data": {
      "text/html": [
       "<div>\n",
       "<style scoped>\n",
       "    .dataframe tbody tr th:only-of-type {\n",
       "        vertical-align: middle;\n",
       "    }\n",
       "\n",
       "    .dataframe tbody tr th {\n",
       "        vertical-align: top;\n",
       "    }\n",
       "\n",
       "    .dataframe thead th {\n",
       "        text-align: right;\n",
       "    }\n",
       "</style>\n",
       "<table border=\"1\" class=\"dataframe\">\n",
       "  <thead>\n",
       "    <tr style=\"text-align: right;\">\n",
       "      <th></th>\n",
       "      <th>2018</th>\n",
       "      <th>2016</th>\n",
       "      <th>2014</th>\n",
       "      <th>2012</th>\n",
       "    </tr>\n",
       "  </thead>\n",
       "  <tbody>\n",
       "    <tr>\n",
       "      <th>Atrial Fibrillation</th>\n",
       "      <td>19.24</td>\n",
       "      <td>19.26</td>\n",
       "      <td>19.17</td>\n",
       "      <td>20.32</td>\n",
       "    </tr>\n",
       "    <tr>\n",
       "      <th>Heart Failure</th>\n",
       "      <td>20.79</td>\n",
       "      <td>21.04</td>\n",
       "      <td>20.81</td>\n",
       "      <td>21.88</td>\n",
       "    </tr>\n",
       "    <tr>\n",
       "      <th>Ischemic Heart Disease</th>\n",
       "      <td>18.32</td>\n",
       "      <td>18.14</td>\n",
       "      <td>18.25</td>\n",
       "      <td>18.65</td>\n",
       "    </tr>\n",
       "    <tr>\n",
       "      <th>Stroke</th>\n",
       "      <td>19.15</td>\n",
       "      <td>18.53</td>\n",
       "      <td>18.43</td>\n",
       "      <td>17.90</td>\n",
       "    </tr>\n",
       "  </tbody>\n",
       "</table>\n",
       "</div>"
      ],
      "text/plain": [
       "                          2018   2016   2014   2012\n",
       "Atrial Fibrillation      19.24  19.26  19.17  20.32\n",
       "Heart Failure            20.79  21.04  20.81  21.88\n",
       "Ischemic Heart Disease   18.32  18.14  18.25  18.65\n",
       "Stroke                   19.15  18.53  18.43  17.90"
      ]
     },
     "execution_count": 132,
     "metadata": {},
     "output_type": "execute_result"
    }
   ],
   "source": [
    "CO_CVD_RA1=CO_CVD_RA[['Atrial Fibrillation ','Heart Failure ', 'Ischemic Heart Disease ', 'Stroke ']]\n",
    "CO_CVD_RA1=CO_CVD_RA1.transpose()\n",
    "CO_CVD_RA1.columns=['2018', '2016','2014', '2012']\n",
    "CO_CVD_RA1=CO_CVD_RA1.apply(pd.to_numeric)\n",
    "CO_CVD_RA1.dtypes\n",
    "CO_CVD_RA1.columns\n",
    "CO_CVD_RA1"
   ]
  },
  {
   "cell_type": "code",
   "execution_count": 131,
   "metadata": {},
   "outputs": [
    {
     "data": {
      "text/plain": [
       "Atrial Fibrillation       -1.08\n",
       "Heart Failure             -1.09\n",
       "Ischemic Heart Disease    -0.33\n",
       "Stroke                     1.25\n",
       "dtype: float64"
      ]
     },
     "execution_count": 131,
     "metadata": {},
     "output_type": "execute_result"
    },
    {
     "data": {
      "image/png": "[encoded data removed]",
      "text/plain": [
       "<Figure size 432x288 with 1 Axes>"
      ]
     },
     "metadata": {
      "needs_background": "light"
     },
     "output_type": "display_data"
    }
   ],
   "source": [
    "readm_diff= CO_CVD_RA1.apply(lambda f: d(f['2018'], f['2012']), axis=1)\n",
    "readm_diff.plot(kind='bar', title= 'Difference in Readmission Rates of Chronic CV Conditions')\n",
    "readm_diff"
   ]
  },
  {
   "cell_type": "markdown",
   "metadata": {},
   "source": [
    "The graph above shows the change in readmission rates in Colorado from 2012 to 2018. There was very little change in rates during this time period.\n",
    "The graph below shows the readmission rated for for all the CVD Chronic Conditions per year. The first graph is Colorado, the second is the US."
   ]
  },
  {
   "cell_type": "code",
   "execution_count": 148,
   "metadata": {},
   "outputs": [
    {
     "data": {
      "text/plain": [
       "State\n",
       "Colorado     AxesSubplot(0.125,0.125;0.775x0.755)\n",
       "National     AxesSubplot(0.125,0.125;0.775x0.755)\n",
       "dtype: object"
      ]
     },
     "execution_count": 148,
     "metadata": {},
     "output_type": "execute_result"
    },
    {
     "data": {
      "image/png": "[encoded data removed]",
      "text/plain": [
       "<Figure size 432x288 with 1 Axes>"
      ]
     },
     "metadata": {
      "needs_background": "light"
     },
     "output_type": "display_data"
    },
    {
     "data": {
      "image/png": "[encoded data removed]",
      "text/plain": [
       "<Figure size 432x288 with 1 Axes>"
      ]
     },
     "metadata": {
      "needs_background": "light"
     },
     "output_type": "display_data"
    }
   ],
   "source": [
    "CVD_Readm.groupby('State').plot(kind='bar', x= 'Year' ,y =['Atrial Fibrillation ', 'Heart Failure ', 'Ischemic Heart Disease ', 'Stroke '], title=' readmission rates for for all the CVD Chronic Conditions per year')\n"
   ]
  },
  {
   "cell_type": "markdown",
   "metadata": {},
   "source": [
    "Medicare also had data on prevalence of chronic conditions either by iteslf or with other cormorbid conditions. "
   ]
  },
  {
   "cell_type": "code",
   "execution_count": 135,
   "metadata": {},
   "outputs": [
    {
     "data": {
      "text/plain": [
       "Index(['State', 'Chronic Condition', 'Gender', 'Age Group', 'Enrollment',\n",
       "       'Chronic Condition Prevalence %',\n",
       "       'Chronic Condition Co-Morbidity: Prevalence Only Condition %',\n",
       "       'Chronic Condition Co-Morbidity: Prevalence of Condition and 1-2 Other Conditions (%)',\n",
       "       'Chronic Condition Co-Morbidity: Prevalence of Condition and 3-4 Other Conditions (%)',\n",
       "       'Chronic Condition Co-Morbidity: Prevalence of Condition and 5+ Other Conditions (%)'],\n",
       "      dtype='object')"
      ]
     },
     "execution_count": 135,
     "metadata": {},
     "output_type": "execute_result"
    }
   ],
   "source": [
    "cc_data= pd.read_excel('Copy of State_Dashboard_Data_Table_2018.xlsx',sheet_name='Prevalence')\n",
    "cc_data.columns"
   ]
  },
  {
   "cell_type": "markdown",
   "metadata": {},
   "source": [
    "I edited the column names for simplicity"
   ]
  },
  {
   "cell_type": "code",
   "execution_count": 137,
   "metadata": {},
   "outputs": [],
   "source": [
    "cc_data=cc_data.rename(columns={'Chronic Condition':'Condition', 'Chronic Condition Prevalence %':'Prevalence',\n",
    "                        'Chronic Condition Co-Morbidity: Prevalence Only Condition %':'Lone', \n",
    "                       'Chronic Condition Co-Morbidity: Prevalence of Condition and 1-2 Other Conditions (%)':'1-2 Co_Morb',\n",
    "                       'Chronic Condition Co-Morbidity: Prevalence of Condition and 3-4 Other Conditions (%)':'3-4 Co_Morb',\n",
    "                       'Chronic Condition Co-Morbidity: Prevalence of Condition and 5+ Other Conditions (%)': '5+ Co_Morb'})\n",
    "#cc_data"
   ]
  },
  {
   "cell_type": "markdown",
   "metadata": {},
   "source": [
    "For ease in reviewing I changed the rate to a percentage by multipling by 100"
   ]
  },
  {
   "cell_type": "code",
   "execution_count": 138,
   "metadata": {},
   "outputs": [],
   "source": [
    "cc_data['Condition'].value_counts()\n",
    "cc_data['Prevalence']=cc_data['Prevalence']*100\n",
    "cc_data['Lone']=cc_data['Lone']*100\n",
    "cc_data['1-2 Co_Morb']=cc_data['1-2 Co_Morb']*100\n",
    "cc_data['3-4 Co_Morb']=cc_data['3-4 Co_Morb']*100\n",
    "cc_data['5+ Co_Morb']=cc_data['5+ Co_Morb']*100"
   ]
  },
  {
   "cell_type": "markdown",
   "metadata": {},
   "source": [
    "I then filtered out the Colorado data"
   ]
  },
  {
   "cell_type": "code",
   "execution_count": 140,
   "metadata": {},
   "outputs": [
    {
     "data": {
      "text/html": [
       "<div>\n",
       "<style scoped>\n",
       "    .dataframe tbody tr th:only-of-type {\n",
       "        vertical-align: middle;\n",
       "    }\n",
       "\n",
       "    .dataframe tbody tr th {\n",
       "        vertical-align: top;\n",
       "    }\n",
       "\n",
       "    .dataframe thead th {\n",
       "        text-align: right;\n",
       "    }\n",
       "</style>\n",
       "<table border=\"1\" class=\"dataframe\">\n",
       "  <thead>\n",
       "    <tr style=\"text-align: right;\">\n",
       "      <th></th>\n",
       "      <th>State</th>\n",
       "      <th>Condition</th>\n",
       "      <th>Gender</th>\n",
       "      <th>Age Group</th>\n",
       "      <th>Enrollment</th>\n",
       "      <th>Prevalence</th>\n",
       "      <th>Lone</th>\n",
       "      <th>1-2 Co_Morb</th>\n",
       "      <th>3-4 Co_Morb</th>\n",
       "      <th>5+ Co_Morb</th>\n",
       "    </tr>\n",
       "  </thead>\n",
       "  <tbody>\n",
       "    <tr>\n",
       "      <th>3408</th>\n",
       "      <td>Colorado</td>\n",
       "      <td>Alcohol Abuse</td>\n",
       "      <td>All</td>\n",
       "      <td>All</td>\n",
       "      <td>All</td>\n",
       "      <td>2.11</td>\n",
       "      <td>6.11</td>\n",
       "      <td>26.44</td>\n",
       "      <td>29.28</td>\n",
       "      <td>38.17</td>\n",
       "    </tr>\n",
       "    <tr>\n",
       "      <th>3435</th>\n",
       "      <td>Colorado</td>\n",
       "      <td>Alzheimer's Disease/Dementia</td>\n",
       "      <td>All</td>\n",
       "      <td>All</td>\n",
       "      <td>All</td>\n",
       "      <td>8.68</td>\n",
       "      <td>7.35</td>\n",
       "      <td>23.76</td>\n",
       "      <td>28.51</td>\n",
       "      <td>40.37</td>\n",
       "    </tr>\n",
       "    <tr>\n",
       "      <th>3462</th>\n",
       "      <td>Colorado</td>\n",
       "      <td>Arthritis</td>\n",
       "      <td>All</td>\n",
       "      <td>All</td>\n",
       "      <td>All</td>\n",
       "      <td>30.73</td>\n",
       "      <td>13.89</td>\n",
       "      <td>34.68</td>\n",
       "      <td>27.80</td>\n",
       "      <td>23.63</td>\n",
       "    </tr>\n",
       "    <tr>\n",
       "      <th>3489</th>\n",
       "      <td>Colorado</td>\n",
       "      <td>Asthma</td>\n",
       "      <td>All</td>\n",
       "      <td>All</td>\n",
       "      <td>All</td>\n",
       "      <td>4.48</td>\n",
       "      <td>6.48</td>\n",
       "      <td>27.36</td>\n",
       "      <td>30.07</td>\n",
       "      <td>36.08</td>\n",
       "    </tr>\n",
       "    <tr>\n",
       "      <th>3516</th>\n",
       "      <td>Colorado</td>\n",
       "      <td>Atrial Fibrillation</td>\n",
       "      <td>All</td>\n",
       "      <td>All</td>\n",
       "      <td>All</td>\n",
       "      <td>6.60</td>\n",
       "      <td>2.80</td>\n",
       "      <td>18.89</td>\n",
       "      <td>29.70</td>\n",
       "      <td>48.61</td>\n",
       "    </tr>\n",
       "    <tr>\n",
       "      <th>3543</th>\n",
       "      <td>Colorado</td>\n",
       "      <td>Autism Spectrum Disorders</td>\n",
       "      <td>All</td>\n",
       "      <td>All</td>\n",
       "      <td>All</td>\n",
       "      <td>0.19</td>\n",
       "      <td>32.38</td>\n",
       "      <td>41.05</td>\n",
       "      <td>15.70</td>\n",
       "      <td>10.87</td>\n",
       "    </tr>\n",
       "    <tr>\n",
       "      <th>3570</th>\n",
       "      <td>Colorado</td>\n",
       "      <td>COPD</td>\n",
       "      <td>All</td>\n",
       "      <td>All</td>\n",
       "      <td>All</td>\n",
       "      <td>9.37</td>\n",
       "      <td>4.25</td>\n",
       "      <td>20.50</td>\n",
       "      <td>28.80</td>\n",
       "      <td>46.45</td>\n",
       "    </tr>\n",
       "    <tr>\n",
       "      <th>3597</th>\n",
       "      <td>Colorado</td>\n",
       "      <td>Cancer</td>\n",
       "      <td>All</td>\n",
       "      <td>All</td>\n",
       "      <td>All</td>\n",
       "      <td>7.40</td>\n",
       "      <td>10.85</td>\n",
       "      <td>31.91</td>\n",
       "      <td>28.97</td>\n",
       "      <td>28.28</td>\n",
       "    </tr>\n",
       "    <tr>\n",
       "      <th>3624</th>\n",
       "      <td>Colorado</td>\n",
       "      <td>Chronic Kidney Disease</td>\n",
       "      <td>All</td>\n",
       "      <td>All</td>\n",
       "      <td>All</td>\n",
       "      <td>19.15</td>\n",
       "      <td>2.83</td>\n",
       "      <td>21.44</td>\n",
       "      <td>34.67</td>\n",
       "      <td>41.06</td>\n",
       "    </tr>\n",
       "    <tr>\n",
       "      <th>3651</th>\n",
       "      <td>Colorado</td>\n",
       "      <td>Depression</td>\n",
       "      <td>All</td>\n",
       "      <td>All</td>\n",
       "      <td>All</td>\n",
       "      <td>16.51</td>\n",
       "      <td>9.67</td>\n",
       "      <td>29.73</td>\n",
       "      <td>28.69</td>\n",
       "      <td>31.91</td>\n",
       "    </tr>\n",
       "    <tr>\n",
       "      <th>3678</th>\n",
       "      <td>Colorado</td>\n",
       "      <td>Diabetes</td>\n",
       "      <td>All</td>\n",
       "      <td>All</td>\n",
       "      <td>All</td>\n",
       "      <td>18.29</td>\n",
       "      <td>5.58</td>\n",
       "      <td>26.98</td>\n",
       "      <td>34.12</td>\n",
       "      <td>33.32</td>\n",
       "    </tr>\n",
       "    <tr>\n",
       "      <th>3705</th>\n",
       "      <td>Colorado</td>\n",
       "      <td>Drug/Substance Abuse</td>\n",
       "      <td>All</td>\n",
       "      <td>All</td>\n",
       "      <td>All</td>\n",
       "      <td>3.55</td>\n",
       "      <td>5.16</td>\n",
       "      <td>26.75</td>\n",
       "      <td>28.21</td>\n",
       "      <td>39.87</td>\n",
       "    </tr>\n",
       "    <tr>\n",
       "      <th>3732</th>\n",
       "      <td>Colorado</td>\n",
       "      <td>HIV/AIDS</td>\n",
       "      <td>All</td>\n",
       "      <td>All</td>\n",
       "      <td>All</td>\n",
       "      <td>0.21</td>\n",
       "      <td>13.60</td>\n",
       "      <td>33.40</td>\n",
       "      <td>26.20</td>\n",
       "      <td>26.80</td>\n",
       "    </tr>\n",
       "    <tr>\n",
       "      <th>3759</th>\n",
       "      <td>Colorado</td>\n",
       "      <td>Heart Failure</td>\n",
       "      <td>All</td>\n",
       "      <td>All</td>\n",
       "      <td>All</td>\n",
       "      <td>10.28</td>\n",
       "      <td>1.65</td>\n",
       "      <td>12.97</td>\n",
       "      <td>28.15</td>\n",
       "      <td>57.22</td>\n",
       "    </tr>\n",
       "    <tr>\n",
       "      <th>3786</th>\n",
       "      <td>Colorado</td>\n",
       "      <td>Hepatitis (Chronic Viral B &amp; C)</td>\n",
       "      <td>All</td>\n",
       "      <td>All</td>\n",
       "      <td>All</td>\n",
       "      <td>0.63</td>\n",
       "      <td>9.66</td>\n",
       "      <td>28.30</td>\n",
       "      <td>26.21</td>\n",
       "      <td>35.83</td>\n",
       "    </tr>\n",
       "    <tr>\n",
       "      <th>3813</th>\n",
       "      <td>Colorado</td>\n",
       "      <td>Hyperlipidemia</td>\n",
       "      <td>All</td>\n",
       "      <td>All</td>\n",
       "      <td>All</td>\n",
       "      <td>33.10</td>\n",
       "      <td>6.69</td>\n",
       "      <td>35.45</td>\n",
       "      <td>32.15</td>\n",
       "      <td>25.71</td>\n",
       "    </tr>\n",
       "    <tr>\n",
       "      <th>3840</th>\n",
       "      <td>Colorado</td>\n",
       "      <td>Hypertension</td>\n",
       "      <td>All</td>\n",
       "      <td>All</td>\n",
       "      <td>All</td>\n",
       "      <td>42.39</td>\n",
       "      <td>6.97</td>\n",
       "      <td>35.84</td>\n",
       "      <td>32.43</td>\n",
       "      <td>24.76</td>\n",
       "    </tr>\n",
       "    <tr>\n",
       "      <th>3867</th>\n",
       "      <td>Colorado</td>\n",
       "      <td>Ischemic Heart Disease</td>\n",
       "      <td>All</td>\n",
       "      <td>All</td>\n",
       "      <td>All</td>\n",
       "      <td>19.83</td>\n",
       "      <td>5.17</td>\n",
       "      <td>24.19</td>\n",
       "      <td>32.71</td>\n",
       "      <td>37.94</td>\n",
       "    </tr>\n",
       "    <tr>\n",
       "      <th>3894</th>\n",
       "      <td>Colorado</td>\n",
       "      <td>Osteoporosis</td>\n",
       "      <td>All</td>\n",
       "      <td>All</td>\n",
       "      <td>All</td>\n",
       "      <td>6.22</td>\n",
       "      <td>8.96</td>\n",
       "      <td>33.08</td>\n",
       "      <td>28.12</td>\n",
       "      <td>29.83</td>\n",
       "    </tr>\n",
       "    <tr>\n",
       "      <th>3921</th>\n",
       "      <td>Colorado</td>\n",
       "      <td>Schizophrenia and Other Psychotic Disorders</td>\n",
       "      <td>All</td>\n",
       "      <td>All</td>\n",
       "      <td>All</td>\n",
       "      <td>1.95</td>\n",
       "      <td>14.02</td>\n",
       "      <td>29.08</td>\n",
       "      <td>25.04</td>\n",
       "      <td>31.87</td>\n",
       "    </tr>\n",
       "    <tr>\n",
       "      <th>3948</th>\n",
       "      <td>Colorado</td>\n",
       "      <td>Stroke</td>\n",
       "      <td>All</td>\n",
       "      <td>All</td>\n",
       "      <td>All</td>\n",
       "      <td>2.68</td>\n",
       "      <td>1.99</td>\n",
       "      <td>15.12</td>\n",
       "      <td>28.16</td>\n",
       "      <td>54.73</td>\n",
       "    </tr>\n",
       "  </tbody>\n",
       "</table>\n",
       "</div>"
      ],
      "text/plain": [
       "         State                                    Condition Gender Age Group  \\\n",
       "3408  Colorado                                Alcohol Abuse    All       All   \n",
       "3435  Colorado                 Alzheimer's Disease/Dementia    All       All   \n",
       "3462  Colorado                                    Arthritis    All       All   \n",
       "3489  Colorado                                       Asthma    All       All   \n",
       "3516  Colorado                          Atrial Fibrillation    All       All   \n",
       "3543  Colorado                    Autism Spectrum Disorders    All       All   \n",
       "3570  Colorado                                         COPD    All       All   \n",
       "3597  Colorado                                       Cancer    All       All   \n",
       "3624  Colorado                       Chronic Kidney Disease    All       All   \n",
       "3651  Colorado                                   Depression    All       All   \n",
       "3678  Colorado                                     Diabetes    All       All   \n",
       "3705  Colorado                         Drug/Substance Abuse    All       All   \n",
       "3732  Colorado                                     HIV/AIDS    All       All   \n",
       "3759  Colorado                                Heart Failure    All       All   \n",
       "3786  Colorado              Hepatitis (Chronic Viral B & C)    All       All   \n",
       "3813  Colorado                               Hyperlipidemia    All       All   \n",
       "3840  Colorado                                 Hypertension    All       All   \n",
       "3867  Colorado                       Ischemic Heart Disease    All       All   \n",
       "3894  Colorado                                 Osteoporosis    All       All   \n",
       "3921  Colorado  Schizophrenia and Other Psychotic Disorders    All       All   \n",
       "3948  Colorado                                       Stroke    All       All   \n",
       "\n",
       "     Enrollment  Prevalence   Lone  1-2 Co_Morb  3-4 Co_Morb  5+ Co_Morb  \n",
       "3408        All        2.11   6.11        26.44        29.28       38.17  \n",
       "3435        All        8.68   7.35        23.76        28.51       40.37  \n",
       "3462        All       30.73  13.89        34.68        27.80       23.63  \n",
       "3489        All        4.48   6.48        27.36        30.07       36.08  \n",
       "3516        All        6.60   2.80        18.89        29.70       48.61  \n",
       "3543        All        0.19  32.38        41.05        15.70       10.87  \n",
       "3570        All        9.37   4.25        20.50        28.80       46.45  \n",
       "3597        All        7.40  10.85        31.91        28.97       28.28  \n",
       "3624        All       19.15   2.83        21.44        34.67       41.06  \n",
       "3651        All       16.51   9.67        29.73        28.69       31.91  \n",
       "3678        All       18.29   5.58        26.98        34.12       33.32  \n",
       "3705        All        3.55   5.16        26.75        28.21       39.87  \n",
       "3732        All        0.21  13.60        33.40        26.20       26.80  \n",
       "3759        All       10.28   1.65        12.97        28.15       57.22  \n",
       "3786        All        0.63   9.66        28.30        26.21       35.83  \n",
       "3813        All       33.10   6.69        35.45        32.15       25.71  \n",
       "3840        All       42.39   6.97        35.84        32.43       24.76  \n",
       "3867        All       19.83   5.17        24.19        32.71       37.94  \n",
       "3894        All        6.22   8.96        33.08        28.12       29.83  \n",
       "3921        All        1.95  14.02        29.08        25.04       31.87  \n",
       "3948        All        2.68   1.99        15.12        28.16       54.73  "
      ]
     },
     "execution_count": 140,
     "metadata": {},
     "output_type": "execute_result"
    }
   ],
   "source": [
    "CO= cc_data[cc_data['State']=='Colorado']\n",
    "CO_All=CO[CO['Enrollment']=='All']\n",
    "CO_All=CO_All[CO_All['Gender']=='All']\n",
    "CO_All=CO_All[CO_All['Age Group']=='All']\n",
    "#CO_All['Prevalence', 'Lone', '1-2 Co_Morb', '3-4 Co_Morb', '5+ Co_Morb']=CO_All['Prevalence', 'Lone', '1-2 Co_Morb', '3-4 Co_Morb', '5+ Co_Morb'].apply(CO_All['Prevalence', 'Lone',\n",
    "CO_All"
   ]
  },
  {
   "cell_type": "markdown",
   "metadata": {},
   "source": [
    "I elecated to not graph this data, as I had already created graphs for similar data"
   ]
  },
  {
   "cell_type": "code",
   "execution_count": 141,
   "metadata": {},
   "outputs": [],
   "source": [
    "National=cc_data[cc_data['Enrollment']=='All']\n",
    "National_All=National[National['State']=='National']\n",
    "National_All2=National_All[National_All['Age Group']=='All']\n",
    "National_All2= National_All2[National_All2['Gender']=='All']\n",
    "#National_All2=National_All2[National_All2['State']=='National']\n",
    "National_All\n",
    "National2=National[National['State']=='National']\n",
    "#National_All2['Prevalence']"
   ]
  },
  {
   "cell_type": "code",
   "execution_count": 144,
   "metadata": {},
   "outputs": [],
   "source": [
    "Graph1=pd.concat([CO_All, National_All2], axis=0, ignore_index=False)\n"
   ]
  },
  {
   "cell_type": "markdown",
   "metadata": {},
   "source": [
    "Again, as I had already created similar graphs I elected to not create visulisations of the above  data"
   ]
  },
  {
   "cell_type": "markdown",
   "metadata": {},
   "source": [
    "The Last data set contained 30 day readmssion rates at the natiional, state and hospital level for a selected time frame.\n",
    "It was downloaded locally, then uploaded into the notebook"
   ]
  },
  {
   "cell_type": "code",
   "execution_count": 55,
   "metadata": {},
   "outputs": [
    {
     "data": {
      "text/plain": [
       "Index(['Facility Name', 'Facility ID', 'State', 'Measure Name',\n",
       "       'Number of Discharges', 'Footnote', 'Excess Readmission Ratio',\n",
       "       'Predicted Readmission Rate', 'Expected Readmission Rate',\n",
       "       'Number of Readmissions', 'Start Date', 'End Date'],\n",
       "      dtype='object')"
      ]
     },
     "execution_count": 55,
     "metadata": {},
     "output_type": "execute_result"
    }
   ],
   "source": [
    "data=pd.read_csv('FY_2021_Hospital_Readmissions_Reduction_Program_Hospital (1).csv')\n",
    "data.columns"
   ]
  },
  {
   "cell_type": "markdown",
   "metadata": {},
   "source": [
    "The column names were edited for simplicity"
   ]
  },
  {
   "cell_type": "code",
   "execution_count": 145,
   "metadata": {},
   "outputs": [],
   "source": [
    "data=data.rename(columns={ 'Measure Name': 'measure', 'Facility Name':'facility'})"
   ]
  },
  {
   "cell_type": "markdown",
   "metadata": {},
   "source": [
    "The readmission rates for the CVD data were filtered, each into its own dataframe. The Columns were again renamed for ease in merging the dataframes."
   ]
  },
  {
   "cell_type": "code",
   "execution_count": 146,
   "metadata": {},
   "outputs": [],
   "source": [
    "hf=data[data['measure']== 'READM-30-HF-HRRP']\n",
    "hf\n",
    "hf=hf.rename(columns={'measure':'hf', 'Number of Discharges':'hf_DC','Number of Readmissions':'hf_RA','Expected Readmission Rate':'hf_expRR','Excess Readmission Ratio':'hf_excessRR'})\n",
    "cabg=data[data['measure']== 'READM-30-CABG-HRRP']\n",
    "cabg=cabg.rename(columns={'measure':'cabg', 'Number of Discharges':'cabg_DC','Number of Readmissions':'cabg_RA','Expected Readmission Rate':'cabg_expRR','Excess Readmission Ratio':'cabg_excessRR'})\n",
    "cabg\n",
    "ami=data[data['measure']== 'READM-30-AMI-HRRP']\n",
    "ami=ami.rename(columns={'measure':'ami', 'Number of Discharges':'ami_DC','Number of Readmissions':'ami_RA','Expected Readmission Rate':'ami_expRR','Excess Readmission Ratio':'ami_excessRR'})\n"
   ]
  },
  {
   "cell_type": "markdown",
   "metadata": {},
   "source": [
    "The data frames were merged, and values that had listed \" too few to report\" were converted to NAN"
   ]
  },
  {
   "cell_type": "code",
   "execution_count": 147,
   "metadata": {},
   "outputs": [],
   "source": [
    "cardiac= pd.merge(hf, ami, on ='facility', how='outer')\n",
    "cardiac=pd.merge(cardiac, cabg, how='outer', on='facility')\n",
    "cardiac=cardiac[['facility', 'State', 'ami_DC', 'ami_RA',  'ami_expRR', 'ami_excessRR', 'hf_DC', 'hf_RA', 'hf_expRR', 'hf_excessRR', 'cabg_DC', 'cabg_RA', 'cabg_expRR', 'cabg_excessRR']]\n",
    "#cardiac=cardiac[['facility', 'State', 'hf', 'hf_DC','hf_excessRR','hf_RA', 'ami', 'ami_DC', 'ami_excessRR','ami_RA', 'cabg', 'cabg_DC', 'cabg_excessRR', 'cabg_RA']]\n",
    "cardiac.replace(to_replace='Too Few to Report', value= 'NaN',regex=False, inplace=True)"
   ]
  },
  {
   "cell_type": "markdown",
   "metadata": {},
   "source": [
    "Columns were converted to numeric. The total discharges and readmissions for each state were calcuated by grouping by state, the summing."
   ]
  },
  {
   "cell_type": "markdown",
   "metadata": {},
   "source": [
    "Averages and medians were then calculated, and a new dataframe created with the means, medians, discharge and readmission rates."
   ]
  },
  {
   "cell_type": "code",
   "execution_count": 60,
   "metadata": {},
   "outputs": [
    {
     "data": {
      "text/plain": [
       "Index(['ami_dc_T', 'ami_ra_T', 'hf_dc_T', 'hf_ra_T', 'cabg_dc_T', 'cabg_ra_T',\n",
       "       'totalDC', 'ami_dc_avg', 'ami_ra_avg', 'hf_dc_avg', 'hf_ra_avg',\n",
       "       'cabg_dc_avg', 'cabg_ra-avg', 'ami_dc_Med', 'ami_ra_Med', 'hf_dc_med',\n",
       "       'hf_ra_med', 'cabg_dc_med', 'cabg_ra-Med'],\n",
       "      dtype='object')"
      ]
     },
     "execution_count": 60,
     "metadata": {},
     "output_type": "execute_result"
    }
   ],
   "source": [
    "cardiac[['hf_RA','ami_RA', 'cabg_RA' ]]=cardiac[['hf_RA','ami_RA', 'cabg_RA' ]].astype('float64')\n",
    "states= cardiac.groupby(['State']).agg({'hf_DC':['sum', 'mean', 'median'], 'cabg_DC':['sum', 'mean', 'median'],'ami_DC':['sum', 'mean', 'median'],'hf_RA':['sum', 'mean', 'median'], 'ami_RA':['sum', 'mean', 'median'], 'cabg_RA':['sum', 'mean', 'median'] })\n",
    "statesSum=cardiac.groupby(['State']).sum()\n",
    "\n",
    "statesSum=statesSum[['ami_DC', 'ami_RA', 'hf_DC', 'hf_RA', 'cabg_DC', 'cabg_RA']]\n",
    "statesSum['totalDC']= statesSum['ami_DC'] + statesSum['hf_DC']+ statesSum['cabg_DC']\n",
    "statesTotal=statesSum.rename(columns={'ami_DC':'ami_dc_T', 'ami_RA':'ami_ra_T', 'hf_DC':'hf_dc_T', 'hf_RA':'hf_ra_T', 'cabg_DC':'cabg_dc_T', 'cabg_RA':'cabg_ra_T'})\n",
    "\n",
    "statesAvg=cardiac.groupby(['State']).mean()\n",
    "statesAvg=statesAvg[['ami_DC', 'ami_RA', 'hf_DC', 'hf_RA', 'cabg_DC', 'cabg_RA']]\n",
    "statesAvg=statesAvg.rename(columns={'ami_DC':'ami_dc_avg', 'ami_RA':'ami_ra_avg', 'hf_DC':'hf_dc_avg', 'hf_RA':'hf_ra_avg', 'cabg_DC':'cabg_dc_avg', 'cabg_RA':'cabg_ra-avg'})\n",
    "statesMed=cardiac.groupby(['State']).median()\n",
    "statessummary=cardiac.groupby(['State']).describe()\n",
    "statesMed=statesMed[['ami_DC', 'ami_RA', 'hf_DC', 'hf_RA', 'cabg_DC', 'cabg_RA']]\n",
    "summary1=statessummary[['ami_DC', 'ami_RA', 'hf_DC', 'hf_RA', 'cabg_DC', 'cabg_RA']]\n",
    "statesMed=statesMed.rename(columns={'ami_DC':'ami_dc_Med', 'ami_RA':'ami_ra_Med', 'hf_DC':'hf_dc_med', 'hf_RA':'hf_ra_med', 'cabg_DC':'cabg_dc_med', 'cabg_RA':'cabg_ra-Med'})\n",
    "\n",
    "statesMed\n",
    "StateData=pd.merge(statesTotal, statesAvg, how='outer', on='State')\n",
    "StateData=pd.merge(StateData,statesMed, how='outer', on='State')\n",
    "StateData.columns"
   ]
  },
  {
   "cell_type": "code",
   "execution_count": 151,
   "metadata": {},
   "outputs": [
    {
     "data": {
      "text/plain": [
       "Text(0, 0.5, 'Number of readmission')"
      ]
     },
     "execution_count": 151,
     "metadata": {},
     "output_type": "execute_result"
    },
    {
     "data": {
      "image/png": "[encoded data removed]",
      "text/plain": [
       "<Figure size 1080x504 with 1 Axes>"
      ]
     },
     "metadata": {
      "needs_background": "light"
     },
     "output_type": "display_data"
    }
   ],
   "source": [
    "StateDataAMI=StateData[[ 'ami_ra_T','ami_ra_Med']]\n",
    "StateDataAMI.plot(kind='bar', title= '30 day readmissions after MI')\n",
    "plt.title('30 day readmissions after MI')\n",
    "plt.xlabel(\"State\")\n",
    "plt.ylabel(\"Number of readmission\")\n",
    "summary=StateData.describe()\n",
    "StateDataAMI['ami_ra_T'].plot(kind='bar', x= 'State',y='ami_ra_T', title='30 day readmission after MI', figsize=[15, 7])\n",
    "plt.title('30 day readmissions after MI')\n",
    "plt.xlabel(\"State\")\n",
    "plt.ylabel(\"Number of readmission\")"
   ]
  },
  {
   "cell_type": "code",
   "execution_count": 152,
   "metadata": {},
   "outputs": [
    {
     "data": {
      "text/plain": [
       "Text(0, 0.5, 'Median Number of readmission')"
      ]
     },
     "execution_count": 152,
     "metadata": {},
     "output_type": "execute_result"
    },
    {
     "data": {
      "image/png": "[encoded data removed]",
      "text/plain": [
       "<Figure size 1080x504 with 1 Axes>"
      ]
     },
     "metadata": {
      "needs_background": "light"
     },
     "output_type": "display_data"
    }
   ],
   "source": [
    "StateDataAMI['ami_ra_Med'].plot(kind='bar', x='State', y='ami_ra_Med', title='30 day readmission after MI', figsize=[15,7])\n",
    "plt.title('30 day readmissions after MI')\n",
    "plt.xlabel(\"State\")\n",
    "plt.ylabel(\"Median Number of readmission\")"
   ]
  },
  {
   "cell_type": "markdown",
   "metadata": {},
   "source": [
    "To assess the difference in hospitals, I filtered by hospitals in the Denver Metro area and combined them in a dataset. \n",
    "After the dataframe was created, I had to chnage on the the columns to numeric.\n",
    "The graph is comprised of the hospital measures."
   ]
  },
  {
   "cell_type": "code",
   "execution_count": 172,
   "metadata": {},
   "outputs": [
    {
     "name": "stderr",
     "output_type": "stream",
     "text": [
      "/opt/tljh/user/lib/python3.6/site-packages/ipykernel_launcher.py:26: SettingWithCopyWarning: \n",
      "A value is trying to be set on a copy of a slice from a DataFrame.\n",
      "Try using .loc[row_indexer,col_indexer] = value instead\n",
      "\n",
      "See the caveats in the documentation: https://pandas.pydata.org/pandas-docs/stable/user_guide/indexing.html#returning-a-view-versus-a-copy\n"
     ]
    },
    {
     "data": {
      "text/plain": [
       "facility\n",
       "BOULDER COMMUNITY HEALTH                     AxesSubplot(0.125,0.125;0.775x0.755)\n",
       "CENTURA HEALTH-PORTER ADVENTIST HOSPITAL     AxesSubplot(0.125,0.125;0.775x0.755)\n",
       "GOOD SAMARITAN MEDICAL CENTER LLC            AxesSubplot(0.125,0.125;0.775x0.755)\n",
       "LUTHERAN MEDICAL CENTER                      AxesSubplot(0.125,0.125;0.775x0.755)\n",
       "NORTH SUBURBAN MEDICAL CENTER                AxesSubplot(0.125,0.125;0.775x0.755)\n",
       "ROSE MEDICAL CENTER                          AxesSubplot(0.125,0.125;0.775x0.755)\n",
       "SAINT JOSEPH HOSPITAL                        AxesSubplot(0.125,0.125;0.775x0.755)\n",
       "UNIVERSITY OF COLORADO HOSPITAL AUTHORITY    AxesSubplot(0.125,0.125;0.775x0.755)\n",
       "dtype: object"
      ]
     },
     "execution_count": 172,
     "metadata": {},
     "output_type": "execute_result"
    },
    {
     "data": {
      "image/png": "[encoded data removed]",
      "text/plain": [
       "<Figure size 432x288 with 1 Axes>"
      ]
     },
     "metadata": {
      "needs_background": "light"
     },
     "output_type": "display_data"
    },
    {
     "data": {
      "image/png": "[encoded data removed]",
      "text/plain": [
       "<Figure size 432x288 with 1 Axes>"
      ]
     },
     "metadata": {
      "needs_background": "light"
     },
     "output_type": "display_data"
    },
    {
     "data": {
      "image/png": "[encoded data removed]",
      "text/plain": [
       "<Figure size 432x288 with 1 Axes>"
      ]
     },
     "metadata": {
      "needs_background": "light"
     },
     "output_type": "display_data"
    },
    {
     "data": {
      "image/png": "[encoded data removed]",
      "text/plain": [
       "<Figure size 432x288 with 1 Axes>"
      ]
     },
     "metadata": {
      "needs_background": "light"
     },
     "output_type": "display_data"
    },
    {
     "data": {
      "image/png": "[encoded data removed]",
      "text/plain": [
       "<Figure size 432x288 with 1 Axes>"
      ]
     },
     "metadata": {
      "needs_background": "light"
     },
     "output_type": "display_data"
    },
    {
     "data": {
      "image/png": "[encoded data removed]",
      "text/plain": [
       "<Figure size 432x288 with 1 Axes>"
      ]
     },
     "metadata": {
      "needs_background": "light"
     },
     "output_type": "display_data"
    },
    {
     "data": {
      "image/png": "[encoded data removed]",
      "text/plain": [
       "<Figure size 432x288 with 1 Axes>"
      ]
     },
     "metadata": {
      "needs_background": "light"
     },
     "output_type": "display_data"
    },
    {
     "data": {
      "image/png": "[encoded data removed]",
      "text/plain": [
       "<Figure size 432x288 with 1 Axes>"
      ]
     },
     "metadata": {
      "needs_background": "light"
     },
     "output_type": "display_data"
    }
   ],
   "source": [
    "CO= data[data['State']=='CO']\n",
    "SJH=CO[CO['facility']=='SAINT JOSEPH HOSPITAL']\n",
    "SJH\n",
    "GSH=CO[CO['facility']=='GOOD SAMARITAN MEDICAL CENTER LLC']\n",
    "GSH\n",
    "LMC=CO[CO['facility']== 'LUTHERAN MEDICAL CENTER']\n",
    "LMC\n",
    "BCH=CO[CO['facility']=='BOULDER COMMUNITY HEALTH']\n",
    "BCH\n",
    "UCH=CO[CO['facility']=='UNIVERSITY OF COLORADO HOSPITAL AUTHORITY']\n",
    "UCH\n",
    "MMC=CO[CO['facility']==' MCKEE MEDICAL CENTER']\n",
    "RMC=CO[CO['facility']=='ROSE MEDICAL CENTER']\n",
    "SMC=CO[CO['facility']=='ROSE MEDICAL CENTER']\n",
    "Porter=CO[CO['facility']=='CENTURA HEALTH-PORTER ADVENTIST HOSPITAL']\n",
    "NSMC=CO[CO['facility']=='NORTH SUBURBAN MEDICAL CENTER']\n",
    "HOSP=pd.concat([SJH, GSH, LMC, BCH, UCH, MMC, RMC, SMC, Porter, NSMC ], axis=0, ignore_index=False).infer_objects()  \n",
    "HOSP\n",
    "hos_hf=HOSP[HOSP['measure']=='READM-30-HF-HRRP']\n",
    "hos_CABG=HOSP[HOSP['measure']=='READM-30-CABG-HRRP']\n",
    "hos_AMI=HOSP[HOSP['measure']=='READM-30-AMI-HRRP']\n",
    "hosp_CVD=pd.concat([hos_hf, hos_CABG, hos_AMI], axis=0, ignore_index=False)\n",
    "hosp_CVD\n",
    "hosp_CVD2=hosp_CVD[['facility','measure', 'Number of Discharges','Excess Readmission Ratio', 'Predicted Readmission Rate', 'Expected Readmission Rate', 'Number of Readmissions' ]]\n",
    "hosp_CVD2.replace(to_replace='Too Few to Report', value= 'NaN',regex=False, inplace=True)\n",
    "hosp_CVD2['Number of Readmissions']=hosp_CVD2['Number of Readmissions'].apply(pd.to_numeric, errors='coerce')\n",
    "#'Excess Readmission Ratio', 'Predicted Readmission Rate', 'Expected Readmission Rate', 'Number of Readmissions' ].apply(pd.to_numeric)\n",
    "hosp_CVD2.groupby('facility').plot(kind='bar', x='measure', y=['Number of Discharges','Excess Readmission Ratio', 'Predicted Readmission Rate', 'Expected Readmission Rate', 'Number of Readmissions'])\n",
    "                            \n"
   ]
  },
  {
   "cell_type": "markdown",
   "metadata": {},
   "source": [
    "This anaysis can be helpful for public health officals and quaility improvement staff at the hospital level. \n",
    "There are data repositories that contain patient level information and more detailed hospital level data that would provide a more robust analysis.\n",
    "However these repsitories are owned or managemed by groupd who control access. Thus I did not have access to them. A data analyst from the individual insitution would have access, \n",
    "this project demonstrates how data can be obtained for comparison and benchmarking."
   ]
  },
  {
   "cell_type": "code",
   "execution_count": null,
   "metadata": {},
   "outputs": [],
   "source": [
    "%%bash\n",
    "git pull\n",
    "git add Final_Project.ipynb\n",
    "git commit -a -m \"Submitting the Final Project\"\n",
    "git push"
   ]
  }
 ],
 "metadata": {
  "kernelspec": {
   "display_name": "Python 3",
   "language": "python",
   "name": "python3"
  },
  "language_info": {
   "codemirror_mode": {
    "name": "ipython",
    "version": 3
   },
   "file_extension": ".py",
   "mimetype": "text/x-python",
   "name": "python",
   "nbconvert_exporter": "python",
   "pygments_lexer": "ipython3",
   "version": "3.6.7"
  }
 },
 "nbformat": 4,
 "nbformat_minor": 4
}
