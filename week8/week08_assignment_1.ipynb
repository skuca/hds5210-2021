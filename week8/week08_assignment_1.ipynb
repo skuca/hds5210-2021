{
 "cells": [
  {
   "cell_type": "markdown",
   "metadata": {},
   "source": [
    "# Week 8 Exercises\n",
    "\n",
    "_McKinney 6.1_\n",
    "\n",
    "_Modules 31 - 32_\n",
    "\n",
    "This week has been all about getting information off the internet both in structured data formats (CSV, JSON, etc) as well as HTML.  More and more data is being made publicly available on the internet.  These data sources are especially useful for making connections between real-world operational projects and government reported data.\n",
    "\n",
    "Test your knowledge of the content from the lectures through the multiple choice questions below.\n",
    "\n",
    "---\n",
    "---"
   ]
  },
  {
   "cell_type": "markdown",
   "metadata": {},
   "source": [
    "## A: HealthData.gov\n",
    "\n",
    "Go to [healthdata.gov](http://www.healthdata.gov) and search \"all FDA recalls\" to see if you can finda any information about recalls from the Food & Drug Administration.  Use the information you find about this data source to answer the questions below.\n",
    "\n",
    "\n",
    "### 31.1 The All FDA Recalls data is available in what file type?\n",
    "\n",
    "> A) CSV\n",
    ">\n",
    "> B) Excel\n",
    ">\n",
    "> C) XML\n",
    ">\n",
    "> D) JSON"
   ]
  },
  {
   "cell_type": "code",
   "execution_count": 1,
   "metadata": {},
   "outputs": [],
   "source": [
    "answers = {}\n",
    "answers[\"31.1\"] = \"C\""
   ]
  },
  {
   "cell_type": "markdown",
   "metadata": {},
   "source": [
    "### 31.2 Which of the following is a major challenge with this open government entry?\n",
    "\n",
    "> A) The data has not been updated in more than 5 years\n",
    "> \n",
    "> B) The link to access the actual data file is broken\n",
    ">\n",
    "> C) The data set has no listed owner\n",
    ">\n",
    "> D) The data is classified as secret"
   ]
  },
  {
   "cell_type": "code",
   "execution_count": 2,
   "metadata": {},
   "outputs": [],
   "source": [
    "answers[\"31.2\"] = \"C\""
   ]
  },
  {
   "cell_type": "markdown",
   "metadata": {},
   "source": [
    "## B: Kaggle.com\n",
    "\n",
    "Go to [Kaggle.com](http://kaggle.com) and search datasets for the End ALS Kaggle Challenge dataset, then answer the questions below regarding that entry.\n",
    "\n",
    "### 31.3 The total data set contains how many files?\n",
    "\n",
    "> A) 54\n",
    ">\n",
    "> B) 70\n",
    "> \n",
    "> C) 227\n",
    ">\n",
    "> D) 5,475\n"
   ]
  },
  {
   "cell_type": "code",
   "execution_count": 3,
   "metadata": {},
   "outputs": [],
   "source": [
    "answers[\"31.3\"] = \"X\""
   ]
  },
  {
   "cell_type": "markdown",
   "metadata": {},
   "source": [
    "### 31.4 Which of the following domains of data and metadata are not included in the Kaggle ALS data sets on this page?\n",
    "\n",
    "> A) Genomic\n",
    "> \n",
    "> B) Clinical\n",
    ">\n",
    "> C) Legal Terms of Use\n",
    ">\n",
    "> D) Social Determinants"
   ]
  },
  {
   "cell_type": "code",
   "execution_count": 4,
   "metadata": {},
   "outputs": [],
   "source": [
    "answers[\"31.4\"] = \"D\""
   ]
  },
  {
   "cell_type": "markdown",
   "metadata": {},
   "source": [
    "## C: HTML\n",
    "\n",
    "### 32.1 HTML is a form of which other data format we've already discussed?\n",
    "\n",
    "> A) Binary\n",
    ">\n",
    "> B) eXtensible Markup Language\n",
    ">\n",
    "> C) JavaScript Object Notation\n",
    ">\n",
    "> D) HL7 FHIR\n"
   ]
  },
  {
   "cell_type": "code",
   "execution_count": 5,
   "metadata": {},
   "outputs": [],
   "source": [
    "answers[\"32.1\"] = \"B\""
   ]
  },
  {
   "cell_type": "markdown",
   "metadata": {},
   "source": [
    "### 32.2 Which of the following is **not** a term associated with HTML?\n",
    "\n",
    "> A) dictionary\n",
    ">\n",
    "> B) tag\n",
    "> \n",
    "> C) element\n",
    ">\n",
    "> D) attribute"
   ]
  },
  {
   "cell_type": "code",
   "execution_count": 6,
   "metadata": {},
   "outputs": [],
   "source": [
    "answers[\"32.2\"] = \"A\""
   ]
  },
  {
   "cell_type": "markdown",
   "metadata": {},
   "source": [
    "### 32.3 Which of these packages can be used to extract a table of data from HTML using Python?\n",
    "\n",
    "> A) lxml\n",
    ">\n",
    "> B) BeautifulSoup\n",
    ">\n",
    "> C) Pandas\n",
    ">\n",
    "> D) All of the above"
   ]
  },
  {
   "cell_type": "code",
   "execution_count": 7,
   "metadata": {},
   "outputs": [],
   "source": [
    "answers[\"32.3\"] = \"D\""
   ]
  },
  {
   "cell_type": "code",
   "execution_count": null,
   "metadata": {},
   "outputs": [],
   "source": []
  },
  {
   "cell_type": "markdown",
   "metadata": {},
   "source": [
    "---\n",
    "\n",
    "Checking Your Work\n",
    "---\n",
    "\n",
    "After completing your work above and running each cell, you can check your answers by running the code below. \n",
    "\n",
    "The easiest way to do this is to use the `Kernel` -> `Restart Kernel and Run All Cells` menu option. This option restarts Python and runs every cell from top to bottom until it encounters an exception of some kind.  It will stop after running the cell below and outputing a summary of how many answers you have correct or incorrect.\n"
   ]
  },
  {
   "cell_type": "code",
   "execution_count": 8,
   "metadata": {},
   "outputs": [
    {
     "name": "stdout",
     "output_type": "stream",
     "text": [
      "   Q#               Yours  Correct?\n",
      " 31.1                   C        OK\n",
      " 31.2                   C        NO\n",
      " 31.3                   X        NO\n",
      " 31.4                   D        OK\n",
      " 32.1                   B        OK\n",
      " 32.2                   A        OK\n",
      " 32.3                   D        OK\n"
     ]
    }
   ],
   "source": [
    "import getpass\n",
    "import boto3\n",
    "import json\n",
    "\n",
    "test = {\n",
    "    \"user\": getpass.getuser(),\n",
    "    \"week\": \"week08\",\n",
    "    \"answers\": answers\n",
    "}\n",
    "\n",
    "client = boto3.client('lambda')\n",
    "\n",
    "response = client.invoke(\n",
    "    FunctionName=\"hds5210-2021\",\n",
    "    InvocationType=\"RequestResponse\",\n",
    "    Payload=json.dumps(test))\n",
    "\n",
    "result = json.loads(response['Payload'].read().decode('utf-8'))\n",
    "\n",
    "print('{0:>5}{1:>20}{2:>10}'.format('Q#','Yours','Correct?'))\n",
    "for row in result.get('results'):\n",
    "    print('{0:>5}{1:>20}{2:>10}'.format(str(row[0]),str(row[1]),str(row[2])))\n"
   ]
  },
  {
   "cell_type": "markdown",
   "metadata": {},
   "source": [
    "---\n",
    "\n",
    "## Submitting Your Work\n",
    "\n",
    "In order to submit your work, you'll need to use the `git` command line program to **add** your homework file (this file) to your local repository, **commit** your changes to your local repository, and then **push** those changes up to github.com.  From there, I'll be able to **pull** the changes down and do my grading.  I'll provide some feedback, **commit** and **push** my comments back to you.  The first line of code below will **pull** down my comments into your local folders.\n",
    "\n",
    "To run through everything one last time and submit your work:\n",
    "1. Use the `Kernel` -> `Restart Kernel and Run All Cells` menu option to run everything from top to bottom and stop here.\n",
    "2. Save this note with Ctrl-S (or Cmd-S)\n",
    "2. Skip down to the last command cell (the one starting with `%%bash`) and run that cell.\n",
    "\n",
    "If anything fails along the way with this submission part of the process, let me know.  I'll help you troubleshoort."
   ]
  },
  {
   "cell_type": "code",
   "execution_count": 9,
   "metadata": {},
   "outputs": [
    {
     "ename": "AssertionError",
     "evalue": "DO NOT REMOVE THIS LINE",
     "output_type": "error",
     "traceback": [
      "\u001b[0;31m---------------------------------------------------------------------------\u001b[0m",
      "\u001b[0;31mAssertionError\u001b[0m                            Traceback (most recent call last)",
      "\u001b[0;32m<ipython-input-9-cef8011cb395>\u001b[0m in \u001b[0;36m<module>\u001b[0;34m\u001b[0m\n\u001b[0;32m----> 1\u001b[0;31m \u001b[0;32massert\u001b[0m \u001b[0;32mFalse\u001b[0m\u001b[0;34m,\u001b[0m \u001b[0;34m\"DO NOT REMOVE THIS LINE\"\u001b[0m\u001b[0;34m\u001b[0m\u001b[0;34m\u001b[0m\u001b[0m\n\u001b[0m",
      "\u001b[0;31mAssertionError\u001b[0m: DO NOT REMOVE THIS LINE"
     ]
    }
   ],
   "source": [
    "assert False, \"DO NOT REMOVE THIS LINE\""
   ]
  },
  {
   "cell_type": "markdown",
   "metadata": {},
   "source": [
    "---"
   ]
  },
  {
   "cell_type": "code",
   "execution_count": null,
   "metadata": {},
   "outputs": [],
   "source": [
    "%%bash\n",
    "git pull\n",
    "git add week08_assignment_1.ipynb\n",
    "git commit -a -m \"Submitting the week 8 review exercises\"\n",
    "git push"
   ]
  },
  {
   "cell_type": "markdown",
   "metadata": {},
   "source": [
    "\n",
    "---\n",
    "\n",
    "If the message above says something like _Submitting the week_8 review exercises_ or _Everything is up to date_, then your work was submitted correctly."
   ]
  },
  {
   "cell_type": "code",
   "execution_count": null,
   "metadata": {},
   "outputs": [],
   "source": [
    "d"
   ]
  }
 ],
 "metadata": {
  "kernelspec": {
   "display_name": "Python 3",
   "language": "python",
   "name": "python3"
  },
  "language_info": {
   "codemirror_mode": {
    "name": "ipython",
    "version": 3
   },
   "file_extension": ".py",
   "mimetype": "text/x-python",
   "name": "python",
   "nbconvert_exporter": "python",
   "pygments_lexer": "ipython3",
   "version": "3.6.7"
  }
 },
 "nbformat": 4,
 "nbformat_minor": 4
}
