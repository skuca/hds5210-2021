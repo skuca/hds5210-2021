{
 "cells": [
  {
   "cell_type": "markdown",
   "metadata": {
    "nbgrader": {
     "grade": false,
     "grade_id": "intro",
     "locked": true,
     "schema_version": 1,
     "solution": false
    }
   },
   "source": [
    "# Week 4 Exercises\n",
    "\n",
    "_modules 15 - 20_\n",
    "\n",
    "_See also [documentation on standard data types](https://docs.python.org/3/library/stdtypes.html)_\n",
    "\n",
    "Modules 15 through 20 have all been about different built-in data types that can be used to create larger and more complex data structures.  We learned about tuples, lists, dictionaries, and how to access and process that data in new ways.\n",
    "\n",
    "\n",
    "\n",
    "Do not change anything else or add any other code to this notebook. If you need to do scratch work to determine an answer, create a new notebook and do your work there.\n",
    "\n",
    "---\n",
    "---"
   ]
  },
  {
   "cell_type": "markdown",
   "metadata": {},
   "source": [
    "### 15.1 Which of the following is **not** a true statement?\n",
    "\n",
    "> A) The elements in both Tuples and Lists have a specific order \n",
    ">\n",
    "> B) Tuples and Lists can both be nested\n",
    ">\n",
    "> C) A Tuple can be concatenated to another Tuple using the `+` operator\n",
    ">\n",
    "> D) Tuples and Lists can both have items appended to their ends\n",
    "\n"
   ]
  },
  {
   "cell_type": "code",
   "execution_count": 1,
   "metadata": {},
   "outputs": [],
   "source": [
    "answers={}\n",
    "answers[\"15.1\"] = \"D\""
   ]
  },
  {
   "cell_type": "markdown",
   "metadata": {},
   "source": [
    "### 15.2 What does this code output?\n",
    "\n",
    "```python\n",
    "(a, b) = ('First', 'Second')\n",
    "(b, a) = (a, b)\n",
    "print(b)\n",
    "```\n",
    "\n",
    "> A) `First`\n",
    ">\n",
    "> B) `Second`\n",
    ">\n",
    "> C) `('First', 'Second')`\n",
    ">\n",
    "> D) _nothing_"
   ]
  },
  {
   "cell_type": "code",
   "execution_count": 2,
   "metadata": {},
   "outputs": [],
   "source": [
    "answers[\"15.2\"] = \"A\""
   ]
  },
  {
   "cell_type": "markdown",
   "metadata": {},
   "source": [
    "### 15.3 What is the output of the following code?\n",
    "\n",
    "```python\n",
    "(a, b) = (['Paul','Alex','Linda','Kathy','Amit','Samira'], [41, 38, 30, 43, 41, 40, 34, 52])\n",
    "len(b)\n",
    "```\n",
    "\n",
    "> A) _Error_\n",
    ">\n",
    "> B) `6`\n",
    ">\n",
    "> C) `8`\n",
    ">\n",
    "> D) _None_"
   ]
  },
  {
   "cell_type": "code",
   "execution_count": 3,
   "metadata": {},
   "outputs": [],
   "source": [
    "answers[\"15.3\"] = \"C\""
   ]
  },
  {
   "cell_type": "markdown",
   "metadata": {},
   "source": [
    "### 16.1 What is the output of the following code?\n",
    "\n",
    "```python\n",
    "(a, b) = (['Paul','Alex','Linda','Kathy','Amit','Samira'], [41, 38, 30, 43, 41, 40, 34, 52])\n",
    "len(a[5])\n",
    "```\n",
    "\n",
    "> A) `4`\n",
    ">\n",
    "> B) `5`\n",
    ">\n",
    "> C) `6`\n",
    ">\n",
    "> D) _None_"
   ]
  },
  {
   "cell_type": "code",
   "execution_count": 4,
   "metadata": {},
   "outputs": [],
   "source": [
    "answers[\"16.1\"] = \"C\""
   ]
  },
  {
   "cell_type": "markdown",
   "metadata": {},
   "source": [
    "### 16.2 What is the output from the code below?\n",
    "\n",
    "```python\n",
    "dxs = [['COPD','CHF','MI'],['DVT','DBS'],['GI','CNC']]\n",
    "len(dxs[1])\n",
    "```\n",
    "\n",
    "> A) _Error_\n",
    ">\n",
    "> B) `3`\n",
    ">\n",
    "> C) `2`\n",
    ">\n",
    "> D) _None_"
   ]
  },
  {
   "cell_type": "code",
   "execution_count": 5,
   "metadata": {},
   "outputs": [],
   "source": [
    "answers[\"16.2\"] = \"C\""
   ]
  },
  {
   "cell_type": "markdown",
   "metadata": {},
   "source": [
    "### 16.3 What will the resulting value of `vals` be?\n",
    "\n",
    "```python\n",
    "vals = [3.14, 1.41]\n",
    "vals.append([2.72])\n",
    "vals = vals + ['i']\n",
    "```\n",
    "\n",
    "> A) `[3.14, 1.41, 2.72, ['i']]`\n",
    ">\n",
    "> B) `[3.14, 1.41, [2.72], 'i']`\n",
    ">\n",
    "> C) `[3.14, 1.41, [2.72], ['i']]`\n",
    ">\n",
    "> D) `[3.14, 1.41, [2.72, 'i']`"
   ]
  },
  {
   "cell_type": "code",
   "execution_count": 6,
   "metadata": {},
   "outputs": [],
   "source": [
    "answers[\"16.3\"] = \"B\""
   ]
  },
  {
   "cell_type": "markdown",
   "metadata": {},
   "source": [
    "### 16.4 Which of the following statements is **not** correct?\n",
    "\n",
    "\n",
    "> A) Lists can have other lists inside them\n",
    ">\n",
    "> B) When you create a list, you must specify how big it will be\n",
    ">\n",
    "> C) A list is an ordered set of objects\n",
    ">\n",
    "> D) list.sort() will sort the list in place without creating a copy"
   ]
  },
  {
   "cell_type": "code",
   "execution_count": 7,
   "metadata": {},
   "outputs": [],
   "source": [
    "answers[\"16.4\"] = \"B\""
   ]
  },
  {
   "cell_type": "markdown",
   "metadata": {},
   "source": [
    "### 17.1 When you retrieve items from a dictionary in a **for** loop, in what order are they processed?\n",
    "\n",
    "> A) An arbitary order that is the same each time as long as the dictionary doesn't change\n",
    ">\n",
    "> B) Always in ascending order\n",
    ">\n",
    "> C) Always in descending order\n",
    ">\n",
    "> D) A different order that is completely random each time"
   ]
  },
  {
   "cell_type": "code",
   "execution_count": 8,
   "metadata": {},
   "outputs": [],
   "source": [
    "answers[\"17.1\"] = \"A\""
   ]
  },
  {
   "cell_type": "markdown",
   "metadata": {},
   "source": [
    "### 17.2 What data types can be used for dictionary *keys*?\n",
    "\n",
    "> A) Only strings\n",
    ">\n",
    "> B) Strings or numbers\n",
    ">\n",
    "> C) Any data type at all\n",
    ">\n",
    "> D) Only those data types that are \"hashable\""
   ]
  },
  {
   "cell_type": "code",
   "execution_count": 9,
   "metadata": {},
   "outputs": [],
   "source": [
    "answers[\"17.2\"] = \"D\""
   ]
  },
  {
   "cell_type": "markdown",
   "metadata": {},
   "source": [
    "### 17.3 Which of the following statements is **not** correct?\n",
    "\n",
    "\n",
    "> A) Dictionaries can contain lists\n",
    ">\n",
    "> B) Lists can contain dictionaries\n",
    ">\n",
    "> C) All dictionary keys must be strings\n",
    ">\n",
    "> D) Dictionaries can contain multiple entries for the same key"
   ]
  },
  {
   "cell_type": "code",
   "execution_count": 10,
   "metadata": {},
   "outputs": [],
   "source": [
    "answers[\"17.3\"] = \"C\", \"D\""
   ]
  },
  {
   "cell_type": "markdown",
   "metadata": {},
   "source": [
    "### 17.4 When you enter your answers for this homework, what is the data type of the `answers` variable?\n",
    "\n",
    "> A) String\n",
    ">\n",
    "> B) List\n",
    ">\n",
    "> C) Tuple\n",
    ">\n",
    "> D) Dictionary"
   ]
  },
  {
   "cell_type": "code",
   "execution_count": 11,
   "metadata": {},
   "outputs": [],
   "source": [
    "answers[\"17.4\"] = \"D\""
   ]
  },
  {
   "cell_type": "markdown",
   "metadata": {},
   "source": [
    "---\n",
    "\n",
    "Checking Your Work\n",
    "---\n",
    "\n",
    "After completing your work above and running each cell, you can check your answers by running the code below. \n",
    "\n",
    "The easiest way to do this is to use the `Kernel` -> `Restart Kernel and Run All Cells` menu option. This option restarts Python and runs every cell from top to bottom until it encounters an exception of some kind.  It will stop after running the cell below and outputing a summary of how many answers you have correct or incorrect.\n"
   ]
  },
  {
   "cell_type": "code",
   "execution_count": 12,
   "metadata": {},
   "outputs": [
    {
     "name": "stdout",
     "output_type": "stream",
     "text": [
      "   Q#               Yours  Correct?\n",
      " 15.1                   D        OK\n",
      " 15.2                   A        OK\n",
      " 15.3                   C        OK\n",
      " 16.1                   C        OK\n",
      " 16.2                   C        OK\n",
      " 16.3                   B        OK\n",
      " 17.1                   A        OK\n",
      " 17.2                   D        OK\n",
      " 17.3          ['C', 'D']        OK\n",
      " 17.4                   D        OK\n"
     ]
    }
   ],
   "source": [
    "import getpass\n",
    "import boto3\n",
    "import json\n",
    "\n",
    "test = {\n",
    "    \"user\": getpass.getuser(),\n",
    "    \"week\": \"week04\",\n",
    "    \"answers\": answers\n",
    "}\n",
    "\n",
    "client = boto3.client('lambda')\n",
    "\n",
    "response = client.invoke(\n",
    "    FunctionName=\"hds5210-2021\",\n",
    "    InvocationType=\"RequestResponse\",\n",
    "    Payload=json.dumps(test))\n",
    "\n",
    "result = json.loads(response['Payload'].read().decode('utf-8'))\n",
    "\n",
    "print('{0:>5}{1:>20}{2:>10}'.format('Q#','Yours','Correct?'))\n",
    "for row in result.get('results'):\n",
    "    print('{0:>5}{1:>20}{2:>10}'.format(str(row[0]),str(row[1]),str(row[2])))\n"
   ]
  },
  {
   "cell_type": "markdown",
   "metadata": {},
   "source": [
    "---\n",
    "\n",
    "## Submitting Your Work\n",
    "\n",
    "In order to submit your work, you'll need to use the `git` command line program to **add** your homework file (this file) to your local repository, **commit** your changes to your local repository, and then **push** those changes up to github.com.  From there, I'll be able to **pull** the changes down and do my grading.  I'll provide some feedback, **commit** and **push** my comments back to you.  The first line of code below will **pull** down my comments into your local folders.\n",
    "\n",
    "To run through everything one last time and submit your work:\n",
    "1. Use the `Kernel` -> `Restart Kernel and Run All Cells` menu option to run everything from top to bottom and stop here.\n",
    "2. Save this note with Ctrl-S (or Cmd-S)\n",
    "2. Skip down to the last command cell (the one starting with `%%bash`) and run that cell.\n",
    "\n",
    "If anything fails along the way with this submission part of the process, let me know.  I'll help you troubleshoort."
   ]
  },
  {
   "cell_type": "code",
   "execution_count": 13,
   "metadata": {},
   "outputs": [
    {
     "ename": "AssertionError",
     "evalue": "DO NOT REMOVE THIS LINE",
     "output_type": "error",
     "traceback": [
      "\u001b[0;31m---------------------------------------------------------------------------\u001b[0m",
      "\u001b[0;31mAssertionError\u001b[0m                            Traceback (most recent call last)",
      "\u001b[0;32m<ipython-input-13-cef8011cb395>\u001b[0m in \u001b[0;36m<module>\u001b[0;34m\u001b[0m\n\u001b[0;32m----> 1\u001b[0;31m \u001b[0;32massert\u001b[0m \u001b[0;32mFalse\u001b[0m\u001b[0;34m,\u001b[0m \u001b[0;34m\"DO NOT REMOVE THIS LINE\"\u001b[0m\u001b[0;34m\u001b[0m\u001b[0;34m\u001b[0m\u001b[0m\n\u001b[0m",
      "\u001b[0;31mAssertionError\u001b[0m: DO NOT REMOVE THIS LINE"
     ]
    }
   ],
   "source": [
    "assert False, \"DO NOT REMOVE THIS LINE\""
   ]
  },
  {
   "cell_type": "markdown",
   "metadata": {},
   "source": [
    "---"
   ]
  },
  {
   "cell_type": "code",
   "execution_count": 14,
   "metadata": {},
   "outputs": [
    {
     "name": "stdout",
     "output_type": "stream",
     "text": [
      "Already up to date.\n",
      "[main 309b76e] Submitting the week 4 review exercises\n",
      " 2 files changed, 491 insertions(+), 6 deletions(-)\n",
      " create mode 100644 week04/week04_assignment_1.ipynb\n"
     ]
    },
    {
     "name": "stderr",
     "output_type": "stream",
     "text": [
      "To github.com:skuca/hds5210-2021.git\n",
      "   e99444a..309b76e  main -> main\n"
     ]
    }
   ],
   "source": [
    "%%bash\n",
    "git pull\n",
    "git add week04_assignment_1.ipynb\n",
    "git commit -a -m \"Submitting the week 4 review exercises\"\n",
    "git push"
   ]
  },
  {
   "cell_type": "markdown",
   "metadata": {},
   "source": [
    "\n",
    "---\n",
    "\n",
    "If the message above says something like _Submitting the week 4 review exercises_ or _Everything is up to date_, then your work was submitted correctly."
   ]
  },
  {
   "cell_type": "code",
   "execution_count": null,
   "metadata": {},
   "outputs": [],
   "source": []
  }
 ],
 "metadata": {
  "celltoolbar": "Create Assignment",
  "kernelspec": {
   "display_name": "Python 3",
   "language": "python",
   "name": "python3"
  },
  "language_info": {
   "codemirror_mode": {
    "name": "ipython",
    "version": 3
   },
   "file_extension": ".py",
   "mimetype": "text/x-python",
   "name": "python",
   "nbconvert_exporter": "python",
   "pygments_lexer": "ipython3",
   "version": "3.6.7"
  }
 },
 "nbformat": 4,
 "nbformat_minor": 2
}
