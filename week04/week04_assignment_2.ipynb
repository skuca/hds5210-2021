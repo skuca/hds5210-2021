{
 "cells": [
  {
   "cell_type": "markdown",
   "metadata": {
    "nbgrader": {
     "grade": false,
     "grade_id": "intro",
     "locked": true,
     "schema_version": 1,
     "solution": false
    }
   },
   "source": [
    "# Week 4 Exercises\n",
    "\n",
    "See: _McKinney 3.1_ and [Python Documentation](https://docs.python.org/3/tutorial/datastructures.html) section 5 on data structures.\n",
    "\n",
    "Modules 15 through 20 have all been about different built-in data types that can be used to create larger and more complex data structures.  We learned about tuples, lists, dictionaries, and how to access and process that data in new ways.\n",
    "\n",
    "**At the begining of the semester, all of the workshop programming exercises will be structured a specific way to make it easier to verify for yourself that you're on the right track as well as easier for me to do a first pass on automated grading.  The structure of each question will require you to write a function using Python code. Don't worry that we haven't talked about functions yet. Just edit the code between** `### BEGIN SOLUTION` and `### END SOLUTION` **as shown in the example below.**\n"
   ]
  },
  {
   "cell_type": "markdown",
   "metadata": {},
   "source": [
    "**WHAT I PROVIDE:**\n",
    "```\n",
    "def some_function(parameter1, parameter2):\n",
    "\n",
    "   ### BEGIN SOLUTION\n",
    "   x = -1\n",
    "   ### END SOLUTION\n",
    "   \n",
    "   return x\n",
    "```\n",
    "\n",
    "**WHAT YOU SHOULD DO:** Just change the parameter names (if you feel you need to) and the calculations between `### BEGIN SOLUTION` and `### END SOLUTION`.  This is just a made up example.\n",
    "```\n",
    "def some_function(a, b):\n",
    "\n",
    "   ### BEGIN SOLUTION\n",
    "   temp = a + b\n",
    "   x = temp / a * b\n",
    "   ### END SOLUTION\n",
    "   \n",
    "   return x\n",
    "```\n"
   ]
  },
  {
   "cell_type": "markdown",
   "metadata": {},
   "source": [
    "---\n",
    "---\n",
    "\n",
    "**Below each programming exercise are some tests (`assertions`) that verify your code is working correctly.  If any assertions fail, you know that something isnt' right with your code, but having all assertions pass doesn't necessarily mean your code is perfect, yet. You should also create your own tests to make sure your code is correct.**\n",
    "\n",
    "**For now, please don't change any function names**"
   ]
  },
  {
   "cell_type": "markdown",
   "metadata": {},
   "source": [
    "### 20.1 Create a sorted list of names\n",
    "\n",
    "Take the list of names below (some are first and last, others are first, middle, and last) and produce a final list of full names separated by commas.\n",
    "\n",
    "```\n",
    "sort_names(['Paul', 'Boal'],['Kermit','the','Frog'],['Donald','Duck'])\n",
    "\n",
    "'Paul Boal, Donald Duck, Kermit the Frog'\n",
    "```"
   ]
  },
  {
   "cell_type": "code",
   "execution_count": null,
   "metadata": {},
   "outputs": [],
   "source": [
    "def sort_names(names):\n",
    "    \n",
    "    sorted_names = \"\"\n",
    "    ### BEGIN SOLUTION\n",
    "   \n",
    "    formatted_names=[]\n",
    "    for name in names:\n",
    "        if len(name)==3:\n",
    "            sortable_name=name[2]+ ', '+ name [1] + ' '+name[0]\n",
    "            printable_name=name[0]+ ', '+ name [1] + ' '+name[1]\n",
    "    else:\n",
    "        sortable_name= name[1] + ','+ name [0]\n",
    "        printable_name= name[0] + ','+ name [1]\n",
    "    formatted_names.append([sortable_name, printable_name])\n",
    "    formatted_names.sort()         \n",
    "    \n",
    "    for name in formatted_names:\n",
    "        if sorted_names=='':\n",
    "            sorted_name= name[1]\n",
    "        else:\n",
    "            sorted_names += ', ' + name[1]\n",
    " \n",
    "\n",
    "    ### END SOLUTION\n",
    "    \n",
    "    return sorted_names"
   ]
  },
  {
   "cell_type": "code",
   "execution_count": null,
   "metadata": {
    "jupyter": {
     "source_hidden": true
    }
   },
   "outputs": [],
   "source": [
    "names=  ['Paul', 'Boal'],['Kermit','the','Frog'],['Donald','Duck']\n",
    "formatted_names=[]\n",
    "for name in names:\n",
    "    if len(name)==3:\n",
    "        sortable_name=name[2]+ ', '+ name [1] + ' '+ name[0]\n",
    "        printable_name=name[0]+ ', '+ name [1] + ' '+name[1]\n",
    "    else:\n",
    "        sortable_name= name[1] + ','+ name [0]\n",
    "        printable_name= name[0] + ' '+ name [1]\n",
    "    formatted_names.append([sortable_name, printable_name])\n",
    "formatted_names.sort()         \n",
    "output=''    \n",
    "for name in formatted_names:\n",
    "    output=output+', ' + name[1]\n",
    "print(output)"
   ]
  },
  {
   "cell_type": "code",
   "execution_count": null,
   "metadata": {
    "jupyter": {
     "source_hidden": true
    }
   },
   "outputs": [],
   "source": [
    "names = ['Paul', 'Boal'],['Kermit','the','Frog'],['Donald','Duck']\n",
    "\n",
    "# 1. Create a list that I can easily sort\n",
    "#    But keep a key to the original input so I can go back to that later\n",
    "sortable_names = []\n",
    "for key, name in enumerate(names):\n",
    "    if len(name) == 3:\n",
    "        sortable_name = '{}, {} {}'.format(name[2],name[0],name[1])\n",
    "    else:\n",
    "        sortable_name = '{}, {}'.format(name[0],name[1])\n",
    "    sortable_names.append((sortable_name, key))\n",
    "\n",
    "# 2. Sort that list\n",
    "sorted_names = sorted(sortable_names)\n",
    "sorted_names"
   ]
  },
  {
   "cell_type": "code",
   "execution_count": null,
   "metadata": {
    "jupyter": {
     "source_hidden": true
    }
   },
   "outputs": [],
   "source": [
    "# 3. Format that sorted names the way I want them\n",
    "pretty_names = []\n",
    "for name in sorted_names:\n",
    "    name_key = name[1]\n",
    "    name_parts = names[name_key]\n",
    "    pretty_name = ' '.join(name_parts)\n",
    "    pretty_names.append(pretty_name)\n",
    "\n",
    "pretty_names"
   ]
  },
  {
   "cell_type": "code",
   "execution_count": null,
   "metadata": {
    "jupyter": {
     "source_hidden": true
    }
   },
   "outputs": [],
   "source": [
    "# 4. Combine names into an output string\n",
    "output = ', '.join(pretty_names)\n",
    "output"
   ]
  },
  {
   "cell_type": "markdown",
   "metadata": {},
   "source": [
    "### 20.2 Convert a dictionary to a list\n",
    "\n",
    "In this exercise, we're going to take a dictionary that has families and their names, and convert that into a list of names.  The dictionary is structured such that the key is the family name, and the value for that key is a list of first names.\n",
    "\n",
    "```\n",
    "{\n",
    "  'Boal': ['Paul', 'Anny', 'Jim'],\n",
    "  'Lester-Boal': ['Ellie', 'Ada', 'Teddy'],\n",
    "  'Lester': ['Sarahlynn', 'Jessica', 'Grace', 'Carolynn']\n",
    "}\n",
    "\n",
    "[['Boal', 'Paul'],\n",
    " ['Boal', 'Anny'],\n",
    " ['Boal', 'Jim'],\n",
    " ['Lester-Boal', 'Elliie'],\n",
    " ['Lester-Boal', 'Ada'],\n",
    " ...\n",
    "```"
   ]
  },
  {
   "cell_type": "code",
   "execution_count": null,
   "metadata": {},
   "outputs": [],
   "source": [
    "Families= {\n",
    "  'Boal': ['Paul', 'Anny', 'Jim'],\n",
    "  'Lester-Boal': ['Ellie', 'Ada', 'Teddy'],\n",
    "  'Lester': ['Sarahlynn', 'Jessica', 'Grace', 'Carolynn']\n",
    "}"
   ]
  },
  {
   "cell_type": "code",
   "execution_count": null,
   "metadata": {},
   "outputs": [],
   "source": [
    "output= []\n",
    "for last_name, first_names in Families.items():\n",
    "    print(last_name + '--'+ str(first_names))\n",
    "    for first in first_names:\n",
    "        output.append([last_name, first])\n",
    "print(output)\n",
    "    "
   ]
  },
  {
   "cell_type": "code",
   "execution_count": null,
   "metadata": {},
   "outputs": [],
   "source": [
    "def dict_to_list(families):\n",
    "    \n",
    "    output = []\n",
    "            \n",
    "    return output"
   ]
  },
  {
   "cell_type": "code",
   "execution_count": null,
   "metadata": {
    "jupyter": {
     "source_hidden": true
    }
   },
   "outputs": [],
   "source": [
    "def dict_to_list(families):\n",
    "    \n",
    "    output = []\n",
    "    for family, names in families.items():\n",
    "        for name in names:\n",
    "            output.append([family, name])\n",
    "            \n",
    "    return output"
   ]
  },
  {
   "cell_type": "code",
   "execution_count": null,
   "metadata": {
    "jupyter": {
     "source_hidden": true
    }
   },
   "outputs": [],
   "source": [
    "dict_to_list({\n",
    "  'Boal': ['Paul', 'Anny', 'Jim'],\n",
    "  'Lester-Boal': ['Ellie', 'Ada', 'Teddy'],\n",
    "  'Lester': ['Sarahlynn', 'Jessica', 'Grace', 'Carolynn']\n",
    "})"
   ]
  },
  {
   "cell_type": "code",
   "execution_count": null,
   "metadata": {
    "nbgrader": {
     "grade": false,
     "grade_id": "average",
     "locked": true,
     "schema_version": 1,
     "solution": false
    }
   },
   "outputs": [],
   "source": [
    "\n",
    "### 20.3 Convert a list to a dictionary\n",
    "\n",
    "Take the list of lists below and convert it into a dictionary where the entries in the dictionary are keyed off of whatever values are in column 0, and the dictionary values are the list of all the values that appear with that key from the input list."
   ]
  },
  {
   "cell_type": "code",
   "execution_count": null,
   "metadata": {
    "nbgrader": {
     "grade": false,
     "grade_id": "average-answer",
     "locked": false,
     "schema_version": 1,
     "solution": true
    }
   },
   "outputs": [],
   "source": [
    "def list_to_dict():\n",
    "\n",
    "    names = [['Boal', 'Paul'],\n",
    "             ['Duck', 'Donald'],\n",
    "             ['Duck', 'Daisy'],\n",
    "             ['Boal', 'Ada'],\n",
    "             ['Boal', 'Teddy'],\n",
    "             ['Westhus', 'Eric']]\n",
    "\n",
    "    # To help you, I've provided a blank dictionary named `families`.\n",
    "    families = {}\n",
    "    # Your code should loop through `names` and do something to build\n",
    "    # up `families` to be the output dictionary shown in the test\n",
    "    # cells below.\n",
    "\n",
    "    ### BEGIN SOLUTION\n",
    "    for names in names:\n",
    "        if names[0] in families:\n",
    "            families[names[0]].append(names[1])\n",
    "        else:\n",
    "            families[names[0]] = [names[1]]\n",
    "    ### END SOLUTION\n",
    "\n",
    "    return families\n"
   ]
  },
  {
   "cell_type": "code",
   "execution_count": null,
   "metadata": {},
   "outputs": [],
   "source": [
    "list_to_dict()"
   ]
  },
  {
   "cell_type": "code",
   "execution_count": null,
   "metadata": {
    "nbgrader": {
     "grade": true,
     "grade_id": "average-tests",
     "locked": true,
     "points": 5,
     "schema_version": 1,
     "solution": false
    }
   },
   "outputs": [],
   "source": [
    "answer = {\n",
    " 'Boal':    ['Paul', 'Ada', 'Teddy'],\n",
    " 'Duck':    ['Donald', 'Daisy'],\n",
    " 'Westhus': ['Eric']\n",
    "}\n",
    "\n",
    "assert (list_to_dict() == answer)"
   ]
  },
  {
   "cell_type": "markdown",
   "metadata": {},
   "source": [
    "### 20.4 Join using a dictionary\n",
    "\n",
    "We have a list of patients, diagnosis, and length of stay.  We also have a dictionary that contains diagnosis and average length of stay.  Produce an output list that lists the patient and an indicator if the patient's stay was 'too long', 'too short', 'just right'"
   ]
  },
  {
   "cell_type": "code",
   "execution_count": null,
   "metadata": {},
   "outputs": [],
   "source": []
  },
  {
   "cell_type": "code",
   "execution_count": null,
   "metadata": {
    "nbgrader": {
     "grade": false,
     "grade_id": "cell-f3813e33810dc898",
     "locked": false,
     "schema_version": 1,
     "solution": true
    }
   },
   "outputs": [],
   "source": [
    "def patient_los(avg_los, patients):\n",
    "    conclusions = []\n",
    "    ### BEGIN SOLUTION\n",
    "    import pandas as pd\n",
    "    avg_los = {\n",
    "                \"Hemolytic jaundice and perinatal jaundice\" : 2,\n",
    "                \"Medical examination/evaluation\" : 3.2,\n",
    "                \"Liveborn\" : 3.2,\n",
    "                \"Trauma to perineum and vulva\" : 2.1,\n",
    "                \"Normal pregnancy and/or delivery\" : 2,\n",
    "                \"Umbilical cord complication\" : 2.1,\n",
    "                \"Forceps delivery\" : 2.2,\n",
    "                \"Administrative/social admission\" : 4.2,\n",
    "                \"Prolonged pregnancy\" : 2.4,\n",
    "                \"Other complications of pregnancy\" : 2.5\n",
    "                }\n",
    "\n",
    "    los_a = []\n",
    "    for dx, los in avg_los.items():\n",
    "        for first in dx:\n",
    "            los_a.append([dx, los])   \n",
    "    columns=['dx','los']\n",
    "    los_df= pd.DataFrame(los_a,columns=columns)\n",
    "    patients = [['Boal', 'Medical examination/evaluation', 1.1],\n",
    "        ['Boal', 'Other complications of pregnancy', 3.3],\n",
    "        ['Jones', 'Liveborn', 3.2],\n",
    "        ['Ashbury', 'Forceps delivery', 2.0]]\n",
    "    columns2=[\"pt\", 'dx', \"los_actual\"]\n",
    "    pt_df=pd.DataFrame(patients, columns=columns2)\n",
    "    pt_los_df= pd.merge(pt_df, los_df,on='dx',how='inner' )\n",
    "    pt_los_df['dif']=pt_los_df['los']-pt_los_df['los_actual']\n",
    "    print(pt_los_df['dif'])\n",
    "    name= pt_los_df['pt'].tolist()\n",
    "    los= pt_los_df['los'].tolist()\n",
    "    diff=pt_los_df['dif'].tolist()\n",
    "    patient_los=[]\n",
    "    patient_los.append(los)\n",
    "    patient_los.append(name)\n",
    "    patient_los.append(diff)\n",
    "    print(patient_los)\n",
    "    for diff in patient_los:\n",
    "        if diff==0:\n",
    "            conclusion=\"just right\"\n",
    "        elif diff>0:\n",
    "                conclusions= 'too long'\n",
    "        else:\n",
    "                conclusion=\"too short\"\n",
    "    patient_los.append(conlusion)\n",
    "    ### END SOLUTION\n",
    "    print(conclusion) \n",
    "    #I could not get the code for th conclusions to work but wanted to turn in something"
   ]
  },
  {
   "cell_type": "code",
   "execution_count": null,
   "metadata": {},
   "outputs": [],
   "source": []
  },
  {
   "cell_type": "code",
   "execution_count": null,
   "metadata": {},
   "outputs": [],
   "source": [
    "avg_los = {\n",
    "    \"Hemolytic jaundice and perinatal jaundice\" : 2,\n",
    "    \"Medical examination/evaluation\" : 3.2,\n",
    "    \"Liveborn\" : 3.2,\n",
    "    \"Trauma to perineum and vulva\" : 2.1,\n",
    "    \"Normal pregnancy and/or delivery\" : 2,\n",
    "    \"Umbilical cord complication\" : 2.1,\n",
    "    \"Forceps delivery\" : 2.2,\n",
    "    \"Administrative/social admission\" : 4.2,\n",
    "    \"Prolonged pregnancy\" : 2.4,\n",
    "    \"Other complications of pregnancy\" : 2.5\n",
    "}\n",
    "\n",
    "patients = [\n",
    "    ['Boal', 'Medical examination/evaluation', 1.1],\n",
    "    ['Boal', 'Other complications of pregnancy', 3.3],\n",
    "    ['Jones', 'Liveborn', 3.2],\n",
    "    ['Ashbury', 'Forceps delivery', 2.0]\n",
    "]\n",
    "\n",
    "patient_los(avg_los, patients)"
   ]
  },
  {
   "cell_type": "code",
   "execution_count": null,
   "metadata": {
    "nbgrader": {
     "grade": true,
     "grade_id": "cell-2af0a520bb56ee21",
     "locked": true,
     "points": 10,
     "schema_version": 1,
     "solution": false
    }
   },
   "outputs": [],
   "source": [
    "conclusions = [['Boal', 'too short'],\n",
    "    ['Boal', 'too long'],\n",
    "    ['Jones', 'just right'],\n",
    "    ['Ashbury', 'too short']]\n",
    "\n",
    "assert(patient_los(avg_los, patients) == conclusions)"
   ]
  },
  {
   "cell_type": "code",
   "execution_count": null,
   "metadata": {},
   "outputs": [],
   "source": []
  },
  {
   "cell_type": "markdown",
   "metadata": {},
   "source": [
    "---\n",
    "\n",
    "## Submitting Your Work\n",
    "\n",
    "In order to submit your work, you'll need to use the `git` command line program to **add** your homework file (this file) to your local repository, **commit** your changes to your local repository, and then **push** those changes up to github.com.  From there, I'll be able to **pull** the changes down and do my grading.  I'll provide some feedback, **commit** and **push** my comments back to you.  Next week, I'll show you how to **pull** down my comments.\n",
    "\n",
    "To run through everything one last time and submit your work:\n",
    "1. Use the `Kernel` -> `Restart Kernel and Run All Cells` menu option to run everything from top to bottom and stop here.\n",
    "2. Save this note with Ctrl-S (or Cmd-S)\n",
    "2. Skip down to the last command cell (the one starting with `%%bash`) and run that cell.\n",
    "\n",
    "If anything fails along the way with this submission part of the process, let me know.  I'll help you troubleshoort."
   ]
  },
  {
   "cell_type": "code",
   "execution_count": null,
   "metadata": {},
   "outputs": [],
   "source": [
    "assert False, \"DO NOT REMOVE THIS LINE\""
   ]
  },
  {
   "cell_type": "markdown",
   "metadata": {},
   "source": [
    "---"
   ]
  },
  {
   "cell_type": "code",
   "execution_count": 1,
   "metadata": {},
   "outputs": [
    {
     "name": "stdout",
     "output_type": "stream",
     "text": [
      "Already up to date.\n",
      "[main dbbfdb1] Submitting the week 4 programming assignment\n",
      " 2 files changed, 631 insertions(+), 4 deletions(-)\n",
      " create mode 100644 week04/week04_assignment_2.ipynb\n"
     ]
    },
    {
     "name": "stderr",
     "output_type": "stream",
     "text": [
      "To github.com:skuca/hds5210-2021.git\n",
      "   de317d6..dbbfdb1  main -> main\n"
     ]
    }
   ],
   "source": [
    "%%bash\n",
    "git pull\n",
    "git add week04_assignment_2.ipynb\n",
    "git commit -a -m \"Submitting the week 4 programming assignment\"\n",
    "git push"
   ]
  },
  {
   "cell_type": "markdown",
   "metadata": {},
   "source": [
    "\n",
    "---\n",
    "\n",
    "If the message above says something like _Submitting the week 4 programming assignment_ or _Everything is up to date_, then your work was submitted correctly."
   ]
  }
 ],
 "metadata": {
  "celltoolbar": "Create Assignment",
  "kernelspec": {
   "display_name": "Python 3",
   "language": "python",
   "name": "python3"
  },
  "language_info": {
   "codemirror_mode": {
    "name": "ipython",
    "version": 3
   },
   "file_extension": ".py",
   "mimetype": "text/x-python",
   "name": "python",
   "nbconvert_exporter": "python",
   "pygments_lexer": "ipython3",
   "version": "3.6.7"
  }
 },
 "nbformat": 4,
 "nbformat_minor": 2
}
